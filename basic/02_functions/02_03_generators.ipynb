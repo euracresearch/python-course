{
 "cells": [
  {
   "cell_type": "markdown",
   "metadata": {},
   "source": [
    "# Write your generator using `yield`\n",
    "\n",
    "In the previous section, we saw that generator objects are the preferred way to work in Python to use the CPU and the memory resources of your computer only when strictly necessary.\n",
    "\n",
    "To create a generator, instead of using the command `return` inside the function, you need to use the command `yield`."
   ]
  },
  {
   "cell_type": "code",
   "execution_count": null,
   "metadata": {
    "pycharm": {
     "name": "#%%\n"
    }
   },
   "outputs": [],
   "source": [
    "from typing import Iterable\n",
    "\n",
    "def mygenerator(number: int) -> Iterable[str]:\n",
    "    yield \"a\"\n",
    "    yield \"b\"\n",
    "    yield \"odd\" if number % 2 else \"even\"\n",
    "\n",
    "mygen = mygenerator(3)\n",
    "print(next(mygen))\n",
    "print(next(mygen))\n",
    "print(next(mygen))\n",
    "print(next(mygen))"
   ]
  },
  {
   "cell_type": "markdown",
   "metadata": {},
   "source": [
    "## Time for coding!\n",
    "\n",
    "Write your own generator!!!\n",
    "Define a function that takes a number and returns a generator to convert the number into a list of text."
   ]
  },
  {
   "cell_type": "code",
   "execution_count": null,
   "metadata": {
    "pycharm": {
     "name": "#%%\n"
    }
   },
   "outputs": [],
   "source": [
    "from typing import Iterable\n",
    "\n",
    "def num2text(number: int) -> Iterable[str]:\n",
    "    \"\"\"Convert an integer into a generator of strings\n",
    "\n",
    "    Example\n",
    "    -------\n",
    "    >>> list(num2text(567435))\n",
    "    ['five', 'six', 'seven', 'four', 'three', 'five']\n",
    "\n",
    "    \"\"\"\n",
    "    # write your code here\n",
    "    ...\n",
    "\n",
    "list(num2text(567435))"
   ]
  }
 ],
 "metadata": {
  "kernelspec": {
   "display_name": "Python 3",
   "language": "python",
   "name": "python3"
  },
  "language_info": {
   "codemirror_mode": {
    "name": "ipython",
    "version": 3
   },
   "file_extension": ".py",
   "mimetype": "text/x-python",
   "name": "python",
   "nbconvert_exporter": "python",
   "pygments_lexer": "ipython3",
   "version": "3.8.2"
  }
 },
 "nbformat": 4,
 "nbformat_minor": 1
}
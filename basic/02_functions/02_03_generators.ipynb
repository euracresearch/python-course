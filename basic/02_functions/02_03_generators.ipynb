{
 "cells": [
  {
   "cell_type": "code",
   "execution_count": null,
   "metadata": {
    "collapsed": true
   },
   "outputs": [],
   "source": []
  },
  {
   "cell_type": "markdown",
   "source": [
    "# Write your generator using `yield`\n",
    "\n",
    "In the previous section, we have seen that the generator objects are the prefered way to work in python to use the CPU and the memory of u computer only when strictly required.\n",
    "To create a generator you have to use, inside the code of a function, instead of the word `return` the word `yield`"
   ],
   "metadata": {
    "collapsed": false
   }
  },
  {
   "cell_type": "code",
   "execution_count": null,
   "outputs": [],
   "source": [
    "from typing import Iterable\n",
    "\n",
    "def mygenerator(number: int) -> Iterable[str]:\n",
    "    yield \"a\"\n",
    "    yield \"b\"\n",
    "    yield \"odd\" if number % 2 else \"even\"\n",
    "\n",
    "mygen = mygenerator(3)\n",
    "print(next(mygen))\n",
    "print(next(mygen))\n",
    "print(next(mygen))\n",
    "print(next(mygen))"
   ],
   "metadata": {
    "collapsed": false,
    "pycharm": {
     "name": "#%%\n"
    }
   }
  },
  {
   "cell_type": "markdown",
   "source": [
    "## Time for coding!\n",
    "\n",
    "Write your own generator!!!\n",
    "Define a function that takes a number and return a generator to convert the numer into a list of text."
   ],
   "metadata": {
    "collapsed": false
   }
  },
  {
   "cell_type": "code",
   "execution_count": null,
   "outputs": [],
   "source": [
    "from typing import Iterable\n",
    "\n",
    "def num2text(number: int) -> Iterable[str]:\n",
    "    \"\"\"Convert an integer into a generator of strings\n",
    "\n",
    "    Example\n",
    "    -------\n",
    "    >>> list(num2text(567435))\n",
    "    ['five', 'six', 'seven', 'four', 'three', 'five']\n",
    "\n",
    "    \"\"\"\n",
    "    # write your code here\n",
    "    ...\n",
    "\n",
    "list(num2text(567435))\n"
   ],
   "metadata": {
    "collapsed": false,
    "pycharm": {
     "name": "#%%\n"
    }
   }
  }
 ],
 "metadata": {
  "kernelspec": {
   "display_name": "Python 3",
   "language": "python",
   "name": "python3"
  },
  "language_info": {
   "codemirror_mode": {
    "name": "ipython",
    "version": 2
   },
   "file_extension": ".py",
   "mimetype": "text/x-python",
   "name": "python",
   "nbconvert_exporter": "python",
   "pygments_lexer": "ipython2",
   "version": "2.7.6"
  }
 },
 "nbformat": 4,
 "nbformat_minor": 0
}
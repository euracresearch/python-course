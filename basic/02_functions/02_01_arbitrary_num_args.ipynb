{
 "cells": [
  {
   "cell_type": "markdown",
   "source": [
    "# Arbitrary number of arguments and/or keyword arguments"
   ],
   "metadata": {
    "collapsed": false
   }
  },
  {
   "cell_type": "code",
   "execution_count": null,
   "outputs": [],
   "source": [
    "def func(*args, **kwargs):\n",
    "    for arg in args:\n",
    "        print(arg)\n",
    "    for key, arg in kwargs.items():\n",
    "        print(key, arg)"
   ],
   "metadata": {
    "collapsed": false,
    "pycharm": {
     "name": "#%%\n"
    }
   }
  },
  {
   "cell_type": "code",
   "execution_count": null,
   "outputs": [],
   "source": [
    "func('apple', 'orange', 'banana')"
   ],
   "metadata": {
    "collapsed": false,
    "pycharm": {
     "name": "#%%\n"
    }
   }
  },
  {
   "cell_type": "code",
   "execution_count": null,
   "outputs": [],
   "source": [
    "func(fruit=['apple', 'orange', 'banana'], other=['turnip', 'carots', 'potatos'])"
   ],
   "metadata": {
    "collapsed": false,
    "pycharm": {
     "name": "#%%\n"
    }
   }
  },
  {
   "cell_type": "code",
   "execution_count": null,
   "outputs": [],
   "source": [
    "func('apple', 'orange', 'banana', other=['turnip', 'carots', 'potatos'])"
   ],
   "metadata": {
    "collapsed": false,
    "pycharm": {
     "name": "#%%\n"
    }
   }
  },
  {
   "cell_type": "code",
   "execution_count": null,
   "outputs": [],
   "source": [
    "func(*['apple', 'orange', 'banana'])"
   ],
   "metadata": {
    "collapsed": false,
    "pycharm": {
     "name": "#%%\n"
    }
   }
  },
  {
   "cell_type": "code",
   "execution_count": null,
   "outputs": [],
   "source": [
    "func(**dict(fruit=['apple', 'orange', 'banana'], other=['turnip', 'carots', 'potatos']))"
   ],
   "metadata": {
    "collapsed": false,
    "pycharm": {
     "name": "#%%\n"
    }
   }
  },
  {
   "cell_type": "markdown",
   "source": [
    "## Mix positional arguments, default arguments and arbitrary arguments"
   ],
   "metadata": {
    "collapsed": false
   }
  },
  {
   "cell_type": "code",
   "execution_count": null,
   "outputs": [],
   "source": [
    "def newfunc(x, y, default=0, verbose=False, *myargs, **mykwargs):\n",
    "    print(f\"x: {x}\")\n",
    "    print(f\"y: {y}\")\n",
    "    print(f\"default: {default}\")\n",
    "    print(f\"verbose: {verbose}\")\n",
    "    print(f\"myargs: *{myargs}\")\n",
    "    print(f\"mykwargs: **{mykwargs}\")"
   ],
   "metadata": {
    "collapsed": false,
    "pycharm": {
     "name": "#%%\n"
    }
   }
  },
  {
   "cell_type": "code",
   "execution_count": null,
   "outputs": [],
   "source": [
    "newfunc(1, # x\n",
    "        2) # y\n",
    "\n",
    "print(\"-\" * 30)\n",
    "\n",
    "newfunc(1, # x\n",
    "        2, # y\n",
    "        3, # default\n",
    "        4, # verbose\n",
    "        5, # myargs 0\n",
    "        6, # myargs 1\n",
    "        7, # myargs 2\n",
    "        8, # myargs 3\n",
    "        9) # myargs 4\n",
    "\n",
    "print(\"-\" * 30)\n",
    "\n",
    "newfunc(1, # x\n",
    "        2, # y\n",
    "        3, # default\n",
    "        True, # verbose\n",
    "        5, # myargs 0\n",
    "        6, # myargs 1\n",
    "        7, # myargs 2\n",
    "        8, # myargs 3\n",
    "        9, # myargs 4\n",
    "        save=True, # mykwargs 0\n",
    "        something_else=1200) #mykwargs 1"
   ],
   "metadata": {
    "collapsed": false,
    "pycharm": {
     "name": "#%%\n"
    }
   }
  },
  {
   "cell_type": "markdown",
   "source": [
    "## Time for coding!"
   ],
   "metadata": {
    "collapsed": false
   }
  },
  {
   "cell_type": "markdown",
   "source": [
    "Define a function that acept an arbitrary number of parameters and return their product."
   ],
   "metadata": {
    "collapsed": false
   }
  },
  {
   "cell_type": "code",
   "execution_count": null,
   "outputs": [],
   "source": [
    "def multiply(*args):\n",
    "    \"\"\"Return the product of all the arguments. ::\n",
    "\n",
    "        >>> multiply(0, 1, 2, 3)\n",
    "        0\n",
    "        >>> multiply(1, 2, 3):\n",
    "        6\n",
    "    \"\"\"\n",
    "    pass"
   ],
   "metadata": {
    "collapsed": false,
    "pycharm": {
     "name": "#%%\n"
    }
   }
  }
 ],
 "metadata": {
  "kernelspec": {
   "display_name": "Python 3",
   "language": "python",
   "name": "python3"
  },
  "language_info": {
   "codemirror_mode": {
    "name": "ipython",
    "version": 2
   },
   "file_extension": ".py",
   "mimetype": "text/x-python",
   "name": "python",
   "nbconvert_exporter": "python",
   "pygments_lexer": "ipython2",
   "version": "2.7.6"
  }
 },
 "nbformat": 4,
 "nbformat_minor": 0
}
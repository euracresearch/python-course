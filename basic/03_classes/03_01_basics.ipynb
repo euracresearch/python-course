{
 "cells": [
  {
   "cell_type": "markdown",
   "metadata": {
    "collapsed": true,
    "pycharm": {
     "name": "#%% md\n"
    }
   },
   "source": [
    "# Classes\n",
    "\n",
    "Everything in python with the exception of `type` is an object.\n",
    "To define an object definition in python we define a `class`.\n",
    "\n",
    "The pseudo-syntax for a class is:\n",
    "\n",
    "```python\n",
    "\n",
    "class {ClassName}:\n",
    "    def {method0}(self, *args, **kwargs):\n",
    "        ...\n",
    "\n",
    "    def {method1}(self, *args, **kwargs):\n",
    "        ...\n",
    "```\n",
    "\n",
    "So let's define an empty class"
   ]
  },
  {
   "cell_type": "code",
   "execution_count": null,
   "metadata": {
    "pycharm": {
     "name": "#%%\n"
    }
   },
   "outputs": [],
   "source": [
    "class Animal:\n",
    "    ..."
   ]
  },
  {
   "cell_type": "markdown",
   "metadata": {
    "pycharm": {
     "name": "#%% md\n"
    }
   },
   "source": [
    "Now we need to instantiate a new object, that means that we are reading the class definition to create an object."
   ]
  },
  {
   "cell_type": "code",
   "execution_count": null,
   "metadata": {
    "pycharm": {
     "name": "#%%\n"
    }
   },
   "outputs": [],
   "source": [
    "dog = Animal()"
   ]
  },
  {
   "cell_type": "code",
   "execution_count": null,
   "metadata": {
    "pycharm": {
     "name": "#%%\n"
    }
   },
   "outputs": [],
   "source": [
    "print(dog)\n"
   ]
  },
  {
   "cell_type": "markdown",
   "metadata": {
    "pycharm": {
     "name": "#%% md\n"
    }
   },
   "source": [
    "We can add attributes to this object, and we can access them"
   ]
  },
  {
   "cell_type": "code",
   "execution_count": null,
   "metadata": {
    "pycharm": {
     "name": "#%%\n"
    }
   },
   "outputs": [],
   "source": [
    "dog.name = \"pluto\"\n",
    "print(dog.name)\n"
   ]
  },
  {
   "cell_type": "markdown",
   "metadata": {
    "pycharm": {
     "name": "#%% md\n"
    }
   },
   "source": [
    "However, the attributes add using the above method are temporary and linked to the instance not to the class definition.\n",
    "Infact if we instance a new dog, the `name` attribute does not exists:"
   ]
  },
  {
   "cell_type": "code",
   "execution_count": null,
   "metadata": {
    "pycharm": {
     "name": "#%%\n"
    }
   },
   "outputs": [],
   "source": [
    "dog = Animal()\n",
    "print(dog.name)\n",
    "# => AttributeError: 'Animal' object has no attribute 'name'"
   ]
  },
  {
   "cell_type": "markdown",
   "metadata": {
    "pycharm": {
     "name": "#%% md\n"
    }
   },
   "source": [
    "# Attributes\n",
    "\n",
    "## class attributes\n",
    "\n",
    "Class attributes belong to the class itself they will be shared by all the instances.\n",
    "Such attributes are defined in the class body parts usually at the top, for legibility."
   ]
  },
  {
   "cell_type": "code",
   "execution_count": null,
   "metadata": {
    "pycharm": {
     "name": "#%%\n"
    }
   },
   "outputs": [],
   "source": [
    "class Dog:\n",
    "    name = \"pluto\""
   ]
  },
  {
   "cell_type": "code",
   "execution_count": null,
   "metadata": {
    "pycharm": {
     "name": "#%%\n"
    }
   },
   "outputs": [],
   "source": [
    "dog0 = Dog()\n",
    "dog1 = Dog()"
   ]
  },
  {
   "cell_type": "code",
   "execution_count": null,
   "metadata": {
    "pycharm": {
     "name": "#%%\n"
    }
   },
   "outputs": [],
   "source": [
    "print(dog0.name)\n",
    "print(dog1.name)\n",
    "\n",
    "print(id(dog0.name))\n",
    "print(id(dog1.name))\n"
   ]
  },
  {
   "cell_type": "code",
   "execution_count": null,
   "metadata": {
    "pycharm": {
     "name": "#%%\n"
    }
   },
   "outputs": [],
   "source": [
    "dog0.name = \"melampo\"\n",
    "print(dog0.name)\n",
    "dog1.name = \"ritintin\"\n",
    "print(dog1.name)\n",
    "\n",
    "print(id(dog0.name))\n",
    "print(id(dog1.name))\n"
   ]
  },
  {
   "cell_type": "code",
   "execution_count": null,
   "metadata": {
    "pycharm": {
     "name": "#%%\n"
    }
   },
   "outputs": [],
   "source": [
    "dog0 = Dog()\n",
    "dog1 = Dog()\n",
    "\n",
    "Dog.name = \"melampo\"\n",
    "\n",
    "print(dog0.name)\n",
    "print(dog1.name)\n",
    "\n",
    "print(id(dog0.name))\n",
    "print(id(dog1.name))"
   ]
  },
  {
   "cell_type": "code",
   "execution_count": null,
   "metadata": {
    "pycharm": {
     "name": "#%%\n"
    }
   },
   "outputs": [],
   "source": [
    "Dog.name = \"ciccio\"\n",
    "\n",
    "print(dog0.name)\n",
    "print(dog1.name)\n",
    "\n",
    "print(dog0.__class__.name)"
   ]
  },
  {
   "cell_type": "markdown",
   "metadata": {
    "pycharm": {
     "name": "#%% md\n"
    }
   },
   "source": [
    "## instance attributes\n",
    "\n",
    "The instance attributes are attributes that exist only for the specific instance created into the memory:\n",
    "They are created in the `__init__(self)` method.\n",
    "\n",
    "To define a method in python we have this pseudo-syntax:\n",
    "\n",
    "```python\n",
    "class {ClassName}:\n",
    "    def {method_name}(self, *args, **kwargs):\n",
    "        ...\n",
    "```\n",
    "\n",
    "The `__init__` method is a `magic` method that is executed when the object is instanziate.\n",
    "\n",
    "Class in programming is just a template that defines some data and functionality.\n",
    "Only when an **instance** of this template is created, it becomes and actual object,\n",
    "kept in memory during the run-time.\n"
   ]
  },
  {
   "cell_type": "code",
   "execution_count": null,
   "metadata": {
    "pycharm": {
     "name": "#%%\n"
    }
   },
   "outputs": [],
   "source": [
    "class Dog:\n",
    "    def __init__(self, name):\n",
    "       self.name = name\n"
   ]
  },
  {
   "cell_type": "code",
   "execution_count": null,
   "metadata": {
    "pycharm": {
     "name": "#%%\n"
    }
   },
   "outputs": [],
   "source": [
    "dog0 = Dog()\n",
    "dog1 = Dog()"
   ]
  },
  {
   "cell_type": "code",
   "execution_count": null,
   "metadata": {
    "pycharm": {
     "name": "#%%\n"
    }
   },
   "outputs": [],
   "source": [
    "print(dog0.name)\n",
    "print(dog1.name)\n",
    "\n",
    "print(id(dog0.name))\n",
    "print(id(dog1.name))\n",
    "\n"
   ]
  },
  {
   "cell_type": "markdown",
   "metadata": {
    "pycharm": {
     "name": "#%% md\n"
    }
   },
   "source": [
    "Let's define a Cow object to clarify the difference"
   ]
  },
  {
   "cell_type": "code",
   "execution_count": null,
   "metadata": {
    "pycharm": {
     "name": "#%%\n"
    }
   },
   "outputs": [],
   "source": [
    "class Cow:\n",
    "    herd = 0\n",
    "    def __init__(self, name):\n",
    "        # set instance attribute\n",
    "        self.name = name\n",
    "        # update class attribute\n",
    "        Cow.herd += 1\n"
   ]
  },
  {
   "cell_type": "code",
   "execution_count": null,
   "metadata": {
    "pycharm": {
     "name": "#%%\n"
    }
   },
   "outputs": [],
   "source": [
    "cow0 = Cow(\"clarabella\")"
   ]
  },
  {
   "cell_type": "code",
   "execution_count": null,
   "metadata": {
    "pycharm": {
     "name": "#%%\n"
    }
   },
   "outputs": [],
   "source": [
    "print(f\"{cow0.name}, {cow0.herd}\")"
   ]
  },
  {
   "cell_type": "code",
   "execution_count": null,
   "metadata": {
    "pycharm": {
     "name": "#%%\n"
    }
   },
   "outputs": [],
   "source": [
    "cow1 = Cow(\"Fionda\")"
   ]
  },
  {
   "cell_type": "code",
   "execution_count": null,
   "metadata": {
    "pycharm": {
     "name": "#%%\n"
    }
   },
   "outputs": [],
   "source": [
    "print(f\"{cow1.name}, {cow1.herd}\")"
   ]
  },
  {
   "cell_type": "code",
   "execution_count": null,
   "metadata": {
    "pycharm": {
     "name": "#%%\n"
    }
   },
   "outputs": [],
   "source": [
    "print(f\"{cow0.name}, {cow0.herd}\")"
   ]
  },
  {
   "cell_type": "code",
   "execution_count": null,
   "metadata": {
    "pycharm": {
     "name": "#%%\n"
    }
   },
   "outputs": [],
   "source": [
    "print(cow0)"
   ]
  },
  {
   "cell_type": "markdown",
   "metadata": {
    "pycharm": {
     "name": "#%% md\n"
    }
   },
   "source": [
    "Let's add some capability to our Cow."
   ]
  },
  {
   "cell_type": "code",
   "execution_count": null,
   "metadata": {
    "pycharm": {
     "name": "#%%\n"
    }
   },
   "outputs": [],
   "source": [
    "class Cow:\n",
    "    herd = 0\n",
    "    def __init__(self, name):\n",
    "        # set instance attribute\n",
    "        self.name = name\n",
    "        # update class attribute\n",
    "        Cow.herd += 1\n",
    "\n",
    "    def speak(self):\n",
    "        print(\"MuuuUUU!!!\")"
   ]
  },
  {
   "cell_type": "code",
   "execution_count": null,
   "metadata": {
    "pycharm": {
     "name": "#%%\n"
    }
   },
   "outputs": [],
   "source": [
    "cow = Cow(\"Fionda\")\n",
    "cow.speak()"
   ]
  },
  {
   "cell_type": "code",
   "execution_count": null,
   "metadata": {
    "pycharm": {
     "name": "#%%\n"
    }
   },
   "outputs": [],
   "source": [
    "class Dog:\n",
    "    def __init__(self, name):\n",
    "        # set instance attribute\n",
    "        self.name = name\n",
    "\n",
    "    def speak(self):\n",
    "        print(\"Bau!\")"
   ]
  },
  {
   "cell_type": "code",
   "execution_count": null,
   "metadata": {
    "pycharm": {
     "name": "#%%\n"
    }
   },
   "outputs": [],
   "source": [
    "dog = Dog(\"Melampo\")\n",
    "dog.speak()"
   ]
  },
  {
   "cell_type": "markdown",
   "metadata": {
    "pycharm": {
     "name": "#%% md\n"
    }
   },
   "source": [
    "To avoid code repetition, we can define an unique class"
   ]
  },
  {
   "cell_type": "code",
   "execution_count": null,
   "metadata": {
    "pycharm": {
     "name": "#%%\n"
    }
   },
   "outputs": [],
   "source": [
    "class Animal:\n",
    "    def __init__(self, name):\n",
    "        self.name = name\n",
    "\n",
    "class Dog(Animal):\n",
    "    def speak(self):\n",
    "        print(\"Bau!!\")\n",
    "\n",
    "class Cow(Animal):\n",
    "    def speak(self):\n",
    "        print(\"MouuUUU!!\")"
   ]
  },
  {
   "cell_type": "code",
   "execution_count": null,
   "metadata": {
    "pycharm": {
     "name": "#%%\n"
    }
   },
   "outputs": [],
   "source": [
    "dog = Dog(name=\"melampo\")\n",
    "cow = Cow(name=\"Fionda\")\n",
    "\n",
    "for animal in [dog, cow]:\n",
    "    animal.speak()"
   ]
  },
  {
   "cell_type": "code",
   "execution_count": null,
   "metadata": {
    "pycharm": {
     "name": "#%%\n"
    }
   },
   "outputs": [],
   "source": [
    "class Animal:\n",
    "    sound = None\n",
    "\n",
    "    def __init__(self, name):\n",
    "        self.name = name\n",
    "\n",
    "    def speak(self):\n",
    "        print(self.sound)\n",
    "\n",
    "\n",
    "class Dog(Animal):\n",
    "    sound = \"Bau!!!\"\n",
    "\n",
    "\n",
    "class Cow(Animal):\n",
    "    sound = \"MoouuUUU!!!\"\n",
    "\n",
    "dog = Dog(name=\"melampo\")\n",
    "cow = Cow(name=\"Fionda\")\n",
    "\n",
    "for animal in [dog, cow]:\n",
    "    animal.speak()"
   ]
  },
  {
   "cell_type": "markdown",
   "metadata": {
    "pycharm": {
     "name": "#%% md\n"
    }
   },
   "source": [
    "How can we improve the printed output?\n",
    "\n",
    "We can define the output using another magic method"
   ]
  },
  {
   "cell_type": "code",
   "execution_count": null,
   "metadata": {
    "pycharm": {
     "name": "#%%\n"
    }
   },
   "outputs": [],
   "source": [
    "class Animal:\n",
    "    sound = None\n",
    "    def __init__(self, name):\n",
    "        self.name = name\n",
    "\n",
    "    def speak(self):\n",
    "        print(self.sound)\n",
    "\n",
    "    def __repr__(self):\n",
    "        return f\"{self.__class__.__name__}(name={self.name})\"\n",
    "\n",
    "class Dog(Animal):\n",
    "    sound = \"Bau!!!\"\n",
    "\n",
    "class Cow(Animal):\n",
    "    sound = \"MoouuUUU!!!\"\n",
    "\n",
    "dog = Dog(name=\"melampo\")\n",
    "cow = Cow(name=\"Fionda\")\n",
    "\n",
    "for animal in [dog, cow]:\n",
    "    print(animal, end=\": \")\n",
    "    animal.speak()\n"
   ]
  },
  {
   "cell_type": "markdown",
   "metadata": {
    "pycharm": {
     "name": "#%% md\n"
    }
   },
   "source": [
    "## Time for coding\n",
    "\n",
    "Add the attribute owner to Animal and update the `__repr__` method"
   ]
  },
  {
   "cell_type": "code",
   "execution_count": null,
   "metadata": {
    "pycharm": {
     "name": "#%%\n"
    }
   },
   "outputs": [],
   "source": [
    "# add you code here"
   ]
  },
  {
   "cell_type": "code",
   "execution_count": null,
   "metadata": {
    "pycharm": {
     "name": "#%%\n"
    }
   },
   "outputs": [],
   "source": [
    "class Animal:\n",
    "    sound = None\n",
    "    icon = None\n",
    "    def __init__(self, name):\n",
    "        self.name = name\n",
    "\n",
    "    def speak(self):\n",
    "        print(self.sound)\n",
    "\n",
    "    def __repr__(self):\n",
    "        return f\"{self.__class__.__name__}(name={self.name})\"\n",
    "\n",
    "class FarmAnimal(Animal):\n",
    "    def __init__(self, name, unit, value):\n",
    "        Animal.__init__(self, name)\n",
    "        self.unit = unit\n",
    "        self.value = value\n",
    "        self.produce = f\"{self.value * self.unit}\"\n",
    "        \n",
    "    def __repr__(self):\n",
    "        return f\"I'm a {self.__class__.__name__} {self.icon} and I produce: {self.produce}\"\n",
    "\n",
    "class Dog(Animal):\n",
    "    sound = \"Bau!!!\"\n",
    "    icon = \"🐶\"\n",
    "\n",
    "class Cow(FarmAnimal):\n",
    "    sound = \"MoouuUUU!!!\"\n",
    "    icon = \"🐮\"\n",
    "\n",
    "class Chicken(FarmAnimal):\n",
    "    sound = \"bah-gawk\"\n",
    "    icon = \"🐔\"\n",
    "\n",
    "dog = Dog(name=\"melampo\")\n",
    "cow = Cow(name=\"Fionda\", unit=5, value=\"🥛\")\n",
    "chicken = Chicken(name=\"Guendalina\", unit=2, value=\"🥚\")\n",
    "\n",
    "print(dog)\n",
    "print(cow)\n",
    "print(chicken)"
   ]
  },
  {
   "cell_type": "markdown",
   "metadata": {
    "pycharm": {
     "name": "#%%\n"
    }
   },
   "source": [
    "# Getters and Setters"
   ]
  },
  {
   "cell_type": "code",
   "execution_count": null,
   "metadata": {},
   "outputs": [],
   "source": [
    "cow = Cow(name=\"Fionda\", unit=5, value=\"🥛\")\n",
    "print(cow)\n",
    "\n",
    "cow.unit = 8\n",
    "print(cow)"
   ]
  },
  {
   "cell_type": "code",
   "execution_count": null,
   "metadata": {},
   "outputs": [],
   "source": [
    "class FarmAnimal(Animal):\n",
    "    def __init__(self, name, unit, value):\n",
    "        Animal.__init__(self, name)\n",
    "        self.unit = unit\n",
    "        self.value = value\n",
    "\n",
    "    @property\n",
    "    def produce(self):\n",
    "        return f\"{self.value * self.unit}\"\n",
    "        \n",
    "    def __repr__(self):\n",
    "        return f\"I'm a {self.__class__.__name__} {self.icon} and I produce: {self.produce}\"\n",
    "\n",
    "class Cow(FarmAnimal):\n",
    "    sound = \"MoouuUUU!!!\"\n",
    "    icon = \"🐮\"\n",
    "    \n",
    "class Chicken(FarmAnimal):\n",
    "    sound = \"bah-gawk\"\n",
    "    icon = \"🐔\"\n",
    "\n",
    "cow = Cow(name=\"Fionda\", unit=5, value=\"🥛\")\n",
    "print(cow)\n",
    "\n",
    "cow.unit = 8\n",
    "print(cow)"
   ]
  },
  {
   "cell_type": "code",
   "execution_count": null,
   "metadata": {},
   "outputs": [],
   "source": [
    "print(cow.value * cow.unit)"
   ]
  },
  {
   "cell_type": "code",
   "execution_count": null,
   "metadata": {},
   "outputs": [],
   "source": [
    "print(cow.produce)"
   ]
  },
  {
   "cell_type": "code",
   "execution_count": null,
   "metadata": {},
   "outputs": [],
   "source": [
    "class FarmAnimal(Animal):\n",
    "    _unit = None\n",
    "    _value = None\n",
    "    \n",
    "    def __init__(self, name, unit, value):\n",
    "        Animal.__init__(self, name)\n",
    "        self.unit = unit\n",
    "        self.value = value\n",
    "        # self.produce = f\"{value * unit}\"\n",
    "        \n",
    "\n",
    "    def _set_unit(self, unit):\n",
    "        self._unit = unit\n",
    "        self.produce = f\"{self.value * unit}\"\n",
    "    \n",
    "    def _get_unit(self):\n",
    "        return self._unit\n",
    "    \n",
    "    unit = property(fget=_get_unit, fset=_set_unit)\n",
    "    \n",
    "    def _set_value(self, value):\n",
    "        self._value = value\n",
    "        self.produce = f\"{value * self.unit}\"\n",
    "    \n",
    "    def _get_value(self):\n",
    "        return self._value\n",
    "    \n",
    "    value = property(fget=_get_value, fset=_set_value)\n",
    "        \n",
    "    def __repr__(self):\n",
    "        return f\"I'm a {self.__class__.__name__} {self.icon} and I produce: {self.produce}\"\n",
    "\n",
    "class Cow(FarmAnimal):\n",
    "    sound = \"MoouuUUU!!!\"\n",
    "    icon = \"🐮\"\n",
    "    \n",
    "class Chicken(FarmAnimal):\n",
    "    sound = \"bah-gawk\"\n",
    "    icon = \"🐔\"\n",
    "\n",
    "cow = Cow(name=\"Fionda\", unit=5, value=\"🥛\")\n",
    "print(cow)\n",
    "\n",
    "cow.unit = 8\n",
    "print(cow)"
   ]
  },
  {
   "cell_type": "code",
   "execution_count": null,
   "metadata": {},
   "outputs": [],
   "source": [
    "property?"
   ]
  },
  {
   "cell_type": "code",
   "execution_count": null,
   "metadata": {},
   "outputs": [],
   "source": [
    "class FarmAnimal(Animal):\n",
    "\n",
    "    def __init__(self, name, unit, value):\n",
    "        Animal.__init__(self, name)\n",
    "        self.unit = unit\n",
    "        self.value = value\n",
    "        self.produce = f\"{value * unit}\"\n",
    "        \n",
    "    def __setitem__(self, itemname, itemvalue):\n",
    "        if itemname == \"unit\":\n",
    "            self.unit = itemvalue\n",
    "            self.produce = f\"{self.value * itemvalue}\"\n",
    "        elif itemname == \"value\":\n",
    "            self.value = itemvalue\n",
    "            self.produce = f\"{itemvalue * self.unit}\"\n",
    "        else:\n",
    "            super(self).__setitem__(self, itemname, itemvalue)\n",
    "        \n",
    "    def __repr__(self):\n",
    "        return f\"I'm a {self.__class__.__name__} {self.icon} and I produce: {self.produce}\"\n",
    "\n",
    "class Cow(FarmAnimal):\n",
    "    sound = \"MoouuUUU!!!\"\n",
    "    icon = \"🐮\"\n",
    "    \n",
    "class Chicken(FarmAnimal):\n",
    "    sound = \"bah-gawk\"\n",
    "    icon = \"🐔\"\n",
    "\n",
    "cow = Cow(name=\"Fionda\", unit=5, value=\"🥛\")\n",
    "print(cow)\n",
    "\n",
    "cow.unit = 8\n",
    "print(cow)"
   ]
  },
  {
   "cell_type": "code",
   "execution_count": null,
   "metadata": {},
   "outputs": [],
   "source": []
  }
 ],
 "metadata": {
  "kernelspec": {
   "display_name": "PyCharm (python-course)",
   "language": "python",
   "name": "pycharm-6b7f1484"
  },
  "language_info": {
   "codemirror_mode": {
    "name": "ipython",
    "version": 3
   },
   "file_extension": ".py",
   "mimetype": "text/x-python",
   "name": "python",
   "nbconvert_exporter": "python",
   "pygments_lexer": "ipython3",
   "version": "3.8.6"
  }
 },
 "nbformat": 4,
 "nbformat_minor": 1
}

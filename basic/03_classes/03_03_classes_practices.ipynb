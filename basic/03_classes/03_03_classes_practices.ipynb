{
 "cells": [
  {
   "cell_type": "markdown",
   "source": [
    "# Object-oriented programming (OOP): some best practices"
   ],
   "metadata": {
    "collapsed": false
   }
  },
  {
   "cell_type": "markdown",
   "source": [
    "## Abstract classes"
   ],
   "metadata": {
    "collapsed": false
   }
  },
  {
   "cell_type": "code",
   "execution_count": null,
   "outputs": [],
   "source": [
    "class Animal:\n",
    "    sound = None\n",
    "    icon = None\n",
    "\n",
    "    def __init__(self, name):\n",
    "        self.name = name\n",
    "\n",
    "    def speak(self):\n",
    "        print(f\"{self.icon} I am {self.name} and I {self.sound}\")\n",
    "\n",
    "class Dog(Animal):\n",
    "    sound = \"Bau!!!\"\n",
    "    icon = \"🐶\"\n",
    "\n",
    "class Cow(Animal):\n",
    "    sound = \"MoouuUUU!!!\"\n",
    "    icon = \"🐮\"\n",
    "\n",
    "class Chicken(Animal):\n",
    "    sound = \"bah-gawk\"\n",
    "    icon = \"🐔\"\n",
    "\n",
    "# \"Normal\" animals\n",
    "dog = Dog(name=\"Melampo\")\n",
    "cow = Cow(name=\"Fionda\")\n",
    "chicken = Chicken(name=\"Guendalina\")\n",
    "\n",
    "for animal in [dog, cow, chicken]:\n",
    "    animal.speak()"
   ],
   "metadata": {
    "collapsed": false,
    "pycharm": {
     "name": "#%%\n"
    }
   }
  },
  {
   "cell_type": "markdown",
   "source": [
    "Now, let's create a generic animal and make it speak."
   ],
   "metadata": {
    "collapsed": false
   }
  },
  {
   "cell_type": "code",
   "execution_count": null,
   "outputs": [],
   "source": [
    "chupacabras = Animal(name='Chupacabras')\n",
    "chupacabras.speak()"
   ],
   "metadata": {
    "collapsed": false,
    "pycharm": {
     "name": "#%%\n"
    }
   }
  },
  {
   "cell_type": "markdown",
   "source": [
    "You can \"force\" abstract classes and methods to not be instantiated to use its methods by defining the inheritance to `ABC`\n",
    "and using the `@abstractmethod` decorator."
   ],
   "metadata": {
    "collapsed": false
   }
  },
  {
   "cell_type": "code",
   "execution_count": null,
   "outputs": [],
   "source": [
    "from abc import ABC, abstractmethod\n",
    "\n",
    "class Animal(ABC):\n",
    "    sound = None\n",
    "    icon = None\n",
    "\n",
    "    def __init__(self, name):\n",
    "        self.name = name\n",
    "\n",
    "    @abstractmethod\n",
    "    def speak(self):\n",
    "        print(f\"{self.icon} I am {self.name} and I {self.sound}\")\n",
    "\n",
    "class Dog(Animal):\n",
    "    sound = \"Bau!!!\"\n",
    "    icon = \"🐶\"\n",
    "\n",
    "    # The abstractmethod decorator forces you to\n",
    "    # define what the methods does for all their children.\n",
    "    def speak(self):\n",
    "        super().speak()\n",
    "\n",
    "class Cow(Animal):\n",
    "    sound = \"MoouuUUU!!!\"\n",
    "    icon = \"🐮\"\n",
    "\n",
    "class Chicken(Animal):\n",
    "    sound = \"bah-gawk\"\n",
    "    icon = \"🐔\""
   ],
   "metadata": {
    "collapsed": false,
    "pycharm": {
     "name": "#%%\n"
    }
   }
  },
  {
   "cell_type": "code",
   "execution_count": null,
   "outputs": [],
   "source": [
    "chupacabras = Animal(name='Chupacabras')\n",
    "chupacabras.speak()"
   ],
   "metadata": {
    "collapsed": false,
    "pycharm": {
     "name": "#%%\n"
    }
   }
  },
  {
   "cell_type": "code",
   "execution_count": null,
   "outputs": [],
   "source": [
    "dog = Dog(name=\"Melampo\")\n",
    "dog.speak()"
   ],
   "metadata": {
    "collapsed": false,
    "pycharm": {
     "name": "#%%\n"
    }
   }
  },
  {
   "cell_type": "code",
   "execution_count": null,
   "outputs": [],
   "source": [
    "cow = Cow(name=\"Fionda\")\n",
    "cow.speak()\n"
   ],
   "metadata": {
    "collapsed": false,
    "pycharm": {
     "name": "#%%\n"
    }
   }
  },
  {
   "cell_type": "markdown",
   "source": [
    "## Composition over inheritance"
   ],
   "metadata": {
    "collapsed": false
   }
  },
  {
   "cell_type": "code",
   "execution_count": null,
   "outputs": [],
   "source": [
    "class Animal:\n",
    "    sound = None\n",
    "    icon = None\n",
    "\n",
    "    def __init__(self, name):\n",
    "        self.name = name\n",
    "\n",
    "    def speak(self):\n",
    "        print(f\"{self.icon} I am {self.name} and I {self.sound}\")\n",
    "\n",
    "class Dog(Animal):\n",
    "    sound = \"Bau!!!\"\n",
    "    icon = \"🐶\""
   ],
   "metadata": {
    "collapsed": false,
    "pycharm": {
     "name": "#%%\n"
    }
   }
  },
  {
   "cell_type": "markdown",
   "source": [
    "Now, let's create a different dogs based on their sound."
   ],
   "metadata": {
    "collapsed": false
   }
  },
  {
   "cell_type": "code",
   "execution_count": null,
   "outputs": [],
   "source": [
    "class DogThatMakesBau(Dog):\n",
    "    sound = \"Bau!!!\"\n",
    "\n",
    "class DogThatMakesWoof(Dog):\n",
    "    sound = \"Woof!!!\"\n",
    "\n",
    "class DogThatMakesBoof(Dog):\n",
    "    sound = \"Boof!!!\"\n"
   ],
   "metadata": {
    "collapsed": false,
    "pycharm": {
     "name": "#%%\n"
    }
   }
  },
  {
   "cell_type": "markdown",
   "source": [
    "Now, let's create a different breeds of dogs based on their sound."
   ],
   "metadata": {
    "collapsed": false
   }
  },
  {
   "cell_type": "code",
   "execution_count": null,
   "outputs": [],
   "source": [
    "class EnglishBulldogThatMakesBau(DogThatMakesBau):\n",
    "    ...\n",
    "\n",
    "class EnglishBulldogThatMakesWoof(DogThatMakesWoof):\n",
    "    ...\n",
    "\n",
    "class RetrieverThatMakesBau(DogThatMakesBau):\n",
    "    ...\n",
    "\n",
    "class RetrieverThatMakesBoof(DogThatMakesBoof):\n",
    "    ..."
   ],
   "metadata": {
    "collapsed": false,
    "pycharm": {
     "name": "#%%\n"
    }
   }
  },
  {
   "cell_type": "markdown",
   "source": [
    "Inheritance is useful, but you can define as many hierarchies as possible; this is called the **Class Explosion Problem**.\n",
    "\n",
    "It is recommended to use composition over inheritance as pattern. The composition allows to set a HAS-A relationship between\n",
    "classes, i.e., a dog has a sound type.\n",
    "\n",
    "In this case, the class defines how it is going to behave (speak by making a sound), but it is the instance that defines\n",
    "the behaviour objects (usually during the **constructor**). Of course, you can use classes to define such behaviours,\n",
    "but the hierarchies will be less, meaning you will have less classes to maintain."
   ],
   "metadata": {
    "collapsed": false
   }
  },
  {
   "cell_type": "code",
   "execution_count": null,
   "outputs": [],
   "source": [
    "from abc import ABC\n",
    "\n",
    "# ------\n",
    "# Sounds\n",
    "# ------\n",
    "class AnimalSound(ABC):\n",
    "    sound = None\n",
    "\n",
    "    def make_sound(self):\n",
    "        return self.sound\n",
    "\n",
    "class AnimalSoundWoof(AnimalSound):\n",
    "    sound = 'Woof'\n",
    "\n",
    "class AnimalSoundBau(AnimalSound):\n",
    "    sound = 'Bau'\n",
    "\n",
    "# -------\n",
    "# Animals\n",
    "# -------\n",
    "class Animal(ABC):\n",
    "    def __init__(self, name: str, sound: AnimalSound):\n",
    "        self.name = name\n",
    "        self.sound: AnimalSound = sound\n",
    "\n",
    "    def speak(self):\n",
    "        print(f\"I am {self.name} and I {self.sound.make_sound()}\")\n",
    "\n",
    "\n",
    "class Dog(Animal):\n",
    "    ...\n",
    "\n",
    "sound_bau = AnimalSoundBau()\n",
    "sound_woof = AnimalSoundWoof()\n",
    "\n",
    "# The instance defines the behaviour of the sound, not the class\n",
    "english_bulldog_that_makes_bau = Dog('Pluto', sound_bau)\n",
    "english_bulldog_that_makes_woof = Dog('Fido', sound_woof)\n",
    "\n",
    "english_bulldog_that_makes_bau.speak()\n",
    "english_bulldog_that_makes_woof.speak()"
   ],
   "metadata": {
    "collapsed": false,
    "pycharm": {
     "name": "#%%\n"
    }
   }
  }
 ],
 "metadata": {
  "kernelspec": {
   "display_name": "Python 3",
   "language": "python",
   "name": "python3"
  },
  "language_info": {
   "codemirror_mode": {
    "name": "ipython",
    "version": 2
   },
   "file_extension": ".py",
   "mimetype": "text/x-python",
   "name": "python",
   "nbconvert_exporter": "python",
   "pygments_lexer": "ipython2",
   "version": "2.7.6"
  }
 },
 "nbformat": 4,
 "nbformat_minor": 0
}
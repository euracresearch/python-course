{
 "cells": [
  {
   "cell_type": "markdown",
   "metadata": {
    "collapsed": true,
    "pycharm": {
     "name": "#%% md\n"
    }
   },
   "source": [
    "# Object-oriented programming (OOP): basics\n",
    "\n",
    "# Classes\n",
    "\n",
    "In Python, with the exception of `type`, everything is an object.\n",
    "Whenever you create an object, you are creating an instance of that `type`.\n",
    "\n",
    "By defining a `class`, you are defining a new `type` of object.\n",
    "\n",
    "In other words, classes are just a \"template\" that defines the properties and the functionalities of the objects that\n",
    "will be created as instances of that class.\n",
    "\n",
    "Only when an **instance** of this \"template\" is created, becomes the instance and actual object, and it is kept in\n",
    "memory during the run-time of the application.\n",
    "\n",
    "Syntax:\n",
    "\n",
    "```python\n",
    "\n",
    "class {ClassName}:\n",
    "    def {method0}(self, *args, **kwargs):\n",
    "        ...\n",
    "\n",
    "    def {method1}(self, *args, **kwargs):\n",
    "        ...\n",
    "```\n",
    "\n",
    "Let's define an empty class:"
   ]
  },
  {
   "cell_type": "code",
   "execution_count": null,
   "metadata": {
    "pycharm": {
     "name": "#%%\n"
    }
   },
   "outputs": [],
   "source": [
    "class Dog:\n",
    "    ..."
   ]
  },
  {
   "cell_type": "code",
   "execution_count": null,
   "outputs": [],
   "source": [
    "class Dog:\n",
    "    pass"
   ],
   "metadata": {
    "collapsed": false,
    "pycharm": {
     "name": "#%%\n"
    }
   }
  },
  {
   "cell_type": "markdown",
   "metadata": {
    "pycharm": {
     "name": "#%% md\n"
    }
   },
   "source": [
    "Now we need to create a new object (an instance of that class). This means that we are reading the class definition to create an object."
   ]
  },
  {
   "cell_type": "code",
   "execution_count": null,
   "metadata": {
    "pycharm": {
     "name": "#%%\n"
    }
   },
   "outputs": [],
   "source": [
    "dog = Dog()"
   ]
  },
  {
   "cell_type": "code",
   "execution_count": null,
   "metadata": {
    "pycharm": {
     "name": "#%%\n"
    }
   },
   "outputs": [],
   "source": [
    "print(dog)"
   ]
  },
  {
   "cell_type": "markdown",
   "source": [
    "## Attributes\n",
    "Attributes define the properties that are part of a class.\n",
    "\n",
    "In Python, the attributes can be classified as **instance attributes** and **class attributes**."
   ],
   "metadata": {
    "collapsed": false
   }
  },
  {
   "cell_type": "markdown",
   "metadata": {
    "pycharm": {
     "name": "#%% md\n"
    }
   },
   "source": [
    "### Instance attributes\n",
    "The instance attributes exist only for the specific instance created into the memory.\n",
    "\n",
    "We can dynamically add attributes to this object, and we can access them as well."
   ]
  },
  {
   "cell_type": "code",
   "execution_count": null,
   "outputs": [],
   "source": [
    "dog.name = \"pluto\"\n",
    "print(dog.name)\n"
   ],
   "metadata": {
    "collapsed": false,
    "pycharm": {
     "name": "#%%\n"
    }
   }
  },
  {
   "cell_type": "markdown",
   "source": [
    "However, the added attributes using the above method are linked only to THAT instance, not to the class definition.\n",
    "In fact, if we create a new `Animal` object, the `name` attribute will not be part of it:"
   ],
   "metadata": {
    "collapsed": false
   }
  },
  {
   "cell_type": "code",
   "execution_count": null,
   "outputs": [],
   "source": [
    "dog_2 = Dog()\n",
    "print(dog_2.name)\n",
    "# => AttributeError: 'Animal' object has no attribute 'name'"
   ],
   "metadata": {
    "collapsed": false,
    "pycharm": {
     "name": "#%%\n"
    }
   }
  },
  {
   "cell_type": "markdown",
   "source": [
    "Value of instance attributes are usually created in the **constructor** method."
   ],
   "metadata": {
    "collapsed": false
   }
  },
  {
   "cell_type": "markdown",
   "source": [
    "#### Constructor method\n",
    "\n",
    "Let's recall the syntax to define a class:\n",
    "\n",
    "```python\n",
    "class {ClassName}:\n",
    "    def {method_name}(self, *args, **kwargs):\n",
    "        ...\n",
    "```\n",
    "\n",
    "`__init__` is a `magic` method that is executed when the object is created. This method is called a **constructor** method."
   ],
   "metadata": {
    "collapsed": false
   }
  },
  {
   "cell_type": "code",
   "execution_count": null,
   "metadata": {
    "pycharm": {
     "name": "#%%\n"
    }
   },
   "outputs": [],
   "source": [
    "class Dog:\n",
    "    def __init__(self, name):\n",
    "       self.name = name"
   ]
  },
  {
   "cell_type": "code",
   "execution_count": null,
   "metadata": {
    "pycharm": {
     "name": "#%%\n"
    }
   },
   "outputs": [],
   "source": [
    "dog0 = Dog(\"melampo\")\n",
    "dog1 = Dog(\"ritintin\")"
   ]
  },
  {
   "cell_type": "code",
   "execution_count": null,
   "metadata": {
    "pycharm": {
     "name": "#%%\n"
    }
   },
   "outputs": [],
   "source": [
    "print(dog0.name)\n",
    "print(dog1.name)\n",
    "\n",
    "print(id(dog0.name))\n",
    "print(id(dog1.name))\n"
   ]
  },
  {
   "cell_type": "markdown",
   "source": [
    "### Class attributes\n",
    "Class attributes belong to the class itself and will be shared by all the instances of that class.\n",
    "Such attributes are defined in the class body (usually at the top for legibility)."
   ],
   "metadata": {
    "collapsed": false
   }
  },
  {
   "cell_type": "code",
   "execution_count": null,
   "outputs": [],
   "source": [
    "class Dog:\n",
    "    # This implies that all dogs will be called \"pluto\"\n",
    "    name = \"pluto\""
   ],
   "metadata": {
    "collapsed": false,
    "pycharm": {
     "name": "#%%\n"
    }
   }
  },
  {
   "cell_type": "code",
   "execution_count": null,
   "outputs": [],
   "source": [
    "dog0 = Dog()\n",
    "dog1 = Dog()"
   ],
   "metadata": {
    "collapsed": false,
    "pycharm": {
     "name": "#%%\n"
    }
   }
  },
  {
   "cell_type": "code",
   "execution_count": null,
   "outputs": [],
   "source": [
    "print(dog0.name)\n",
    "print(dog1.name)\n",
    "\n",
    "# Attribute of both instances point to the same space in memory\n",
    "print(id(dog0.name))\n",
    "print(id(dog1.name))\n"
   ],
   "metadata": {
    "collapsed": false,
    "pycharm": {
     "name": "#%%\n"
    }
   }
  },
  {
   "cell_type": "markdown",
   "source": [
    "However, if you change the class attribute of an instance, it changes only for that object, not for all instances of\n",
    "that class."
   ],
   "metadata": {
    "collapsed": false
   }
  },
  {
   "cell_type": "code",
   "execution_count": null,
   "outputs": [],
   "source": [
    "dog0.name = \"melampo\"\n",
    "print(dog0.name)\n",
    "\n",
    "dog1.name = \"ritintin\"\n",
    "print(dog1.name)\n",
    "\n",
    "# Attribute now points to different space in memory\n",
    "print(id(dog0.name))\n",
    "print(id(dog1.name))\n"
   ],
   "metadata": {
    "collapsed": false,
    "pycharm": {
     "name": "#%%\n"
    }
   }
  },
  {
   "cell_type": "code",
   "execution_count": null,
   "outputs": [],
   "source": [
    "dog0 = Dog()\n",
    "dog1 = Dog()\n",
    "\n",
    "Dog.name = \"melampo\"\n",
    "\n",
    "print(dog0.name)\n",
    "print(dog1.name)\n",
    "\n",
    "print(id(dog0.name))\n",
    "print(id(dog1.name))\n"
   ],
   "metadata": {
    "collapsed": false,
    "pycharm": {
     "name": "#%%\n"
    }
   }
  },
  {
   "cell_type": "markdown",
   "source": [
    "If you modify the class attribute, all instances whose attribute point to that class will be modified as well."
   ],
   "metadata": {
    "collapsed": false
   }
  },
  {
   "cell_type": "code",
   "execution_count": null,
   "outputs": [],
   "source": [
    "Dog.name = \"ciccio\"\n",
    "\n",
    "print(dog0.name)\n",
    "print(dog1.name)\n",
    "\n",
    "print(dog0.__class__.name)"
   ],
   "metadata": {
    "collapsed": false,
    "pycharm": {
     "name": "#%%\n"
    }
   }
  },
  {
   "cell_type": "markdown",
   "metadata": {
    "pycharm": {
     "name": "#%% md\n"
    }
   },
   "source": [
    "So, how to choose the type of attribute? You should use **instance attributes** when the value of such attribute is different\n",
    "for each instance.\n",
    "\n",
    "Instead, you should use **class attributes** when the value of the attribute is shared by all the instances.\n",
    "A class instance attribute usually does not change."
   ]
  },
  {
   "cell_type": "code",
   "execution_count": null,
   "outputs": [],
   "source": [
    "class Cow:\n",
    "    icon = \"🐮\"\n",
    "\n",
    "    def __init__(self, name):\n",
    "       self.name = name"
   ],
   "metadata": {
    "collapsed": false,
    "pycharm": {
     "name": "#%%\n"
    }
   }
  },
  {
   "cell_type": "code",
   "execution_count": null,
   "outputs": [],
   "source": [
    "cow0 = Cow('Fionda')\n",
    "cow1 = Cow('Clarabella')\n",
    "\n",
    "print(f'{cow0.name} {cow0.icon}')\n",
    "print(f'{cow1.name} {cow1.icon}')\n"
   ],
   "metadata": {
    "collapsed": false,
    "pycharm": {
     "name": "#%%\n"
    }
   }
  },
  {
   "cell_type": "markdown",
   "source": [
    "Another use of **class attributes** is when you need to share and update information between the instances of the same class.\n"
   ],
   "metadata": {
    "collapsed": false,
    "pycharm": {
     "name": "#%% md\n"
    }
   }
  },
  {
   "cell_type": "code",
   "execution_count": null,
   "metadata": {
    "pycharm": {
     "name": "#%%\n"
    }
   },
   "outputs": [],
   "source": [
    "class Cow:\n",
    "    herd = 0\n",
    "\n",
    "    def __init__(self, name):\n",
    "        # set instance attribute\n",
    "        self.name = name\n",
    "\n",
    "        # update class attribute\n",
    "        Cow.herd += 1\n"
   ]
  },
  {
   "cell_type": "code",
   "execution_count": null,
   "metadata": {
    "pycharm": {
     "name": "#%%\n"
    }
   },
   "outputs": [],
   "source": [
    "cow0 = Cow(\"Clarabella\")\n",
    "print(f\"{cow0.name}, {cow0.herd}\")"
   ]
  },
  {
   "cell_type": "code",
   "execution_count": null,
   "metadata": {
    "pycharm": {
     "name": "#%%\n"
    }
   },
   "outputs": [],
   "source": [
    "cow1 = Cow(\"Fionda\")\n",
    "print(f\"{cow1.name}, {cow1.herd}\")"
   ]
  },
  {
   "cell_type": "code",
   "execution_count": null,
   "metadata": {
    "pycharm": {
     "name": "#%%\n"
    }
   },
   "outputs": [],
   "source": [
    "print(f\"{cow0.name}, {cow0.herd}\")"
   ]
  },
  {
   "cell_type": "code",
   "execution_count": null,
   "metadata": {
    "pycharm": {
     "name": "#%%\n"
    }
   },
   "outputs": [],
   "source": [
    "print(cow0)"
   ]
  },
  {
   "cell_type": "markdown",
   "metadata": {
    "pycharm": {
     "name": "#%% md\n"
    }
   },
   "source": [
    "## Methods\n",
    "Methods are useful to implement the functionalities of an object.\n",
    "\n",
    "Let's add some capabilities to our Cow."
   ]
  },
  {
   "cell_type": "code",
   "execution_count": null,
   "metadata": {
    "pycharm": {
     "name": "#%%\n"
    }
   },
   "outputs": [],
   "source": [
    "class Cow:\n",
    "    def __init__(self, name):\n",
    "        # Set instance attribute\n",
    "        self.name = name\n",
    "        self.food = []\n",
    "\n",
    "    def speak(self):\n",
    "        print(f\"I am {self.name} and I MuuuUUU!!!\")\n",
    "\n",
    "    def eat(self, food):\n",
    "        self.food.append(food)"
   ]
  },
  {
   "cell_type": "code",
   "execution_count": null,
   "metadata": {
    "pycharm": {
     "name": "#%%\n"
    }
   },
   "outputs": [],
   "source": [
    "cow = Cow(\"Fionda\")\n",
    "cow.speak()"
   ]
  },
  {
   "cell_type": "code",
   "execution_count": null,
   "outputs": [],
   "source": [
    "cow.eat(\"grass\")\n",
    "cow.eat(\"grass\")\n",
    "cow.eat(\"grass\")\n",
    "\n",
    "print(cow.food)\n"
   ],
   "metadata": {
    "collapsed": false,
    "pycharm": {
     "name": "#%%\n"
    }
   }
  },
  {
   "cell_type": "markdown",
   "source": [
    "Notice the `self` as a parameter of the methods; this allows the object to access to its attributes and methods inside\n",
    "the class."
   ],
   "metadata": {
    "collapsed": false
   }
  },
  {
   "cell_type": "markdown",
   "source": [
    "### Magic methods\n",
    "These are special methods that add \"magic\" to the class. They are usually not called directly by the programmer, but\n",
    "rather when an action occurs.\n",
    "\n",
    "We saw before that the `__init__` method is called when you create the instance of a class. Let's take a look at some\n",
    "other examples.\n",
    "\n",
    "You can find the list of all the magic methods [here](https://docs.python.org/3/reference/datamodel.html#basic-customization)."
   ],
   "metadata": {
    "collapsed": false
   }
  },
  {
   "cell_type": "code",
   "execution_count": null,
   "outputs": [],
   "source": [
    "class Cow:\n",
    "    def __init__(self, name, year_of_birth):\n",
    "        # Set instance attribute\n",
    "        self.name = name\n",
    "        self.year_of_birth = year_of_birth\n",
    "\n",
    "    def __str__(self):\n",
    "        # String representation of a class\n",
    "        return f\"My name is {self.name} and I am a {self.__class__.__name__}\"\n",
    "\n",
    "    def __repr__(self):\n",
    "        # Machine-readable representation of a class\n",
    "        return f\"Class {self.__class__.__name__} (name={self.name})\"\n",
    "\n",
    "    def __le__(self, other):\n",
    "        # le: lower or equal\n",
    "        # Compare if current object is <= than another one\n",
    "        return self.year_of_birth >= other.year_of_birth\n",
    "\n",
    "cow1 = Cow(name='Fionda', year_of_birth=1990)\n",
    "cow2 = Cow(name='Clarabella', year_of_birth=1994)\n",
    "\n",
    "# Cow as string\n",
    "print(cow1)\n",
    "\n",
    "# Cow as repr\n",
    "print(repr(cow1))\n",
    "\n",
    "# Compare cows by year of birth\n",
    "print(f'I am {\"older\" if cow1 >= cow2 else \"younger\"} than {cow2.name}')"
   ],
   "metadata": {
    "collapsed": false,
    "pycharm": {
     "name": "#%%\n"
    }
   }
  }
 ],
 "metadata": {
  "kernelspec": {
   "name": "python3",
   "language": "python",
   "display_name": "Python 3"
  },
  "language_info": {
   "codemirror_mode": {
    "name": "ipython",
    "version": 3
   },
   "file_extension": ".py",
   "mimetype": "text/x-python",
   "name": "python",
   "nbconvert_exporter": "python",
   "pygments_lexer": "ipython3",
   "version": "3.8.6"
  }
 },
 "nbformat": 4,
 "nbformat_minor": 1
}
{
 "cells": [
  {
   "cell_type": "markdown",
   "metadata": {},
   "source": [
    "# Object-oriented programming (OOP): concepts\n",
    "\n",
    "# Access modifiers\n",
    "You can define the scope of the attributes and methods for a class. The access modifiers are:\n",
    "\n",
    "- Public: attributes and methods that are accessible inside and outside the instance of the class;\n",
    "- Private: attributes and methods that are accessible only outside;\n",
    "- Protected: attributes and methods that are accessible inside the instance of the class and their subclasses (inheritance + polymorphism).\n"
   ]
  },
  {
   "cell_type": "markdown",
   "source": [
    "![UML Scope](../images/03_02_classes_uml_scope.png)"
   ],
   "metadata": {
    "collapsed": false
   }
  },
  {
   "cell_type": "code",
   "execution_count": null,
   "metadata": {
    "pycharm": {
     "name": "#%%\n"
    }
   },
   "outputs": [],
   "source": [
    "from datetime import datetime\n",
    "\n",
    "class Cow:\n",
    "    def __init__(self, name, year_of_birth):\n",
    "        # Public attribute\n",
    "        self.name = name\n",
    "\n",
    "        # Private attribute\n",
    "        self.__year_of_birth = year_of_birth\n",
    "\n",
    "        # Protected attribute\n",
    "        self._eating_counter = 0\n",
    "\n",
    "    # Private method\n",
    "    def __calculate_age(self) -> int:\n",
    "        now = datetime.now()\n",
    "        return now.year - self.__year_of_birth\n",
    "\n",
    "    # Public method\n",
    "    def say_age(self):\n",
    "        print(f\"I'm {self.name} and I'm {self.__calculate_age()} years old\")\n",
    "\n",
    "cow_1 = Cow('Clarabella', 1990)"
   ]
  },
  {
   "cell_type": "code",
   "execution_count": null,
   "metadata": {
    "pycharm": {
     "name": "#%%\n"
    }
   },
   "outputs": [],
   "source": [
    "# A name is usually of public domain\n",
    "cow_1.name"
   ]
  },
  {
   "cell_type": "code",
   "execution_count": null,
   "outputs": [],
   "source": [
    "# You can ask to access to a protected attribute, but it is not recommended since it is \"private\".\n",
    "cow_1._eating_counter"
   ],
   "metadata": {
    "collapsed": false,
    "pycharm": {
     "name": "#%%\n"
    }
   }
  },
  {
   "cell_type": "code",
   "execution_count": null,
   "metadata": {
    "pycharm": {
     "name": "#%%\n"
    }
   },
   "outputs": [],
   "source": [
    "# You cannot know the age of a person unless you ask\n",
    "cow_1.__year_of_birth"
   ]
  },
  {
   "cell_type": "code",
   "execution_count": null,
   "metadata": {
    "pycharm": {
     "name": "#%%\n"
    }
   },
   "outputs": [],
   "source": [
    "# You cannot enter into its mind to calculate the age\n",
    "cow_1.__calculate_age()"
   ]
  },
  {
   "cell_type": "code",
   "execution_count": null,
   "metadata": {
    "pycharm": {
     "name": "#%%\n"
    }
   },
   "outputs": [],
   "source": [
    "# You need to ask the cow to say how old is it\n",
    "cow_1.say_age()"
   ]
  },
  {
   "cell_type": "markdown",
   "metadata": {},
   "source": [
    "# Inheritance\n",
    "Inheritance allows the creation children classes that inherit the properties and methods of their parents, with the\n",
    "possibility of adding or modifying their own characteristic.\n",
    "\n",
    "Inheritance introduces an IS-A relationship.\n",
    "\n",
    "Inheritance is useful to re-use code and to create abstractions for behaviours and properties in a unique class."
   ]
  },
  {
   "cell_type": "code",
   "execution_count": null,
   "metadata": {
    "pycharm": {
     "name": "#%%\n"
    }
   },
   "outputs": [],
   "source": [
    "class Cow:\n",
    "    def __init__(self, name):\n",
    "        # set instance attribute\n",
    "        self.name = name\n",
    "\n",
    "    def speak(self):\n",
    "        print(f\"I am {self.name} and I MouuUUU!\")\n",
    "\n",
    "class Dog:\n",
    "    def __init__(self, name):\n",
    "        # set instance attribute\n",
    "        self.name = name\n",
    "\n",
    "    def speak(self):\n",
    "        print(f\"I am {self.name} and I Bau!\")"
   ]
  },
  {
   "cell_type": "code",
   "execution_count": null,
   "metadata": {
    "pycharm": {
     "name": "#%%\n"
    }
   },
   "outputs": [],
   "source": [
    "dog = Dog(\"Melampo\")\n",
    "dog.speak()\n",
    "\n",
    "cow = Cow(\"Clarabella\")\n",
    "cow.speak()"
   ]
  },
  {
   "cell_type": "markdown",
   "metadata": {},
   "source": [
    "Since `Dog` and `Cow` are both animals, we can create an abstraction of `Animal`."
   ]
  },
  {
   "cell_type": "code",
   "execution_count": null,
   "metadata": {
    "pycharm": {
     "name": "#%%\n"
    }
   },
   "outputs": [],
   "source": [
    "class Animal:\n",
    "    def __init__(self, name):\n",
    "        self.name = name\n",
    "\n",
    "class Dog(Animal):\n",
    "    def speak(self):\n",
    "        print(f\"I am {self.name} and I Bau!\")\n",
    "\n",
    "    def grab_ball(self):\n",
    "        print('Bau! I am running as crazy!')\n",
    "\n",
    "class Cow(Animal):\n",
    "    def speak(self):\n",
    "        print(f\"I am {self.name} and I MouuUUU!\")\n",
    "\n",
    "    def produce(self):\n",
    "        print(f'I am {self.name} and it is time to produce milk!')"
   ]
  },
  {
   "cell_type": "markdown",
   "metadata": {},
   "source": [
    "In this case, `Dog` and `Cow` are children of the class `Animal`, and they share the same method `__init__`."
   ]
  },
  {
   "cell_type": "code",
   "execution_count": null,
   "metadata": {
    "pycharm": {
     "name": "#%%\n"
    }
   },
   "outputs": [],
   "source": [
    "dog = Dog(name=\"Melampo\")\n",
    "cow = Cow(name=\"Fionda\")\n",
    "\n",
    "for animal in [dog, cow]:\n",
    "    animal.speak()"
   ]
  },
  {
   "cell_type": "code",
   "execution_count": null,
   "metadata": {
    "pycharm": {
     "name": "#%%\n"
    }
   },
   "outputs": [],
   "source": [
    "dog.grab_ball()"
   ]
  },
  {
   "cell_type": "code",
   "execution_count": null,
   "metadata": {
    "pycharm": {
     "name": "#%%\n"
    }
   },
   "outputs": [],
   "source": [
    "cow.grab_ball()"
   ]
  },
  {
   "cell_type": "code",
   "execution_count": null,
   "metadata": {
    "pycharm": {
     "name": "#%%\n"
    }
   },
   "outputs": [],
   "source": [
    "cow.produce()"
   ]
  },
  {
   "cell_type": "markdown",
   "source": [
    "![UML Inheritance](../images/03_02_classes_uml_inheritance.png)"
   ],
   "metadata": {
    "collapsed": false
   }
  },
  {
   "cell_type": "markdown",
   "metadata": {},
   "source": [
    "In this case, `Dog` and `Cow` are children of the class `Animal`, and they share the same method `__init__`.\n",
    "\n",
    "How can we generalize the `speak` function? Let's recall that **class attributes** are useful to share information among\n",
    "instances of the same class."
   ]
  },
  {
   "cell_type": "code",
   "execution_count": null,
   "metadata": {
    "pycharm": {
     "name": "#%%\n"
    }
   },
   "outputs": [],
   "source": [
    "class Animal:\n",
    "    # Class attribute\n",
    "    sound = None\n",
    "\n",
    "    def __init__(self, name):\n",
    "        self.name = name\n",
    "\n",
    "    def speak(self):\n",
    "        print(f\"I am {self.name} and I {self.sound}\")\n",
    "\n",
    "class Dog(Animal):\n",
    "    # Class attribute for dogs. We imply that all dogs speak saying \"Bau\"\n",
    "    sound = \"Bau!!!\"\n",
    "\n",
    "    def grab_ball(self):\n",
    "        print(f'{self.sound} I am running as crazy!')\n",
    "\n",
    "class Cow(Animal):\n",
    "    # Class attribute for dogs. We imply that all dogs speak saying \"MoouuUUU\"\n",
    "    sound = \"MoouuUUU!!!\"\n",
    "\n",
    "    def produce(self):\n",
    "        print(f'I am {self.name} and it is time to produce milk!')\n",
    "\n",
    "\n",
    "dog = Dog(name=\"Melampo\")\n",
    "cow = Cow(name=\"Fionda\")\n",
    "\n",
    "for animal in [dog, cow]:\n",
    "    animal.speak()"
   ]
  },
  {
   "cell_type": "markdown",
   "metadata": {},
   "source": [
    "## Multiple inheritance\n",
    "A child class can have more than one parent class. Multiple inheritance can introduce ambiguity and complexity on your\n",
    "code. **Bottom line**: use multiple inheritance only if strictly necessary.\n",
    "\n",
    "If parent classes share methods, the order of inheritance matters."
   ]
  },
  {
   "cell_type": "code",
   "execution_count": null,
   "metadata": {
    "pycharm": {
     "name": "#%%\n"
    }
   },
   "outputs": [],
   "source": [
    "class Animal:\n",
    "    def speak(self):\n",
    "        print('I am an animal and I am speaking')\n",
    "\n",
    "\n",
    "class Pet:\n",
    "    def speak(self):\n",
    "        print('I am a pet and I a am speaking')\n",
    "\n",
    "    def do_tricks(self):\n",
    "        print('I learned to do tricks!')"
   ]
  },
  {
   "cell_type": "code",
   "execution_count": null,
   "metadata": {
    "pycharm": {
     "name": "#%%\n"
    }
   },
   "outputs": [],
   "source": [
    "class Dog(Pet, Animal):\n",
    "    ...\n",
    "\n",
    "dog = Dog()\n",
    "dog.speak()\n",
    "dog.do_tricks()"
   ]
  },
  {
   "cell_type": "code",
   "execution_count": null,
   "metadata": {
    "pycharm": {
     "name": "#%%\n"
    }
   },
   "outputs": [],
   "source": [
    "class Dog(Animal, Pet):\n",
    "    ...\n",
    "\n",
    "dog = Dog()\n",
    "dog.speak()\n",
    "dog.do_tricks()\n"
   ]
  },
  {
   "cell_type": "markdown",
   "metadata": {
    "pycharm": {
     "name": "#%% md\n"
    }
   },
   "source": [
    "# Polymorphism\n",
    "In object-oriented programming, polymorphism refers to the ability of an object to behave in different ways.\n",
    "There are two ways to change the behavior of a class: by **method overloading** and by **method overriding**."
   ]
  },
  {
   "cell_type": "markdown",
   "metadata": {},
   "source": [
    "## Method Overloading\n",
    "Overloading of a method refers to the ability of a method to behave differently depending on the parameters."
   ]
  },
  {
   "cell_type": "code",
   "execution_count": null,
   "metadata": {
    "pycharm": {
     "name": "#%%\n"
    }
   },
   "outputs": [],
   "source": [
    "class Dog:\n",
    "    def __init__(self):\n",
    "        self.food = []\n",
    "\n",
    "    def eat(self, food, is_evening=False):\n",
    "        self.food.append(food)\n",
    "\n",
    "        if is_evening is True:\n",
    "            # In the evening the dog eats twice\n",
    "            self.food.append(food)\n",
    "\n",
    "dog = Dog()\n",
    "dog.eat('meat')\n",
    "dog.eat('dog food')\n",
    "\n",
    "print(dog.food)\n",
    "\n",
    "dog.eat('sausage', True)\n",
    "\n",
    "print(dog.food)"
   ]
  },
  {
   "cell_type": "markdown",
   "metadata": {},
   "source": [
    "## Method Overriding\n",
    "Parent and child classes will have the same method, but they behave different."
   ]
  },
  {
   "cell_type": "code",
   "execution_count": null,
   "metadata": {
    "pycharm": {
     "name": "#%%\n"
    }
   },
   "outputs": [],
   "source": [
    "class Animal:\n",
    "    # Class attribute\n",
    "    sound = None\n",
    "    icon = None\n",
    "\n",
    "    def __init__(self, name):\n",
    "        self.name = name\n",
    "\n",
    "    def speak(self):\n",
    "        print(f\"{self.icon} I am {self.name} and I {self.sound}\")\n",
    "\n",
    "class Dog(Animal):\n",
    "    # Class attribute for dogs. We imply that all dogs speak saying \"Bau\"\n",
    "    sound = \"Bau!!!\"\n",
    "    icon = \"🐶\"\n",
    "\n",
    "class Chicken(Animal):\n",
    "    # Class attribute for chicken. We imply that all chickens speak saying \"Bah-gawk\"\n",
    "    sound = \"Bah-gawk!\"\n",
    "    icon = \"🐔\"\n",
    "\n",
    "class Cow(Animal):\n",
    "    # Class attribute for dogs. We imply that all dogs speak saying \"MoouuUUU\"\n",
    "    sound = \"MoouuUUU!!!\"\n",
    "    icon = \"🐮\"\n",
    "\n",
    "    def speak(self):\n",
    "        print(f\"{self.icon * 3} Hey there! {self.sound} I am {self.name}, how can I help you?\")\n",
    "\n",
    "\n",
    "dog = Dog(name=\"Melampo\")\n",
    "chicken = Chicken(name=\"Guendalina\")\n",
    "cow = Cow(name=\"Fionda\")\n",
    "\n",
    "for animal in [dog, chicken, cow]:\n",
    "    animal.speak()"
   ]
  },
  {
   "cell_type": "markdown",
   "metadata": {},
   "source": [
    "What happens if you need to override the constructor of a child class?\n",
    "You need to explicitly inherit from the parent class inside the `__init__` method on the child class.\n",
    "\n",
    "As an example, we create an abstraction of `FarmAnimal` to specify animals that produce something inside the farm."
   ]
  },
  {
   "cell_type": "code",
   "execution_count": null,
   "metadata": {
    "pycharm": {
     "name": "#%%\n"
    }
   },
   "outputs": [],
   "source": [
    "class Animal:\n",
    "    sound = None\n",
    "    icon = None\n",
    "\n",
    "    def __init__(self, name):\n",
    "        self.name = name\n",
    "\n",
    "    def speak(self):\n",
    "        print(f\"{self.icon} I am {self.name} and I {self.sound}\")\n",
    "\n",
    "    def __repr__(self):\n",
    "        return f\"{self.__class__.__name__}(name={self.name})\"\n",
    "\n",
    "class FarmAnimal(Animal):\n",
    "    def __init__(self, name, unit, value):\n",
    "        # Explicit inheritance from parent by calling its constructor\n",
    "        Animal.__init__(self, name)\n",
    "\n",
    "        self.unit = unit\n",
    "        self.value = value\n",
    "\n",
    "        # We keep the production in a variable\n",
    "        self.produce = f\"{self.value * self.unit}\"\n",
    "\n",
    "    def __str__(self):\n",
    "        return f\"I'm a {self.__class__.__name__} {self.icon} and I produce: {self.produce}\"\n",
    "\n",
    "class Dog(Animal):\n",
    "    sound = \"Bau!!!\"\n",
    "    icon = \"🐶\"\n",
    "\n",
    "class Cow(FarmAnimal):\n",
    "    sound = \"MoouuUUU!!!\"\n",
    "    icon = \"🐮\"\n",
    "\n",
    "class Chicken(FarmAnimal):\n",
    "    sound = \"bah-gawk\"\n",
    "    icon = \"🐔\"\n",
    "\n",
    "# \"Normal\" animals\n",
    "dog = Dog(name=\"melampo\")\n",
    "\n",
    "# Farm animals\n",
    "cow = Cow(name=\"Fionda\", unit=5, value=\"🥛\")\n",
    "chicken = Chicken(name=\"Guendalina\", unit=2, value=\"🥚\")\n",
    "\n",
    "print(dog)\n",
    "print(cow)\n",
    "print(chicken)"
   ]
  },
  {
   "cell_type": "markdown",
   "metadata": {},
   "source": [
    "# Encapsulation\n",
    "In object-oriented programming, all the attributes of a class should not be accessible directly (private attributes).\n",
    "Instead, methods should be implemented to access to the attributes."
   ]
  },
  {
   "cell_type": "code",
   "execution_count": null,
   "outputs": [],
   "source": [
    "class IntrovertAnimal:\n",
    "    def __init__(self, name, age):\n",
    "        self.name = name\n",
    "        self.__age = age\n",
    "\n",
    "    def ask_age(self):\n",
    "        print(f'Hi, my name is {self.name} and I am {self.__age} years old')\n",
    "\n",
    "dog = IntrovertAnimal('Boh', 25)\n",
    "dog.ask_age()\n"
   ],
   "metadata": {
    "collapsed": false,
    "pycharm": {
     "name": "#%%\n"
    }
   }
  },
  {
   "cell_type": "markdown",
   "source": [
    "Of course, this will depend on the needs of your application."
   ],
   "metadata": {
    "collapsed": false
   }
  },
  {
   "cell_type": "markdown",
   "source": [
    "## `@property` decorator\n",
    "We saw before that we can calculate the production of a `FarmAnimal` in the constructor."
   ],
   "metadata": {
    "collapsed": false
   }
  },
  {
   "cell_type": "code",
   "execution_count": null,
   "outputs": [],
   "source": [
    "class FarmAnimal(Animal):\n",
    "    def __init__(self, name, unit, value):\n",
    "        # Explicit inheritance from parent by calling its constructor\n",
    "        Animal.__init__(self, name)\n",
    "\n",
    "        self.unit = unit\n",
    "        self.value = value\n",
    "\n",
    "        # We keep the production in a variable\n",
    "        self.produce = f\"{self.value * self.unit}\""
   ],
   "metadata": {
    "collapsed": false,
    "pycharm": {
     "name": "#%%\n"
    }
   }
  },
  {
   "cell_type": "markdown",
   "source": [
    "What happens if we change an attribute after creating the instance?"
   ],
   "metadata": {
    "collapsed": false
   }
  },
  {
   "cell_type": "code",
   "execution_count": null,
   "outputs": [],
   "source": [
    "cow = Cow(name=\"Fionda\", unit=5, value=\"🥛\")\n",
    "print(cow)\n",
    "\n",
    "# Now the cow produces more\n",
    "cow.unit = 8\n",
    "print(cow)"
   ],
   "metadata": {
    "collapsed": false,
    "pycharm": {
     "name": "#%%\n"
    }
   }
  },
  {
   "cell_type": "markdown",
   "source": [
    "The `@property` decorator is useful whenever you need to define an attribute that is based on other attributes."
   ],
   "metadata": {
    "collapsed": false
   }
  },
  {
   "cell_type": "code",
   "execution_count": null,
   "outputs": [],
   "source": [
    "class FarmAnimal(Animal):\n",
    "    def __init__(self, name, unit, value):\n",
    "        Animal.__init__(self, name)\n",
    "        self.unit = unit\n",
    "        self.value = value\n",
    "\n",
    "    @property\n",
    "    def produce(self):\n",
    "        return f\"{self.value * self.unit}\"\n",
    "\n",
    "    def __repr__(self):\n",
    "        return f\"I'm a {self.__class__.__name__} {self.icon} and I produce: {self.produce}\"\n",
    "\n",
    "class Cow(FarmAnimal):\n",
    "    sound = \"MoouuUUU!!!\"\n",
    "    icon = \"🐮\"\n",
    "\n",
    "class Chicken(FarmAnimal):\n",
    "    sound = \"bah-gawk\"\n",
    "    icon = \"🐔\"\n",
    "\n",
    "cow = Cow(name=\"Fionda\", unit=5, value=\"🥛\")\n",
    "print(cow)\n",
    "\n",
    "cow.unit = 8\n",
    "print(cow)"
   ],
   "metadata": {
    "collapsed": false,
    "pycharm": {
     "name": "#%%\n"
    }
   }
  },
  {
   "cell_type": "markdown",
   "source": [
    "The property is also accessible from outside the instance:"
   ],
   "metadata": {
    "collapsed": false
   }
  },
  {
   "cell_type": "code",
   "execution_count": null,
   "outputs": [],
   "source": [
    "cow.produce"
   ],
   "metadata": {
    "collapsed": false,
    "pycharm": {
     "name": "#%%\n"
    }
   }
  },
  {
   "cell_type": "markdown",
   "source": [
    "### Getters and Setters\n",
    "It is possible to change the behaviour whenever you are changing the values of the attributes."
   ],
   "metadata": {
    "collapsed": false
   }
  },
  {
   "cell_type": "markdown",
   "source": [
    "#### Getters and Setters: method 1 - defining functions"
   ],
   "metadata": {
    "collapsed": false
   }
  },
  {
   "cell_type": "code",
   "execution_count": null,
   "metadata": {
    "pycharm": {
     "name": "#%%\n"
    }
   },
   "outputs": [],
   "source": [
    "class FarmAnimal(Animal):\n",
    "    _unit = None\n",
    "    _value = None\n",
    "\n",
    "    def __init__(self, name, unit, value):\n",
    "        Animal.__init__(self, name)\n",
    "        self.unit = unit\n",
    "        self.value = value\n",
    "\n",
    "    def __set_unit(self, unit):\n",
    "        if unit % 2:\n",
    "            # For odd units, store square value\n",
    "            self.__unit = unit ** 2\n",
    "        else:\n",
    "            # For even unit, store value - 1\n",
    "            self.__unit = unit - 1\n",
    "\n",
    "    def __get_unit(self):\n",
    "        return self.__unit\n",
    "\n",
    "    @property\n",
    "    def produce(self):\n",
    "        return f\"{self.value * self.unit}\"\n",
    "\n",
    "    unit = property(fget=__get_unit, fset=__set_unit)\n",
    "\n",
    "    def __repr__(self):\n",
    "        return f\"I'm a {self.__class__.__name__} {self.icon} and I produce: {self.produce}\"\n",
    "\n",
    "class Cow(FarmAnimal):\n",
    "    sound = \"MoouuUUU!!!\"\n",
    "    icon = \"🐮\"\n",
    "\n",
    "cow = Cow(name=\"Fionda\", unit=5, value=\"🥛\")\n",
    "print(cow)\n",
    "\n",
    "cow.unit = 8\n",
    "print(cow)\n"
   ]
  },
  {
   "cell_type": "markdown",
   "source": [
    "#### Getters and Setters: method 2 - using `__setattr__` magic method"
   ],
   "metadata": {
    "collapsed": false
   }
  },
  {
   "cell_type": "code",
   "execution_count": null,
   "metadata": {
    "pycharm": {
     "name": "#%%\n"
    }
   },
   "outputs": [],
   "source": [
    "class FarmAnimal(Animal):\n",
    "    def __init__(self, name, unit, value):\n",
    "        Animal.__init__(self, name)\n",
    "        self.unit = unit\n",
    "        self.value = value\n",
    "\n",
    "    @property\n",
    "    def produce(self):\n",
    "        return f\"{self.value * self.unit}\"\n",
    "\n",
    "    def __setattr__(self, item_name, item_value):\n",
    "        if item_name == \"unit\":\n",
    "            if item_value % 2:\n",
    "                # For odd units, store square value\n",
    "                item_value = item_value ** 2\n",
    "            else:\n",
    "                # For even unit, store value - 1\n",
    "                item_value = item_value - 1\n",
    "\n",
    "        # Store attribute using super (in parent class)\n",
    "        super().__setattr__(item_name, item_value)\n",
    "\n",
    "    def __repr__(self):\n",
    "        return f\"I'm a {self.__class__.__name__} {self.icon} and I produce: {self.produce}\"\n",
    "\n",
    "class Cow(FarmAnimal):\n",
    "    sound = \"MoouuUUU!!!\"\n",
    "    icon = \"🐮\"\n",
    "\n",
    "cow = Cow(name=\"Fionda\", unit=5, value=\"🥛\")\n",
    "print(cow)\n",
    "\n",
    "cow.unit = 8\n",
    "print(cow)\n"
   ]
  },
  {
   "cell_type": "markdown",
   "source": [
    "#### Getters and Setters: method 3 - using @property + @setter decorators"
   ],
   "metadata": {
    "collapsed": false
   }
  },
  {
   "cell_type": "code",
   "execution_count": null,
   "outputs": [],
   "source": [
    "class FarmAnimal(Animal):\n",
    "    def __init__(self, name, unit, value):\n",
    "        Animal.__init__(self, name)\n",
    "        self.unit = unit\n",
    "        self.value = value\n",
    "\n",
    "    @property\n",
    "    def unit(self):\n",
    "        # Access to private attribute\n",
    "        return self.__unit\n",
    "\n",
    "    @unit.setter\n",
    "    def unit(self, unit):\n",
    "        if unit % 2:\n",
    "            # For odd units, store square value\n",
    "            unit = unit ** 2\n",
    "        else:\n",
    "            # For even unit, store value - 1\n",
    "            unit = unit - 1\n",
    "\n",
    "        # Store value in private attribute\n",
    "        self.__unit = unit\n",
    "\n",
    "    @property\n",
    "    def produce(self):\n",
    "        return f\"{self.value * self.unit}\"\n",
    "\n",
    "    def __repr__(self):\n",
    "        return f\"I'm a {self.__class__.__name__} {self.icon} and I produce: {self.produce}\"\n",
    "\n",
    "class Cow(FarmAnimal):\n",
    "    sound = \"MoouuUUU!!!\"\n",
    "    icon = \"🐮\"\n",
    "\n",
    "cow = Cow(name=\"Fionda\", unit=5, value=\"🥛\")\n",
    "print(cow)\n",
    "\n",
    "cow.unit = 8\n",
    "print(cow)"
   ],
   "metadata": {
    "collapsed": false,
    "pycharm": {
     "name": "#%%\n"
    }
   }
  },
  {
   "cell_type": "markdown",
   "source": [
    "## Inheritance and Protected attributes/methods\n",
    "Let's recall that protected attributes and methods are accessible inside the instance of the class and their subclasses."
   ],
   "metadata": {
    "collapsed": false
   }
  },
  {
   "cell_type": "code",
   "execution_count": null,
   "outputs": [],
   "source": [
    "class Animal:\n",
    "    def __init__(self, name):\n",
    "        self.name = name\n",
    "\n",
    "        # Private attribute\n",
    "        self.__eating_count = 0\n",
    "\n",
    "    def eat(self):\n",
    "        self.__eating_count += 1\n",
    "\n",
    "    def get_eating_count(self):\n",
    "        return self.__eating_count\n",
    "\n",
    "class Dog(Animal):\n",
    "    ...\n",
    "\n",
    "class Cow(Animal):\n",
    "    ..."
   ],
   "metadata": {
    "collapsed": false,
    "pycharm": {
     "name": "#%%\n"
    }
   }
  },
  {
   "cell_type": "code",
   "execution_count": null,
   "outputs": [],
   "source": [
    "dog = Dog(name=\"Melampo\")\n",
    "\n",
    "for times in range(0, 3):\n",
    "    dog.eat()"
   ],
   "metadata": {
    "collapsed": false,
    "pycharm": {
     "name": "#%%\n"
    }
   }
  },
  {
   "cell_type": "code",
   "execution_count": null,
   "outputs": [],
   "source": [
    "# Impossible to access because it is a private attribute\n",
    "dog.__eating_count"
   ],
   "metadata": {
    "collapsed": false,
    "pycharm": {
     "name": "#%%\n"
    }
   }
  },
  {
   "cell_type": "code",
   "execution_count": null,
   "outputs": [],
   "source": [
    "# The method returns the value of a private value\n",
    "dog.get_eating_count()"
   ],
   "metadata": {
    "collapsed": false,
    "pycharm": {
     "name": "#%%\n"
    }
   }
  },
  {
   "cell_type": "markdown",
   "source": [
    "Now, let's change the behaviour of the `eat` method for the `Dog` class by overriding it."
   ],
   "metadata": {
    "collapsed": false,
    "pycharm": {
     "name": "#%% md\n"
    }
   }
  },
  {
   "cell_type": "code",
   "execution_count": null,
   "outputs": [],
   "source": [
    "class Dog(Animal):\n",
    "    def eat(self):\n",
    "        # Dog eats three times instead of one\n",
    "        self.__eating_count += 3"
   ],
   "metadata": {
    "collapsed": false,
    "pycharm": {
     "name": "#%%\n"
    }
   }
  },
  {
   "cell_type": "code",
   "execution_count": null,
   "outputs": [],
   "source": [
    "dog = Dog(name=\"Melampo\")\n",
    "\n",
    "for times in range(0, 3):\n",
    "    dog.eat()\n"
   ],
   "metadata": {
    "collapsed": false,
    "pycharm": {
     "name": "#%%\n"
    }
   }
  },
  {
   "cell_type": "markdown",
   "source": [
    "The overridden method tries to access to the private attribute but children classes do not inherit it. You need to change\n",
    "the attribute to **protected**."
   ],
   "metadata": {
    "collapsed": false,
    "pycharm": {
     "name": "#%% md\n"
    }
   }
  },
  {
   "cell_type": "code",
   "execution_count": null,
   "outputs": [],
   "source": [
    "class Animal:\n",
    "    def __init__(self, name):\n",
    "        self.name = name\n",
    "\n",
    "        # Private attribute\n",
    "        self._eating_count = 0\n",
    "\n",
    "    def eat(self):\n",
    "        self._eating_count += 1\n",
    "\n",
    "    def get_eating_count(self):\n",
    "        return self._eating_count\n",
    "\n",
    "class Dog(Animal):\n",
    "    def eat(self):\n",
    "        # Dog eats three times instead of one\n",
    "        self._eating_count += 3\n",
    "\n",
    "class Cow(Animal):\n",
    "    ...\n",
    "\n",
    "dog = Dog(name=\"Melampo\")\n",
    "cow = Cow(name=\"Fionda\")\n",
    "\n",
    "for times in range(0, 3):\n",
    "    dog.eat()\n",
    "    cow.eat()\n",
    "\n",
    "print(f'{dog.name} -> {dog.get_eating_count()}')\n",
    "print(f'{cow.name} -> {cow.get_eating_count()}')"
   ],
   "metadata": {
    "collapsed": false,
    "pycharm": {
     "name": "#%%\n"
    }
   }
  }
 ],
 "metadata": {
  "kernelspec": {
   "display_name": "Python 3",
   "language": "python",
   "name": "python3"
  },
  "language_info": {
   "codemirror_mode": {
    "name": "ipython",
    "version": 3
   },
   "file_extension": ".py",
   "mimetype": "text/x-python",
   "name": "python",
   "nbconvert_exporter": "python",
   "pygments_lexer": "ipython3",
   "version": "3.8.2"
  }
 },
 "nbformat": 4,
 "nbformat_minor": 1
}
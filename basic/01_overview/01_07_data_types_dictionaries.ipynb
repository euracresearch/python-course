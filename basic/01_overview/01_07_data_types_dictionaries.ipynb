{
 "cells": [
  {
   "cell_type": "markdown",
   "metadata": {},
   "source": [
    "# Mapping Types: dict\n",
    "\n",
    "A dictionary is an **unordered** collection of elements, that are **mutable** and **indexed**.\n",
    "\n",
    "- Indexes on a dictionary do not repeat (a set is a dictionary without indexed elements)\n",
    "- Access to an element of a dictionary is through the key (index like in lists)\n",
    "\n",
    "![Dictionary: James Bond](../images/03_02_JamesBond.png)\n",
    "\n",
    "```python\n",
    "# Use {} (curly brackets) to create a dictionary\n",
    "dict_variable = {\n",
    "    'element_1': 'value_1',\n",
    "    'element_2': 'value_2',\n",
    "    '...': '...'\n",
    "}\n",
    "```"
   ]
  },
  {
   "cell_type": "code",
   "execution_count": null,
   "metadata": {
    "pycharm": {
     "name": "#%%\n"
    }
   },
   "outputs": [],
   "source": [
    "agent_007 = {\n",
    "    'first_name': 'James',\n",
    "    'last_name': 'Bond',\n",
    "    'married': False,\n",
    "    'age': 40,\n",
    "    'favorite_number': 3.1416,\n",
    "    'phone': '1-800-007007',\n",
    "    'weekly_fruits': []\n",
    "}\n",
    "\n",
    "agent_007"
   ]
  },
  {
   "cell_type": "code",
   "execution_count": null,
   "metadata": {
    "pycharm": {
     "name": "#%%\n"
    }
   },
   "outputs": [],
   "source": [
    "agent_007 = dict(\n",
    "    first_name='James',\n",
    "    last_name='Bond',\n",
    "    married=False,\n",
    "    age=40,\n",
    "    favorite_number=3.1416,\n",
    "    phone='1-800-007007',\n",
    "    weekly_fruits=[]\n",
    ")\n",
    "agent_007\n"
   ]
  },
  {
   "cell_type": "markdown",
   "metadata": {},
   "source": [
    "## Functions"
   ]
  },
  {
   "cell_type": "markdown",
   "metadata": {},
   "source": [
    "### Modifying a dictionary"
   ]
  },
  {
   "cell_type": "code",
   "execution_count": null,
   "metadata": {
    "pycharm": {
     "name": "#%%\n"
    }
   },
   "outputs": [],
   "source": [
    "# New item\n",
    "agent_007['favorite_car'] = 'Aston Martin DB7'"
   ]
  },
  {
   "cell_type": "code",
   "execution_count": null,
   "metadata": {
    "pycharm": {
     "name": "#%%\n"
    }
   },
   "outputs": [],
   "source": [
    "# Access to element\n",
    "agent_007['favorite_number']"
   ]
  },
  {
   "cell_type": "code",
   "execution_count": null,
   "metadata": {
    "pycharm": {
     "name": "#%%\n"
    }
   },
   "outputs": [],
   "source": [
    "# Returns a default value in case the key is not present\n",
    "agent_007.get('pet', 'not found!')"
   ]
  },
  {
   "cell_type": "code",
   "execution_count": null,
   "metadata": {
    "pycharm": {
     "name": "#%%\n"
    }
   },
   "outputs": [],
   "source": [
    "# Length of the list\n",
    "len(agent_007)"
   ]
  },
  {
   "cell_type": "code",
   "execution_count": null,
   "metadata": {
    "pycharm": {
     "name": "#%%\n"
    }
   },
   "outputs": [],
   "source": [
    "# Membership: check if an key is in a dictionary\n",
    "'phone' in agent_007"
   ]
  },
  {
   "cell_type": "markdown",
   "metadata": {},
   "source": [
    "#### Handling missing keys"
   ]
  },
  {
   "cell_type": "code",
   "execution_count": null,
   "metadata": {
    "pycharm": {
     "name": "#%%\n"
    }
   },
   "outputs": [],
   "source": [
    "# Default value\n",
    "vegetables = agent_007.get('weekly_vegetables', [])\n",
    "len(vegetables)"
   ]
  },
  {
   "cell_type": "code",
   "execution_count": null,
   "metadata": {
    "pycharm": {
     "name": "#%%\n"
    }
   },
   "outputs": [],
   "source": [
    "vegetables = agent_007['weekly_vegetables'] if 'weekly_vegetables' in agent_007 else []\n",
    "len(vegetables)"
   ]
  },
  {
   "cell_type": "code",
   "execution_count": null,
   "metadata": {
    "pycharm": {
     "name": "#%%\n"
    }
   },
   "outputs": [],
   "source": [
    "# Try/Except\n",
    "try:\n",
    "    vegetables = agent_007['weekly_vegetables']\n",
    "except KeyError:\n",
    "    vegetables = []\n",
    "\n",
    "len(vegetables)"
   ]
  },
  {
   "cell_type": "code",
   "execution_count": null,
   "metadata": {
    "pycharm": {
     "name": "#%%\n"
    }
   },
   "outputs": [],
   "source": [
    "# Getting value and deleting\n",
    "fruits = agent_007.pop('last_name')\n",
    "\n",
    "print(fruits)\n",
    "print(agent_007)"
   ]
  },
  {
   "cell_type": "code",
   "execution_count": null,
   "metadata": {
    "pycharm": {
     "name": "#%%\n"
    }
   },
   "outputs": [],
   "source": [
    "# Deleting\n",
    "del agent_007['weekly_fruits']\n",
    "print(agent_007)"
   ]
  },
  {
   "cell_type": "markdown",
   "metadata": {},
   "source": [
    "### Copying a dictionary\n",
    "Same as lists, it is not possible to assign the content of a set into another variable using the = operator, otherwise you will be assigning a *reference* of the set to the new variable."
   ]
  },
  {
   "cell_type": "code",
   "execution_count": null,
   "metadata": {
    "pycharm": {
     "name": "#%%\n"
    }
   },
   "outputs": [],
   "source": [
    "agent_008 = agent_007.copy()\n"
   ]
  },
  {
   "cell_type": "markdown",
   "metadata": {},
   "source": [
    "### Loop through a dictionary"
   ]
  },
  {
   "cell_type": "code",
   "execution_count": null,
   "metadata": {
    "pycharm": {
     "name": "#%%\n"
    }
   },
   "outputs": [],
   "source": [
    "for key, value in agent_007.items():\n",
    "    print(f\"Agent 007's {key} is: {value}\")"
   ]
  },
  {
   "cell_type": "markdown",
   "metadata": {},
   "source": [
    "### Zip lists"
   ]
  },
  {
   "cell_type": "code",
   "execution_count": null,
   "metadata": {
    "pycharm": {
     "name": "#%%\n"
    }
   },
   "outputs": [],
   "source": [
    "keys = ['title', 'author', 'year', 'pages']\n",
    "values = ['Resto qui', 'Marco Balzano', 2018, 168]\n",
    "\n",
    "book = dict(zip(keys, values))\n",
    "book"
   ]
  },
  {
   "cell_type": "markdown",
   "metadata": {},
   "source": [
    "### Nested dictionaries"
   ]
  },
  {
   "cell_type": "code",
   "execution_count": null,
   "metadata": {
    "pycharm": {
     "name": "#%%\n"
    }
   },
   "outputs": [],
   "source": [
    "agents = {\n",
    "    'agent_007': {\n",
    "        'first_name': 'James',\n",
    "        'last_name': 'Bond',\n",
    "        'married': False,\n",
    "        'age': 40,\n",
    "        'favorite_number': 3.1416,\n",
    "        'phone': '1-800-007007',\n",
    "        'weekly_fruits': ['avocado']\n",
    "    },\n",
    "    'agent_004':{\n",
    "        'first_name': 'Frederick',\n",
    "        'last_name': 'Warder',\n",
    "        'married': True,\n",
    "        'age': 25,\n",
    "        'favorite_number': 4,\n",
    "        'phone': '1-800-004004',\n",
    "        'weekly_fruits': ['mango', 'mango']\n",
    "    },\n",
    "    'agent_006':{\n",
    "        'first_name': 'Alec',\n",
    "        'last_name': 'Trevelyan',\n",
    "        'married': False,\n",
    "        'age': 35,\n",
    "        'favorite_number': 0,\n",
    "        'phone': '1-800-006006',\n",
    "        'weekly_fruits': ['watermelon']\n",
    "    }\n",
    "}\n"
   ]
  },
  {
   "cell_type": "code",
   "execution_count": null,
   "metadata": {
    "pycharm": {
     "name": "#%%\n"
    }
   },
   "outputs": [],
   "source": [
    "agents['agent_004']['weekly_fruits'][1]"
   ]
  },
  {
   "cell_type": "code",
   "execution_count": null,
   "metadata": {
    "pycharm": {
     "name": "#%%\n"
    }
   },
   "outputs": [],
   "source": [
    "# Iterating nested dictionaries\n",
    "for agent_name, agent_info in agents.items():\n",
    "    print(agent_name)\n",
    "    print(agent_info)"
   ]
  }
 ],
 "metadata": {
  "kernelspec": {
   "display_name": "Python 3",
   "language": "python",
   "name": "python3"
  },
  "language_info": {
   "codemirror_mode": {
    "name": "ipython",
    "version": 3
   },
   "file_extension": ".py",
   "mimetype": "text/x-python",
   "name": "python",
   "nbconvert_exporter": "python",
   "pygments_lexer": "ipython3",
   "version": "3.8.2"
  }
 },
 "nbformat": 4,
 "nbformat_minor": 1
}
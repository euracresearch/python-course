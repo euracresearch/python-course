{
 "cells": [
  {
   "cell_type": "markdown",
   "metadata": {},
   "source": [
    "# Control flow\n",
    "The control flow in Python is done using 4 spaces (indentation) to define the block of code that have to be considered. So the space in Python is part of the language and is used to define and change the meaning of the code.\n",
    "\n",
    "The **indentation** (4 spaces) in Python it's important!\n",
    "\n",
    "The main control flows that we will see in this notebook are:\n",
    "* if, elif, else;\n",
    "* for and list-comprehension;\n",
    "* while, break and continue;"
   ]
  },
  {
   "cell_type": "markdown",
   "metadata": {},
   "source": [
    "# ```if, elif, else``` Statement\n",
    "\n",
    "![Control flow IF](../images/02_02_control_flow_if.png)"
   ]
  },
  {
   "cell_type": "markdown",
   "metadata": {},
   "source": [
    "This flow is used to decide what to do when a **boolean evaluation** is verified.\n",
    "Syntax:\n",
    "\n",
    "```python\n",
    "if {condition}:           # <= note the `:`\n",
    "    {do something}\n",
    "elif {condition_1}:      # <= note the `:`\n",
    "    {manage this case}\n",
    "else:                     # <= note the `:`\n",
    "    {do other things}\n",
    "```\n",
    "\n",
    "`elif` or `else` after an `if` statement are optional."
   ]
  },
  {
   "cell_type": "markdown",
   "metadata": {},
   "source": [
    "Use an `if` condition to assign a variable:\n",
    "\n",
    "```python\n",
    "{variable} = {value when condition is true} if {condition} else {value condition is false}\n",
    "```"
   ]
  },
  {
   "cell_type": "code",
   "execution_count": null,
   "metadata": {
    "pycharm": {
     "name": "#%%\n"
    }
   },
   "outputs": [],
   "source": [
    "bool(0)"
   ]
  },
  {
   "cell_type": "code",
   "execution_count": null,
   "metadata": {
    "pycharm": {
     "name": "#%%\n"
    }
   },
   "outputs": [],
   "source": [
    "# Boolean casting of numbers != 0 is always True\n",
    "bool(5)"
   ]
  },
  {
   "cell_type": "code",
   "execution_count": null,
   "metadata": {},
   "outputs": [],
   "source": [
    "5 % 2"
   ]
  },
  {
   "cell_type": "code",
   "execution_count": null,
   "metadata": {
    "pycharm": {
     "name": "#%%\n"
    }
   },
   "outputs": [],
   "source": [
    "# Multiple-line IF\n",
    "\n",
    "number = 3\n",
    "if number % 2:\n",
    "    print(f\"{number} is odd!\")\n",
    "else:\n",
    "    print(f\"{number} is even!\")"
   ]
  },
  {
   "cell_type": "code",
   "execution_count": null,
   "metadata": {
    "pycharm": {
     "name": "#%%\n"
    }
   },
   "outputs": [],
   "source": [
    "# Value with IF\n",
    "number = 5\n",
    "output_variable = f\"{number} is {'odd' if number % 2 else 'even'}!\"\n",
    "print(output_variable)\n"
   ]
  },
  {
   "cell_type": "markdown",
   "metadata": {},
   "source": [
    "[Python3.8](https://docs.python.org/3.8/whatsnew/3.8.html#assignment-expressions) introduced the [Assignement Expressions](https://www.python.org/dev/peps/pep-0572/) concept:"
   ]
  },
  {
   "cell_type": "code",
   "execution_count": null,
   "metadata": {},
   "outputs": [],
   "source": [
    "if (number := int(input('Select a number'))) % 2:\n",
    "    print(f\"{number} is odd!\")\n",
    "else:\n",
    "    print(f\"{number} is even!\")"
   ]
  },
  {
   "cell_type": "markdown",
   "metadata": {},
   "source": [
    "## ```switch/case``` Statement\n",
    "In Python, the switch/case statement does not exist. Instead, `ìf` with multiple `elif` are required."
   ]
  },
  {
   "cell_type": "code",
   "execution_count": null,
   "metadata": {
    "pycharm": {
     "name": "#%%\n"
    }
   },
   "outputs": [],
   "source": [
    "option = input('Select your month ')\n",
    "# Cast input as integer\n",
    "option_int = int(option)\n",
    "\n",
    "if option_int == 1:\n",
    "    month = 'January'\n",
    "elif option_int == 2:\n",
    "    month = 'February'\n",
    "elif option_int == 3:\n",
    "    month = 'March'\n",
    "else:\n",
    "    month = 'Other'\n",
    "\n",
    "print(f'You selected: {month}')"
   ]
  },
  {
   "cell_type": "code",
   "execution_count": null,
   "metadata": {},
   "outputs": [],
   "source": [
    "if option_int == 1:\n",
    "    month = 'January'\n",
    "else:\n",
    "    if option_int == 2:\n",
    "        month = 'February'\n",
    "    else:\n",
    "        if option_int == 3:\n",
    "            month = 'March'\n",
    "        else:\n",
    "            month = 'Other'\n",
    "            \n",
    "print(f'You selected: {month}')"
   ]
  },
  {
   "cell_type": "markdown",
   "metadata": {},
   "source": [
    "It is possible to simulate a `switch/case` by using dictionaries."
   ]
  },
  {
   "cell_type": "code",
   "execution_count": null,
   "metadata": {
    "pycharm": {
     "name": "#%%\n"
    }
   },
   "outputs": [],
   "source": [
    "option = input('Select your month ')\n",
    "\n",
    "# Cast input as integer\n",
    "option_int = int(option)\n",
    "\n",
    "months = {\n",
    "    1: 'January',\n",
    "    2: 'February',\n",
    "    3: 'March'\n",
    "}\n",
    "\n",
    "print(f'You selected: {months.get(option_int, \"Other\")}')"
   ]
  },
  {
   "cell_type": "markdown",
   "metadata": {},
   "source": [
    "[Python3.10](https://docs.python.org/3.10/whatsnew/3.10.html#pep-634-structural-pattern-matching) introduce a new concept to the language that is the the [Structural Pattern Matching - PEP636](https://www.python.org/dev/peps/pep-0636/), so lets see the above example using the pattern matching:"
   ]
  },
  {
   "cell_type": "code",
   "execution_count": null,
   "metadata": {},
   "outputs": [],
   "source": [
    "match int(input('Select your month ')):\n",
    "    case 1:\n",
    "        month = \"January\"\n",
    "    case 2:\n",
    "        month = \"February\"\n",
    "    case 3:\n",
    "        month = \"March\"\n",
    "    case _:\n",
    "        month = \"Other\"\n",
    "\n",
    "print(f'You selected {month}')"
   ]
  },
  {
   "cell_type": "markdown",
   "metadata": {},
   "source": [
    "# ```for``` Statement\n",
    "\n",
    "![Control flow FOR](../images/02_03_control_flow_for.png)\n",
    "The `for` loop are used to repeat several times something.\n",
    "\n",
    "Syntax:\n",
    "\n",
    "```python\n",
    "for {variable} in {something that is iterable}:  # <= note the `:`\n",
    "    {do something}\n",
    "```\n",
    "As an example, we can apply the code defined in the previous section to check if a list of numbers are odd or even:"
   ]
  },
  {
   "cell_type": "code",
   "execution_count": null,
   "metadata": {
    "pycharm": {
     "name": "#%%\n"
    }
   },
   "outputs": [],
   "source": [
    "numbers = [1, 2, 3, 4, 5, 6.5, 7.0, ]\n",
    "\n",
    "for number in numbers:\n",
    "    print(f\"{number} is {'odd' if number % 2 else 'even'}!\")"
   ]
  },
  {
   "cell_type": "markdown",
   "metadata": {},
   "source": [
    "It is possible to nest more for cycles together."
   ]
  },
  {
   "cell_type": "code",
   "execution_count": null,
   "metadata": {
    "pycharm": {
     "name": "#%%\n"
    }
   },
   "outputs": [],
   "source": [
    "for odd in [1, 3, 5, 7]:\n",
    "    for even in [1, 2]:\n",
    "        number = odd * even\n",
    "        print(f\"{number} is {'odd' if number % 2 else 'even'}!\")\n"
   ]
  },
  {
   "cell_type": "markdown",
   "metadata": {},
   "source": [
    "## List comprehension"
   ]
  },
  {
   "cell_type": "code",
   "execution_count": null,
   "metadata": {
    "pycharm": {
     "name": "#%%\n"
    }
   },
   "outputs": [],
   "source": [
    "colors = [\"red\", \"green\", \"blue\"]"
   ]
  },
  {
   "cell_type": "code",
   "execution_count": null,
   "metadata": {
    "pycharm": {
     "name": "#%%\n"
    }
   },
   "outputs": [],
   "source": [
    "myvar = [[color, len(color)] for color in colors]\n",
    "print(myvar)"
   ]
  },
  {
   "cell_type": "code",
   "execution_count": null,
   "metadata": {
    "pycharm": {
     "name": "#%%\n"
    }
   },
   "outputs": [],
   "source": [
    "myvar = []\n",
    "for color in colors:\n",
    "    myvar.append([color, len(color)])\n",
    "print(myvar)"
   ]
  },
  {
   "cell_type": "markdown",
   "metadata": {},
   "source": [
    "List comprehension with an if condition"
   ]
  },
  {
   "cell_type": "code",
   "execution_count": null,
   "metadata": {
    "pycharm": {
     "name": "#%%\n"
    }
   },
   "outputs": [],
   "source": [
    "[[color, len(color)] for color in colors if len(color) > 3]"
   ]
  },
  {
   "cell_type": "code",
   "execution_count": null,
   "metadata": {
    "pycharm": {
     "name": "#%%\n"
    }
   },
   "outputs": [],
   "source": [
    "myvar = []\n",
    "for color in colors:\n",
    "    if len(color) > 3:\n",
    "        myvar.append([color, len(color)])\n",
    "print(myvar)"
   ]
  },
  {
   "cell_type": "markdown",
   "metadata": {},
   "source": [
    "We can define also nested cycles:"
   ]
  },
  {
   "cell_type": "code",
   "execution_count": null,
   "metadata": {
    "pycharm": {
     "name": "#%%\n"
    }
   },
   "outputs": [],
   "source": [
    "myvar = [[i, j] for i in [1, 3, 5] for j in [2, 4, 6]]\n",
    "myvar"
   ]
  },
  {
   "cell_type": "code",
   "execution_count": null,
   "metadata": {
    "pycharm": {
     "name": "#%%\n"
    }
   },
   "outputs": [],
   "source": [
    "myvar = []\n",
    "for i in [1, 3, 5]:\n",
    "    for j in [2, 4, 6]:\n",
    "        myvar.append([i, j])\n",
    "print(myvar)"
   ]
  },
  {
   "cell_type": "code",
   "execution_count": null,
   "metadata": {
    "pycharm": {
     "name": "#%%\n"
    }
   },
   "outputs": [],
   "source": [
    "myvar = [[[i, j] for i in [1, 3, 5]] for j in [2, 4, 6]]\n",
    "myvar"
   ]
  },
  {
   "cell_type": "code",
   "execution_count": null,
   "metadata": {
    "pycharm": {
     "name": "#%%\n"
    }
   },
   "outputs": [],
   "source": [
    "myvar = []\n",
    "for i in [1, 3, 5]:\n",
    "    innerlist = []\n",
    "    for j in [2, 4, 6]:\n",
    "        innerlist.append([i, j])\n",
    "    myvar.append(innerlist)\n",
    "print(myvar)"
   ]
  },
  {
   "cell_type": "markdown",
   "metadata": {},
   "source": [
    "# ```while``` Statement\n",
    "Loop that will be executed as long as the condition is true.\n",
    "\n",
    "Syntax:\n",
    "```python\n",
    "while {condition}:\n",
    "    {do something}\n",
    "```"
   ]
  },
  {
   "cell_type": "code",
   "execution_count": null,
   "metadata": {
    "pycharm": {
     "name": "#%%\n"
    }
   },
   "outputs": [],
   "source": [
    "# initialize a variable\n",
    "x = 0\n",
    "# condition, break the cycle when False\n",
    "while x < 4:\n",
    "    print('a' * x)\n",
    "    x += 1\n"
   ]
  },
  {
   "cell_type": "code",
   "execution_count": null,
   "metadata": {},
   "outputs": [],
   "source": [
    "for x in range(10):\n",
    "    if x < 4:\n",
    "        print('a' * x)"
   ]
  },
  {
   "cell_type": "markdown",
   "metadata": {},
   "source": [
    "## continue and break"
   ]
  },
  {
   "cell_type": "markdown",
   "metadata": {},
   "source": [
    "Sometimes is useful to jump to the next iteration or to interrupt the cycle."
   ]
  },
  {
   "cell_type": "code",
   "execution_count": null,
   "metadata": {
    "pycharm": {
     "name": "#%%\n"
    }
   },
   "outputs": [],
   "source": [
    "from random import randint\n",
    "\n",
    "counter = 0\n",
    "\n",
    "while True:  # infinite loop\n",
    "    number = randint(0, 9)\n",
    "    if number % 2:\n",
    "        # Goes to the beginning of the cycle\n",
    "        continue\n",
    "    print(f\"{number} is {'odd' if number % 2 else 'even'}!\")\n",
    "    counter += 1\n",
    "    if counter > 10:\n",
    "        # Breaks the cycle\n",
    "        break"
   ]
  },
  {
   "cell_type": "markdown",
   "metadata": {},
   "source": [
    "`while` also support the *Assignement expression* therefore it is possible to write while loops like:\n",
    "\n",
    "```python\n",
    "# Loop over fixed length blocks\n",
    "while (block := f.read(256)) != '':\n",
    "    process(block)\n",
    "```"
   ]
  },
  {
   "cell_type": "markdown",
   "metadata": {},
   "source": [
    "# ```try/except``` Statement"
   ]
  },
  {
   "cell_type": "markdown",
   "metadata": {},
   "source": [
    "Python allows managing errors during the execution of the commands:"
   ]
  },
  {
   "cell_type": "code",
   "execution_count": null,
   "metadata": {},
   "outputs": [],
   "source": [
    "1 / 0\n"
   ]
  },
  {
   "cell_type": "code",
   "execution_count": null,
   "metadata": {
    "pycharm": {
     "name": "#%%\n"
    }
   },
   "outputs": [],
   "source": [
    "numerator = 1\n",
    "denominator = 0 # change to 0\n",
    "\n",
    "try:\n",
    "    print(numerator/denominator)\n",
    "except (ZeroDivisionError, TypeError) as exc:\n",
    "    print(\"Divide a number with 0 is not a valid operation!\")\n",
    "else:\n",
    "    print(\"Here we are...\")\n",
    "finally:\n",
    "    print(\"Do something at the end\")"
   ]
  },
  {
   "cell_type": "markdown",
   "metadata": {},
   "source": [
    "## Functions often used on cycles\n",
    "* range\n",
    "* enumerate\n",
    "* zip\n"
   ]
  },
  {
   "cell_type": "code",
   "execution_count": null,
   "metadata": {
    "pycharm": {
     "name": "#%%\n"
    }
   },
   "outputs": [],
   "source": [
    "range(5, 10)  # return an iterator"
   ]
  },
  {
   "cell_type": "code",
   "execution_count": null,
   "metadata": {
    "pycharm": {
     "name": "#%%\n"
    }
   },
   "outputs": [],
   "source": [
    "list(range(5, 10))  # convert an iterator to list"
   ]
  },
  {
   "cell_type": "code",
   "execution_count": null,
   "metadata": {
    "pycharm": {
     "name": "#%%\n"
    }
   },
   "outputs": [],
   "source": [
    "list(range(5, 20, 3))"
   ]
  },
  {
   "cell_type": "code",
   "execution_count": null,
   "metadata": {
    "pycharm": {
     "name": "#%%\n"
    }
   },
   "outputs": [],
   "source": [
    "[[i, char] for i, char in enumerate('mytext')]"
   ]
  },
  {
   "cell_type": "code",
   "execution_count": null,
   "metadata": {
    "pycharm": {
     "name": "#%%\n"
    }
   },
   "outputs": [],
   "source": [
    "[[i, char] for i, char in zip('abcd', range(4))]"
   ]
  },
  {
   "cell_type": "code",
   "execution_count": null,
   "metadata": {},
   "outputs": [],
   "source": []
  }
 ],
 "metadata": {
  "kernelspec": {
   "display_name": "Python 3 (ipykernel)",
   "language": "python",
   "name": "python3"
  },
  "language_info": {
   "codemirror_mode": {
    "name": "ipython",
    "version": 3
   },
   "file_extension": ".py",
   "mimetype": "text/x-python",
   "name": "python",
   "nbconvert_exporter": "python",
   "pygments_lexer": "ipython3",
   "version": "3.10.1"
  }
 },
 "nbformat": 4,
 "nbformat_minor": 1
}

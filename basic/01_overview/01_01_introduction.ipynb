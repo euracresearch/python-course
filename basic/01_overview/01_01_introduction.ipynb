{
 "cells": [
  {
   "cell_type": "markdown",
   "metadata": {},
   "source": [
    "# What is Python?\n",
    "\n",
    "- A general-domain programming language\n",
    "- A high-level language: use of natural language elements to write code\n",
    "- Elegant and simple syntax\n",
    "- Interpreted language\n",
    "    - No compilation needed\n",
    "    - Dynamic typing\n",
    "    - It can be executed on different operating systems\n",
    "- High-level built-in data types\n",
    "- Allows modularization\n",
    "- Object-oriented programming\n",
    "- Lots of standard modules (io, sockets, math, collections, etc.)\n",
    "\n",
    "![Python](../images/01_01_introduction_python.jpg)"
   ]
  },
  {
   "cell_type": "markdown",
   "metadata": {},
   "source": [
    "## Example"
   ]
  },
  {
   "cell_type": "code",
   "execution_count": null,
   "metadata": {
    "pycharm": {
     "name": "#%%\n"
    }
   },
   "outputs": [],
   "source": [
    "import sys\n",
    "\n",
    "\"\"\"\n",
    "Let's count the occurrences of a letter appearing in all fruits\n",
    "that are not apple (because I don't like them), shall we?\n",
    "\"\"\"\n",
    "\n",
    "class FruitCharacterCount:\n",
    "    def __init__(self, name: str):\n",
    "        \"\"\"\n",
    "        This class counts the characters of a fruit, given a string value.\n",
    "\n",
    "        :param name: Name of the fruit\n",
    "        \"\"\"\n",
    "        # Property of class\n",
    "        self.name = name\n",
    "\n",
    "    @property\n",
    "    def characters(self) -> dict:\n",
    "        \"\"\"\n",
    "        Method that is a property that returns the number of characters of the property name\n",
    "\n",
    "        :return: Dictionary with character count\n",
    "        \"\"\"\n",
    "        fruit_chars = {}\n",
    "        # Go over characters of the name to count its occurrences\n",
    "        for char in self.name:\n",
    "            fruit_chars[char] = fruit_chars.get(char, 0) + 1\n",
    "        return fruit_chars\n",
    "\n",
    "    def __repr__(self):\n",
    "        \"\"\"\n",
    "        Nice representation of class when printing it\n",
    "\n",
    "        :return: String value\n",
    "        \"\"\"\n",
    "        character_str = ', '.join([f\"{count} {char}'s\" for char, count in self.characters.items()])\n",
    "        return f'The fruit \"{self.name}\" has {character_str}'\n",
    "\n",
    "\n",
    "if __name__ == '__main__':\n",
    "    # Step 1: declare a list of fruits\n",
    "    fruit_list = ['apple', 'pear', 'apricot', 'avocado']\n",
    "\n",
    "    # Step 2: cycle over each fruit\n",
    "    for fruit_name in fruit_list:\n",
    "        # Step 3: verify that the fruit is not 'apple', otherwise skip it\n",
    "        if fruit_name == 'apple':\n",
    "            continue\n",
    "\n",
    "        # Step 4: Create instance of FruitCharacterCount\n",
    "        fruit_counter = FruitCharacterCount(name=fruit_name)\n",
    "\n",
    "        # Step 5: Show nice representation of fruit\n",
    "        print(fruit_counter)\n",
    "\n",
    "    sys.exit()"
   ]
  },
  {
   "cell_type": "markdown",
   "source": [
    "Try to read and understand this code after the course!"
   ],
   "metadata": {
    "collapsed": false
   }
  },
  {
   "cell_type": "markdown",
   "metadata": {},
   "source": [
    "# Language features\n",
    "\n",
    "## Comments\n",
    "Comments are useful to:\n",
    "- Explain what a piece of code does\n",
    "- To make the code more readable\n",
    "- To avoid executing a command or series of commands when debugging"
   ]
  },
  {
   "cell_type": "code",
   "execution_count": null,
   "metadata": {
    "pycharm": {
     "name": "#%%\n"
    }
   },
   "outputs": [],
   "source": [
    "# Single-line comment: using #\n",
    "# This line will print 'Hello world' in screen, how cool is that?\n",
    "\n",
    "print('Hello world') # I can also write a comment after a command"
   ]
  },
  {
   "cell_type": "code",
   "execution_count": null,
   "metadata": {
    "pycharm": {
     "name": "#%%\n"
    }
   },
   "outputs": [],
   "source": [
    "\"\"\"\n",
    "Multi-line comment: using \"\"\" \"\"\"\n",
    "\n",
    "This line will print 'Hello world' in screen,\n",
    "because we are pretty awesome!\n",
    "\"\"\"\n",
    "print('Hello world')\n"
   ]
  },
  {
   "cell_type": "markdown",
   "metadata": {},
   "source": [
    "## Dynamic typing\n",
    "Data type is implicitly recognized when declaring it."
   ]
  },
  {
   "cell_type": "code",
   "execution_count": null,
   "metadata": {
    "pycharm": {
     "name": "#%%\n"
    }
   },
   "outputs": [],
   "source": [
    "'string value'"
   ]
  },
  {
   "cell_type": "code",
   "execution_count": null,
   "metadata": {
    "pycharm": {
     "name": "#%%\n"
    }
   },
   "outputs": [],
   "source": [
    "type('string value')"
   ]
  },
  {
   "cell_type": "code",
   "execution_count": null,
   "metadata": {
    "pycharm": {
     "name": "#%%\n"
    }
   },
   "outputs": [],
   "source": [
    "type(1)"
   ]
  },
  {
   "cell_type": "code",
   "execution_count": null,
   "metadata": {
    "pycharm": {
     "name": "#%%\n"
    }
   },
   "outputs": [],
   "source": [
    "type(1.0)"
   ]
  },
  {
   "cell_type": "markdown",
   "metadata": {},
   "source": [
    "## Declaring variables\n",
    "Variables are containers for storing data values.\n",
    "You can think to a variable like a label, you can assign a label to different things."
   ]
  },
  {
   "cell_type": "code",
   "execution_count": null,
   "metadata": {
    "pycharm": {
     "name": "#%%\n"
    }
   },
   "outputs": [],
   "source": [
    "one = 1"
   ]
  },
  {
   "cell_type": "markdown",
   "metadata": {},
   "source": [
    "### Variable naming rules\n",
    "- A variable name must start with a letter or the underscore character\n",
    "- A variable name cannot start with a number\n",
    "- A variable name can only contain alpha-numeric characters and underscores (A-z, 0-9, and _ )\n",
    "- Variable names are case-sensitive (age, Age and AGE are three different variables)\n"
   ]
  },
  {
   "cell_type": "code",
   "execution_count": null,
   "metadata": {
    "pycharm": {
     "name": "#%%\n"
    }
   },
   "outputs": [],
   "source": [
    "_zero_ = 0 # Valid"
   ]
  },
  {
   "cell_type": "code",
   "execution_count": null,
   "metadata": {
    "pycharm": {
     "name": "#%%\n"
    }
   },
   "outputs": [],
   "source": [
    "0zero = 0 # Error"
   ]
  },
  {
   "cell_type": "code",
   "execution_count": null,
   "metadata": {
    "pycharm": {
     "name": "#%%\n"
    }
   },
   "outputs": [],
   "source": [
    "zero$ = 0 # Error"
   ]
  },
  {
   "cell_type": "code",
   "execution_count": null,
   "metadata": {
    "pycharm": {
     "name": "#%%\n"
    }
   },
   "outputs": [],
   "source": [
    "🍉 = 0 # Error"
   ]
  },
  {
   "cell_type": "code",
   "execution_count": null,
   "metadata": {
    "pycharm": {
     "name": "#%%\n"
    }
   },
   "outputs": [],
   "source": [
    "Δx = 0 # Valid"
   ]
  },
  {
   "cell_type": "code",
   "execution_count": null,
   "metadata": {
    "pycharm": {
     "name": "#%%\n"
    }
   },
   "outputs": [],
   "source": [
    "π = 3.14"
   ]
  },
  {
   "cell_type": "code",
   "execution_count": null,
   "metadata": {
    "pycharm": {
     "name": "#%%\n"
    }
   },
   "outputs": [],
   "source": [
    "age = 10"
   ]
  },
  {
   "cell_type": "code",
   "execution_count": null,
   "metadata": {
    "pycharm": {
     "name": "#%%\n"
    }
   },
   "outputs": [],
   "source": [
    "Age = 12"
   ]
  },
  {
   "cell_type": "code",
   "execution_count": null,
   "metadata": {
    "pycharm": {
     "name": "#%%\n"
    }
   },
   "outputs": [],
   "source": [
    "AGE = 15"
   ]
  },
  {
   "cell_type": "code",
   "execution_count": null,
   "metadata": {
    "pycharm": {
     "name": "#%%\n"
    }
   },
   "outputs": [],
   "source": [
    "age"
   ]
  },
  {
   "cell_type": "code",
   "execution_count": null,
   "metadata": {
    "pycharm": {
     "name": "#%%\n"
    }
   },
   "outputs": [],
   "source": [
    "Age"
   ]
  },
  {
   "cell_type": "code",
   "execution_count": null,
   "metadata": {
    "pycharm": {
     "name": "#%%\n"
    }
   },
   "outputs": [],
   "source": [
    "AGE"
   ]
  },
  {
   "cell_type": "markdown",
   "metadata": {},
   "source": [
    "You can also assign more than one variable at the same time:"
   ]
  },
  {
   "cell_type": "code",
   "execution_count": null,
   "metadata": {
    "pycharm": {
     "name": "#%%\n"
    }
   },
   "outputs": [],
   "source": [
    "two, three, four = 2, 3, 4"
   ]
  },
  {
   "cell_type": "code",
   "execution_count": null,
   "metadata": {
    "pycharm": {
     "name": "#%%\n"
    }
   },
   "outputs": [],
   "source": [
    "print(four, three)"
   ]
  },
  {
   "cell_type": "markdown",
   "metadata": {},
   "source": [
    "Or assign the same value to different variables:"
   ]
  },
  {
   "cell_type": "code",
   "execution_count": null,
   "metadata": {
    "pycharm": {
     "name": "#%%\n"
    }
   },
   "outputs": [],
   "source": [
    "a = b = c = 1"
   ]
  },
  {
   "cell_type": "code",
   "execution_count": null,
   "metadata": {
    "pycharm": {
     "name": "#%%\n"
    }
   },
   "outputs": [],
   "source": [
    "a"
   ]
  },
  {
   "cell_type": "code",
   "execution_count": null,
   "metadata": {
    "pycharm": {
     "name": "#%%\n"
    }
   },
   "outputs": [],
   "source": [
    "b"
   ]
  },
  {
   "cell_type": "code",
   "execution_count": null,
   "metadata": {
    "pycharm": {
     "name": "#%%\n"
    }
   },
   "outputs": [],
   "source": [
    "c\n"
   ]
  },
  {
   "cell_type": "markdown",
   "metadata": {},
   "source": [
    "### Type Annotation\n",
    "In some programming languages, whenever you declare a variable it is necessary to specify the data type.\n",
    "Even if Python provides dynamic typing, it is possible to specify the possible data type by using typing annotations.\n",
    "\n",
    "Type annotations are available since Python 3.5."
   ]
  },
  {
   "cell_type": "code",
   "execution_count": null,
   "metadata": {
    "pycharm": {
     "name": "#%%\n"
    }
   },
   "outputs": [],
   "source": [
    "# Implicit typing\n",
    "one = 1"
   ]
  },
  {
   "cell_type": "code",
   "execution_count": null,
   "metadata": {
    "pycharm": {
     "name": "#%%\n"
    }
   },
   "outputs": [],
   "source": [
    "# Declaring typing\n",
    "one: int\n",
    "one = 2.5"
   ]
  },
  {
   "cell_type": "code",
   "execution_count": null,
   "metadata": {
    "pycharm": {
     "name": "#%%\n"
    }
   },
   "outputs": [],
   "source": [
    "# Declaring typing and value\n",
    "one: int = 1\n",
    "\n"
   ]
  },
  {
   "cell_type": "markdown",
   "metadata": {},
   "source": [
    "### Accessing to properties and methods\n",
    "Data types have different methods and properties.\n",
    "\n",
    "```python\n",
    "variable_name.name_of_method(parameter_1, parameter_2, [..., parameter_n])\n",
    "```"
   ]
  },
  {
   "cell_type": "code",
   "execution_count": null,
   "metadata": {
    "pycharm": {
     "name": "#%%\n"
    }
   },
   "outputs": [],
   "source": [
    "# Count the number of 'i's in the string\n",
    "string_var = 'This is an introduction to Python'\n",
    "string_var.count('i')\n"
   ]
  },
  {
   "cell_type": "code",
   "execution_count": null,
   "metadata": {
    "pycharm": {
     "name": "#%%\n"
    }
   },
   "outputs": [],
   "source": [
    "# Create a list and append an element\n",
    "list_var = ['cat', 'dog', 'alligator']\n",
    "list_var.append('bird')"
   ]
  }
 ],
 "metadata": {
  "kernelspec": {
   "display_name": "Python 3",
   "language": "python",
   "name": "python3"
  },
  "language_info": {
   "codemirror_mode": {
    "name": "ipython",
    "version": 3
   },
   "file_extension": ".py",
   "mimetype": "text/x-python",
   "name": "python",
   "nbconvert_exporter": "python",
   "pygments_lexer": "ipython3",
   "version": "3.8.2"
  }
 },
 "nbformat": 4,
 "nbformat_minor": 1
}
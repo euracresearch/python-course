{
 "cells": [
  {
   "cell_type": "markdown",
   "metadata": {},
   "source": [
    "# Python environment"
   ]
  },
  {
   "cell_type": "markdown",
   "source": [
    "## Version of interpreter\n",
    "You can check the version of the interpreter by entering the following command in a terminal/console:\n",
    "\n",
    "```bash\n",
    "python --version\n",
    "```"
   ],
   "metadata": {
    "collapsed": false
   }
  },
  {
   "cell_type": "markdown",
   "source": [
    "## Using modules\n",
    "Python has multiple modules that can be used to extend the functionalities of the language.\n",
    "\n",
    "To use a specific module, use the `import` command."
   ],
   "metadata": {
    "collapsed": false
   }
  },
  {
   "cell_type": "code",
   "execution_count": null,
   "metadata": {
    "pycharm": {
     "name": "#%%\n"
    }
   },
   "outputs": [],
   "source": [
    "# Importing the complete module and all of its functions/classes\n",
    "import time\n",
    "\n",
    "# Importing one specific function/class from the module\n",
    "from datetime import datetime\n",
    "\n",
    "while True:\n",
    "    # \"now\" is part of the object \"datetime\"\n",
    "    now = datetime.now()\n",
    "    now = now.replace(microsecond=0)\n",
    "\n",
    "    print(f'\\rToday is: {now.isoformat()}', end='', flush=True)\n",
    "\n",
    "    # \"time\" module has function \"sleep\"\n",
    "    time.sleep(1)\n"
   ]
  },
  {
   "cell_type": "markdown",
   "metadata": {},
   "source": [
    "## Installing third-party modules\n",
    "The standard library of Python provides only a set of functions. It is possible to install third-party modules by\n",
    "using the Python Package Installer (PIP).\n",
    "\n",
    "Modules must be published on the Python Package Index repository [https://pypi.org/](https://pypi.org/). To install a\n",
    "module, you need to open a terminal/console and enter the following command:\n",
    "\n",
    "- Windows\n",
    "```bash\n",
    "python -m pip install <module_name+version>\n",
    "```\n",
    "\n",
    "- Linux/macOS:\n",
    "```bash\n",
    "pip install <module_name+version>\n",
    "```"
   ]
  },
  {
   "cell_type": "markdown",
   "source": [
    "It is also possible to install modules that are in GitHub:\n",
    "\n",
    "```bash\n",
    "pip install git+https://git@github.com/aaronestrada/flask-influxdb-response-log.git@v0.1.2\n",
    "```"
   ],
   "metadata": {
    "collapsed": false
   }
  },
  {
   "cell_type": "markdown",
   "source": [
    "You can keep track of the needed modules for your application in a `requirements.txt` file. Each line will have a\n",
    "module and its version number.\n",
    "\n",
    "```requirements.txt\n",
    "Flask==1.1.2\n",
    "\n",
    "# >= will install any version that is higher than that value\n",
    "flask-restplus>=0.12.0\n",
    "\n",
    "# If no version defined, it installs the last one\n",
    "iso8601\n",
    "```\n",
    "\n",
    "Then, you can install all the requirements include in that file:\n",
    "\n",
    "```bash\n",
    "pip install -r requirements.txt\n",
    "```"
   ],
   "metadata": {
    "collapsed": false
   }
  },
  {
   "cell_type": "markdown",
   "metadata": {},
   "source": [
    "# Virtual Environments\n",
    "Your applications may work only on a specific version of Python depending on the version you are using.\n",
    "\n",
    "For example, you will not be able to execute a script that contains type annotations on Python < 3.5 since it was not\n",
    "part of the language before that version.\n",
    "\n",
    "![Different interpreter](../images/01_11_different_interpreter.png)"
   ]
  },
  {
   "cell_type": "markdown",
   "source": [
    "In some other cases, your application will sometimes need a specific version of a module. Your code might work using a\n",
    "specific version of a module, but with the new versions something might stop working.\n",
    "\n",
    "![Same interpreter](../images/01_11_same_interpreter.png)\n",
    "\n",
    "If you use a unique interpreter, it means that you need to reinstall all of the required modules.\n",
    "\n",
    "Also, if you want to install a newer version of the Python interpreter, this means that you need to verify that all of\n",
    "your applications work on the new interpreter."
   ],
   "metadata": {
    "collapsed": false
   }
  },
  {
   "cell_type": "markdown",
   "source": [
    "To solve these problems, it is possible to create **virtual environments**.\n",
    "\n",
    "![venv](../images/01_11_virtual_env.png)"
   ],
   "metadata": {
    "collapsed": false
   }
  },
  {
   "cell_type": "markdown",
   "metadata": {},
   "source": [
    "## Create new environment\n",
    "Open a terminal/console and type the following command:\n",
    "\n",
    "```bash\n",
    "python -m venv <folder_name_with_new_environment>\n",
    "```"
   ]
  },
  {
   "cell_type": "markdown",
   "metadata": {},
   "source": [
    "## Activate environment\n",
    "Open a terminal/console and type the following command:\n",
    "\n",
    "Windows\n",
    "```bash\n",
    "<folder_name_with_new_environment>\\Scripts\\activate.bat\n",
    "```\n",
    "\n",
    "Linux/macOS:\n",
    "```bash\n",
    "source <folder_name_with_new_environment>/bin/activate\n",
    "```"
   ]
  },
  {
   "cell_type": "markdown",
   "metadata": {},
   "source": [
    "## PyCharm: creation and activation\n",
    "When you create a project, you can specify an existing interpreter to use, or you can create a new one based on an\n",
    "installed version of Python.\n",
    "\n",
    "PyCharm usually creates the virtual environment under the `/venv` folder.\n",
    "![PyCharm venv step 1](../images/01_11_01_new_project.png)\n",
    "\n",
    "After created, the folder /venv contains a new copy of the Python interpreter.\n",
    "![PyCharm venv step 2](../images/01_11_02_project_structure.png)\n",
    "\n",
    "\n",
    "If you open a terminal/console, you can see on the left that the virtual environment is activated for that project.\n",
    "![PyCharm venv step 3](../images/01_11_03_project_terminal.png)\n",
    "\n",
    "To create another interpreter, go to Preferences -> Project -> Python Interpreter. This option will show the list of\n",
    "interpreters to select and what modules are currently installed. Click on the top right button to add a new interpreter.\n",
    "\n",
    "![PyCharm venv step 4](../images/01_11_04_interpreters.png)\n",
    "\n",
    "Here you can select again a base interpreter and where it is going to be stored. Since the `/venv` folder already exists,\n",
    "you need to change the name, for instance `/venv_new`.\n",
    "\n",
    "![PyCharm venv step 5](../images/01_11_05_interpreter_new.png)\n",
    "\n",
    "To select the interpreter to use, select it from the list. Each environment will show different modules that have been\n",
    "installed.\n",
    "![PyCharm venv step 6](../images/01_11_06_select_interpreter.png)\n",
    "\n",
    "After selecting the new environment, try to open again the terminal/console and check that the environment has been selected.\n",
    "![PyCharm venv step 7](../images/01_11_07_terminal_new.png)\n",
    "\n",
    "You can also activate manually the environment from the terminal/console. But if you close the terminal and reopen it,\n",
    "the environment will turn back again to the selected one for the project.\n",
    "![PyCharm venv step 8](../images/01_11_08_change_env.png)"
   ]
  }
 ],
 "metadata": {
  "kernelspec": {
   "display_name": "Python 3",
   "language": "python",
   "name": "python3"
  },
  "language_info": {
   "codemirror_mode": {
    "name": "ipython",
    "version": 3
   },
   "file_extension": ".py",
   "mimetype": "text/x-python",
   "name": "python",
   "nbconvert_exporter": "python",
   "pygments_lexer": "ipython3",
   "version": "3.8.2"
  }
 },
 "nbformat": 4,
 "nbformat_minor": 1
}
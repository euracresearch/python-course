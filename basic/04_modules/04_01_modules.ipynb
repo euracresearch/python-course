{
 "cells": [
  {
   "cell_type": "markdown",
   "metadata": {
    "pycharm": {
     "name": "#%% md\n"
    }
   },
   "source": [
    "# Modularization"
   ]
  },
  {
   "cell_type": "markdown",
   "metadata": {},
   "source": [
    "## Importing modules\n",
    "Python has multiple modules that can be used to extend the functionalities of the language.\n",
    "\n",
    "To use a specific module, use the `import` command."
   ]
  },
  {
   "cell_type": "code",
   "execution_count": null,
   "metadata": {
    "pycharm": {
     "name": "#%%\n"
    }
   },
   "outputs": [],
   "source": [
    "# Importing the complete module and all of its functions/classes\n",
    "import time\n",
    "\n",
    "# Importing one specific function/class from the module\n",
    "from datetime import datetime\n",
    "\n",
    "while True:\n",
    "    # \"now\" is part of the object \"datetime\"\n",
    "    now = datetime.now()\n",
    "    now = now.replace(microsecond=0)\n",
    "\n",
    "    print(f'\\rToday is: {now.isoformat()}', end='', flush=True)\n",
    "\n",
    "    # \"time\" module has function \"sleep\"\n",
    "    time.sleep(1)\n"
   ]
  },
  {
   "cell_type": "markdown",
   "metadata": {},
   "source": [
    "## Importing across own files\n",
    "\n",
    "Let's define a file with all our functions.\n",
    "\n",
    "#### ``how_to_save_the_world.py``\n",
    "```python\n",
    "\n",
    "from functools import reduce\n",
    "\n",
    "\n",
    "def add(*args):\n",
    "    return reduce(lambda x, y: x+y, args)\n",
    "\n",
    "\n",
    "def multiply(*args):\n",
    "    return reduce(lambda x, y: x*y, args)\n",
    "```"
   ]
  },
  {
   "cell_type": "markdown",
   "metadata": {},
   "source": [
    "Then, let's create another file with our application.\n",
    "\n",
    "#### ``application.py``\n",
    "```python\n",
    "# Import all the functions from the package\n",
    "import how_to_save_the_world\n",
    "\n",
    "series = [1, 2, 3, 4, 5]\n",
    "\n",
    "print(how_to_save_the_world.add(*series))\n",
    "print(how_to_save_the_world.multiply(*series))\n",
    "```"
   ]
  },
  {
   "cell_type": "markdown",
   "metadata": {},
   "source": [
    "Let's execute the script:\n",
    "\n",
    "```bash\n",
    "python application.py\n",
    "```"
   ]
  },
  {
   "cell_type": "markdown",
   "metadata": {},
   "source": [
    "You can also abbreviate the name of the module:\n",
    "\n",
    "#### ``application.py``\n",
    "```python\n",
    "# Import all the functions from the package\n",
    "import how_to_save_the_world as save_it\n",
    "\n",
    "series = [1, 2, 3, 4, 5]\n",
    "\n",
    "print(save_it.add(*series))\n",
    "print(save_it.multiply(*series))\n",
    "```"
   ]
  },
  {
   "cell_type": "markdown",
   "metadata": {},
   "source": [
    "In some cases you need to import just one function.\n",
    "\n",
    "#### ``application.py``\n",
    "```python\n",
    "from how_to_save_the_world import multiply\n",
    "\n",
    "series = [1, 2, 3, 4, 5]\n",
    "print(multiply(*series))\n",
    "```\n"
   ]
  },
  {
   "cell_type": "markdown",
   "source": [
    "You can also specify to import everything from the module.\n",
    "\n",
    "#### ``trigonometry.py``\n",
    "```python\n",
    "import math\n",
    "\n",
    "# Internal variable\n",
    "__pi_value = math.pi\n",
    "\n",
    "# Importable variable\n",
    "pi_squared = math.pi ** 2\n",
    "\n",
    "pythagoras = lambda base, height: math.sqrt(base * base + height * height)\n",
    "\n",
    "circle_area = lambda radio: __pi_value * radio * radio\n",
    "```"
   ],
   "metadata": {
    "collapsed": false
   }
  },
  {
   "cell_type": "markdown",
   "source": [
    "#### ``application.py``\n",
    "```python\n",
    "from how_to_save_the_world import multiply\n",
    "\n",
    "# Import everything from module\n",
    "from trigonometry import *\n",
    "\n",
    "series = [1, 2, 3, 4, 5]\n",
    "\n",
    "print('Multiply from functions')\n",
    "print(multiply(*series))\n",
    "\n",
    "print('Multiply Pythagoras from trigonometry')\n",
    "print(pythagoras(3, 5))\n",
    "\n",
    "print('Area of circle')\n",
    "print(circle_area(5))\n",
    "\n",
    "\n",
    "# Print of trigonometry variables\n",
    "# print('Variables')\n",
    "\n",
    "# Importable variable\n",
    "# print(pi_squared)\n",
    "\n",
    "# Internal variable\n",
    "# print(__pi_value)\n",
    "```"
   ],
   "metadata": {
    "collapsed": false
   }
  },
  {
   "cell_type": "markdown",
   "metadata": {},
   "source": [
    "## Modules as scripts\n",
    "So far we have written modules and scripts in separated files. What if we need to execute a module file as script?\n",
    "\n",
    "Let's test the `multiply` function inside the script.\n",
    "\n",
    "#### ``how_to_save_the_world.py``\n",
    "```python\n",
    "from functools import reduce\n",
    "\n",
    "\n",
    "def add(*args):\n",
    "    return reduce(lambda x, y: x+y, args)\n",
    "\n",
    "\n",
    "def multiply(*args):\n",
    "    return reduce(lambda x, y: x*y, args)\n",
    "\n",
    "\n",
    "test_series = [1, 2, 3]\n",
    "print(f'I am testing the multiply function with {\" * \".join([str(value) for value in test_series])}: {multiply(*test_series)}')\n",
    "```"
   ]
  },
  {
   "cell_type": "markdown",
   "metadata": {},
   "source": [
    "Let's execute our module `how_to_save_the_world.py` as script:\n",
    "\n",
    "```bash\n",
    "python how_to_save_the_world.py\n",
    "```"
   ]
  },
  {
   "cell_type": "markdown",
   "metadata": {},
   "source": [
    "Now, let's execute again the script from `application.py`:\n",
    "\n",
    "```bash\n",
    "python application.py\n",
    "```"
   ]
  },
  {
   "cell_type": "markdown",
   "metadata": {},
   "source": [
    "You will obtain a result like this:\n",
    "\n",
    "```\n",
    "I am testing the multiply function with 1 * 2 * 3 = 6\n",
    "120\n",
    "```\n",
    "\n",
    "When you import a module, all the code that is inside will be scanned and executed.\n",
    "To avoid this behaviour, you need to specify what parts of the code will be executed as `script` by defining the\n",
    "clause `if __name__ == '__main__':`."
   ]
  },
  {
   "cell_type": "markdown",
   "metadata": {},
   "source": [
    "#### ``how_to_save_the_world.py``\n",
    "```python\n",
    "from functools import reduce\n",
    "\n",
    "\n",
    "def add(*args):\n",
    "    return reduce(lambda x, y: x+y, args)\n",
    "\n",
    "\n",
    "def multiply(*args):\n",
    "    return reduce(lambda x, y: x*y, args)\n",
    "\n",
    "\n",
    "if __name__ == '__main__':\n",
    "    test_series = [1, 2, 3]\n",
    "    print(f'I am testing the multiply function with {\" * \".join([str(value) for value in test_series])}: {multiply(*test_series)}')\n",
    "```"
   ]
  },
  {
   "cell_type": "markdown",
   "metadata": {},
   "source": [
    "#### ``application.py``\n",
    "```python\n",
    "from how_to_save_the_world import multiply\n",
    "\n",
    "if __name__ == '__main__':\n",
    "    series = [1, 2, 3, 4, 5]\n",
    "    print(multiply(*series))\n",
    "```"
   ]
  },
  {
   "cell_type": "markdown",
   "metadata": {},
   "source": [
    "## Organizing your modules\n",
    "You can organize your modules in different files and folders instead of having all the declarations in one file.\n",
    "\n",
    "Let's create the folder `how_to_save_the_world` and create the following structure:\n",
    "\n",
    "```\n",
    "how_to_save_the_world/\n",
    "|--- __init__.py\n",
    "|--- functions.py\n",
    "|--- trigonometry.py\n",
    "application.py\n",
    "```"
   ]
  },
  {
   "cell_type": "markdown",
   "source": [
    "#### ``how_to_save_the_world/trigonometry.py``\n",
    "```python\n",
    "import math\n",
    "\n",
    "# Internal variable\n",
    "__pi_value = math.pi\n",
    "\n",
    "# Importable variable\n",
    "pi_squared = math.pi ** 2\n",
    "\n",
    "pythagoras = lambda base, height: math.sqrt(base * base + height * height)\n",
    "\n",
    "circle_area = lambda radio: __pi_value * radio * radio\n",
    "```"
   ],
   "metadata": {
    "collapsed": false
   }
  },
  {
   "cell_type": "markdown",
   "source": [
    "You can import internal modules:\n",
    "\n",
    "#### ``how_to_save_the_world/functions.py``\n",
    "```python\n",
    "from functools import reduce\n",
    "\n",
    "# Internal import (notice the . at the beginning)\n",
    "from .trigonometry import pythagoras\n",
    "\n",
    "def add(*args):\n",
    "    return reduce(lambda x, y: x+y, args)\n",
    "\n",
    "\n",
    "def multiply(*args):\n",
    "    return reduce(lambda x, y: x*y, args)\n",
    "\n",
    "\n",
    "def multiply_pythagoras(*args):\n",
    "    return reduce(lambda x, y: pythagoras(x, y), args)\n",
    "\n",
    "\n",
    "if __name__ == '__main__':\n",
    "    test_series = [1, 2, 3]\n",
    "    print(f'I am testing the multiply function with {\" * \".join([str(value) for value in test_series])}: {multiply(*test_series)}')\n",
    "```"
   ],
   "metadata": {
    "collapsed": false
   }
  },
  {
   "cell_type": "markdown",
   "source": [
    "#### ``application.py``\n",
    "```python\n",
    "from how_to_save_the_world.functions import multiply_pythagoras\n",
    "from how_to_save_the_world.trigonometry import pythagoras, circle_area\n",
    "\n",
    "if __name__ == '__main__':\n",
    "    series = [1, 2, 3, 4, 5]\n",
    "    print('Multiply Pythagoras from functions')\n",
    "    print(multiply_pythagoras(*series))\n",
    "\n",
    "    print('Multiply Pythagoras from trigonometry')\n",
    "    print(pythagoras(3, 5))\n",
    "\n",
    "    print('Area of circle')\n",
    "    print(circle_area(5))\n",
    "```"
   ],
   "metadata": {
    "collapsed": false,
    "pycharm": {
     "name": "#%% md\n"
    }
   }
  },
  {
   "cell_type": "markdown",
   "source": [
    "### ``__init__.py`` file\n",
    "The `__init__.py` inside the folder declares that the folder is an importable module. Sometimes it is useful to launch\n",
    "initialization code (to set values and variables).\n",
    "\n",
    "The file should exist to allow importing the module, even if empty.\n",
    "\n",
    "\n",
    "#### ``__all__`` inside ``__init__.py``file\n",
    "This special variable defines the list of module members that can be imported when using `import` on the module."
   ],
   "metadata": {
    "collapsed": false
   }
  },
  {
   "cell_type": "markdown",
   "source": [
    "#### ``how_to_save_the_world/__init__.py``\n",
    "```python\n",
    "# Internal imports\n",
    "from .functions import multiply, multiply_pythagoras\n",
    "from .trigonometry import *\n",
    "\n",
    "__all__ = (\n",
    "    'circle_area',\n",
    "    'pi_squared',\n",
    "    'multiply',\n",
    "    'multiply_pythagoras',\n",
    "    'pythagoras',\n",
    ")\n",
    "```"
   ],
   "metadata": {
    "collapsed": false
   }
  },
  {
   "cell_type": "markdown",
   "source": [
    "Now it is possible to import specific functions without entering directly to the internal modules.\n",
    "\n",
    "#### ``application.py``\n",
    "```python\n",
    "from how_to_save_the_world import *\n",
    "\n",
    "if __name__ == '__main__':\n",
    "    series = [1, 2, 3, 4, 5]\n",
    "    print('Multiply Pythagoras from functions')\n",
    "    print(multiply_pythagoras(*series))\n",
    "\n",
    "    print('Multiply Pythagoras from trigonometry')\n",
    "    print(pythagoras(3, 5))\n",
    "\n",
    "    print('Pi squared')\n",
    "    print(pi_squared)\n",
    "```"
   ],
   "metadata": {
    "collapsed": false
   }
  }
 ],
 "metadata": {
  "kernelspec": {
   "display_name": "Python 3",
   "language": "python",
   "name": "python3"
  },
  "language_info": {
   "codemirror_mode": {
    "name": "ipython",
    "version": 3
   },
   "file_extension": ".py",
   "mimetype": "text/x-python",
   "name": "python",
   "nbconvert_exporter": "python",
   "pygments_lexer": "ipython3",
   "version": "3.8.2"
  }
 },
 "nbformat": 4,
 "nbformat_minor": 1
}
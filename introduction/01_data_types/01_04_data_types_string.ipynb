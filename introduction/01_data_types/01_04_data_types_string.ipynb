{
 "cells": [
  {
   "cell_type": "markdown",
   "metadata": {},
   "source": [
    "# String Types\n",
    "\n",
    "To define a string we must use:\n",
    "- Double quote\n",
    "- Single quote"
   ]
  },
  {
   "cell_type": "code",
   "execution_count": null,
   "metadata": {
    "pycharm": {
     "name": "#%%\n"
    }
   },
   "outputs": [],
   "source": [
    "string_1 ='string value'"
   ]
  },
  {
   "cell_type": "code",
   "execution_count": null,
   "metadata": {
    "pycharm": {
     "name": "#%%\n"
    }
   },
   "outputs": [],
   "source": [
    "string_2 =\"string value\""
   ]
  },
  {
   "cell_type": "code",
   "execution_count": null,
   "metadata": {
    "pycharm": {
     "name": "#%%\n"
    }
   },
   "outputs": [],
   "source": [
    "type(string_1)"
   ]
  },
  {
   "cell_type": "code",
   "execution_count": null,
   "metadata": {
    "pycharm": {
     "name": "#%%\n"
    }
   },
   "outputs": [],
   "source": [
    "string_1 == string_2"
   ]
  },
  {
   "cell_type": "markdown",
   "metadata": {},
   "source": [
    "## Accessing to a string\n",
    "\n",
    "In Python, a string can be seen as a list of characters; the first element of a list index is the position 0 (works the same way in other programming languages).\n",
    "\n",
    "![String](../images/01_04_string.png)"
   ]
  },
  {
   "cell_type": "code",
   "execution_count": null,
   "metadata": {
    "pycharm": {
     "name": "#%%\n"
    }
   },
   "outputs": [],
   "source": [
    "string_1[0]  # get the first element of the string"
   ]
  },
  {
   "cell_type": "code",
   "execution_count": null,
   "metadata": {
    "pycharm": {
     "name": "#%%\n"
    }
   },
   "outputs": [],
   "source": [
    "len(string_1)  # get the length of the string"
   ]
  },
  {
   "cell_type": "code",
   "execution_count": null,
   "metadata": {
    "pycharm": {
     "name": "#%%\n"
    }
   },
   "outputs": [],
   "source": [
    "string_1[len(string_1) - 1]  # get the last element of the string"
   ]
  },
  {
   "cell_type": "code",
   "execution_count": null,
   "metadata": {
    "pycharm": {
     "name": "#%%\n"
    }
   },
   "outputs": [],
   "source": [
    "string_1[-1]  # get the last element of the string"
   ]
  },
  {
   "cell_type": "markdown",
   "metadata": {},
   "source": [
    "### Slicing\n",
    "Use \":\" to slice a string, defining: start, stop, and step.\n",
    "\n",
    "![String](../images/01_04_slicing.png)"
   ]
  },
  {
   "cell_type": "code",
   "execution_count": null,
   "metadata": {
    "pycharm": {
     "name": "#%%\n"
    }
   },
   "outputs": [],
   "source": [
    "string_1[2:8] # start=2, stop=8, goes from 2 to 7"
   ]
  },
  {
   "cell_type": "code",
   "execution_count": null,
   "metadata": {
    "pycharm": {
     "name": "#%%\n"
    }
   },
   "outputs": [],
   "source": [
    "string_1[::3] # step=3\n"
   ]
  },
  {
   "cell_type": "markdown",
   "metadata": {},
   "source": [
    "\n",
    "![String](../images/01_04_slicing_step.png)"
   ]
  },
  {
   "cell_type": "code",
   "execution_count": null,
   "metadata": {
    "pycharm": {
     "name": "#%%\n"
    }
   },
   "outputs": [],
   "source": [
    "string_1[1:-5:2]"
   ]
  },
  {
   "cell_type": "markdown",
   "metadata": {},
   "source": [
    "### Time for coding!\n",
    "Now it is your turn. Reverse the string using slice.\n",
    "\n",
    "*Posible solution:*"
   ]
  },
  {
   "cell_type": "code",
   "execution_count": null,
   "metadata": {
    "pycharm": {
     "name": "#%%\n"
    }
   },
   "outputs": [],
   "source": [
    "# Time for coding!\n",
    "# Reverse the string using slice.\n",
    "\n",
    "# You can write your solution after this line\n"
   ]
  },
  {
   "cell_type": "markdown",
   "metadata": {},
   "source": [
    "## Concatenation and duplication\n",
    "Mathematical operation with the strings, only addition and multiplication are allowed."
   ]
  },
  {
   "cell_type": "code",
   "execution_count": null,
   "metadata": {
    "pycharm": {
     "name": "#%%\n"
    }
   },
   "outputs": [],
   "source": [
    "'a'+'b'+'c' # Concatenation"
   ]
  },
  {
   "cell_type": "code",
   "execution_count": null,
   "metadata": {
    "pycharm": {
     "name": "#%%\n"
    }
   },
   "outputs": [],
   "source": [
    "'abc'-'c' # Error"
   ]
  },
  {
   "cell_type": "code",
   "execution_count": null,
   "metadata": {
    "pycharm": {
     "name": "#%%\n"
    }
   },
   "outputs": [],
   "source": [
    "'a' * 4 # Duplication"
   ]
  },
  {
   "cell_type": "markdown",
   "metadata": {},
   "source": [
    "### Time for coding!\n",
    "Using only slice and the mathematical properties of the string, generate a string from the variable \"telephone\" that substitutes the character \"-\" with the character \"4\" [2 minutes].\n",
    "\n",
    "*Possible solution:*"
   ]
  },
  {
   "cell_type": "code",
   "execution_count": null,
   "metadata": {
    "pycharm": {
     "name": "#%%\n"
    }
   },
   "outputs": [],
   "source": [
    "# Time for coding!\n",
    "# Using only slice and the mathematical properties\n",
    "# of the string, generate a string from the\n",
    "# variable \"telephone\" that substitutes the\n",
    "# character \"-\" with the character \"4\".\n",
    "\n",
    "telephone = '0123-5678'\n",
    "\n",
    "# You can write your solution after this line"
   ]
  },
  {
   "cell_type": "markdown",
   "metadata": {},
   "source": [
    "## Multirow strings"
   ]
  },
  {
   "cell_type": "markdown",
   "metadata": {},
   "source": [
    "Add the character \"\\n\" inside the string"
   ]
  },
  {
   "cell_type": "code",
   "execution_count": null,
   "metadata": {
    "pycharm": {
     "name": "#%%\n"
    }
   },
   "outputs": [],
   "source": [
    "multirow = 'Things that I like in python:\\n    - syntax;\\n    - power.\\n'\n",
    "print(multirow)"
   ]
  },
  {
   "cell_type": "markdown",
   "metadata": {},
   "source": [
    "Another way is by using triple double quotes (\"\"\" \"\"\")."
   ]
  },
  {
   "cell_type": "code",
   "execution_count": null,
   "metadata": {
    "pycharm": {
     "name": "#%%\n"
    }
   },
   "outputs": [],
   "source": [
    "multirow = \"\"\"Things that I like in python:\n",
    "    - syntax;\n",
    "    - power.\n",
    "\"\"\"\n",
    "print(multirow)"
   ]
  },
  {
   "cell_type": "markdown",
   "metadata": {},
   "source": [
    "## String functions\n",
    "All objects in Python have some functions that can be applied. Functions depend on the type of data."
   ]
  },
  {
   "cell_type": "code",
   "execution_count": null,
   "metadata": {
    "pycharm": {
     "name": "#%%\n"
    }
   },
   "outputs": [],
   "source": [
    "find_str = \"find something inside\""
   ]
  },
  {
   "cell_type": "code",
   "execution_count": null,
   "metadata": {
    "pycharm": {
     "name": "#%%\n"
    }
   },
   "outputs": [],
   "source": [
    "'inside' in find_str"
   ]
  },
  {
   "cell_type": "code",
   "execution_count": null,
   "metadata": {
    "pycharm": {
     "name": "#%%\n"
    }
   },
   "outputs": [],
   "source": [
    "find_str.find('s')"
   ]
  },
  {
   "cell_type": "code",
   "execution_count": null,
   "metadata": {
    "pycharm": {
     "name": "#%%\n"
    }
   },
   "outputs": [],
   "source": [
    "find_str[find_str.find('s'):]"
   ]
  },
  {
   "cell_type": "code",
   "execution_count": null,
   "metadata": {
    "pycharm": {
     "name": "#%%\n"
    }
   },
   "outputs": [],
   "source": [
    "find_str[6:]"
   ]
  },
  {
   "cell_type": "code",
   "execution_count": null,
   "metadata": {
    "pycharm": {
     "name": "#%%\n"
    }
   },
   "outputs": [],
   "source": [
    "find_str[6:].find('s')"
   ]
  },
  {
   "cell_type": "code",
   "execution_count": null,
   "metadata": {
    "pycharm": {
     "name": "#%%\n"
    }
   },
   "outputs": [],
   "source": [
    "print(multirow.replace('syntax', \"it's nice\"))"
   ]
  },
  {
   "cell_type": "code",
   "execution_count": null,
   "metadata": {
    "pycharm": {
     "name": "#%%\n"
    }
   },
   "outputs": [],
   "source": [
    "strip_str = '   some spaces    '"
   ]
  },
  {
   "cell_type": "code",
   "execution_count": null,
   "metadata": {
    "pycharm": {
     "name": "#%%\n"
    }
   },
   "outputs": [],
   "source": [
    "strip_str.strip() # try the functions lstrip, rstrip"
   ]
  },
  {
   "cell_type": "code",
   "execution_count": null,
   "metadata": {
    "pycharm": {
     "name": "#%%\n"
    }
   },
   "outputs": [],
   "source": [
    "strip_str = \"split a long phrase, with a lot of words!\""
   ]
  },
  {
   "cell_type": "code",
   "execution_count": null,
   "metadata": {
    "pycharm": {
     "name": "#%%\n"
    }
   },
   "outputs": [],
   "source": [
    "strip_str.split()  # specify with character should be use to split the string, the default is ' '"
   ]
  },
  {
   "cell_type": "markdown",
   "metadata": {},
   "source": [
    "### Time for coding!\n",
    "Play with the string using some other methods like:\n",
    "- upper\n",
    "- capitalize\n",
    "- lower\n",
    "- isdigit\n",
    "- islower\n",
    "- etc.\n",
    "\n",
    "[2 minutes]"
   ]
  },
  {
   "cell_type": "code",
   "execution_count": null,
   "metadata": {
    "pycharm": {
     "name": "#%%\n"
    }
   },
   "outputs": [],
   "source": [
    "\"\"\"\n",
    "Time for coding!\n",
    "Play with the string using some other methods like:\n",
    "- upper\n",
    "- capitalize\n",
    "- lower\n",
    "- isdigit\n",
    "- islower\n",
    "- etc.\n",
    "\"\"\"\n",
    "\n",
    "character = 'A strAngE strIng'\n",
    "print(character.lower())\n",
    "\n",
    "numbers = '1234'\n",
    "print(numbers.isdigit())\n",
    "\n",
    "# You can write your solution after this line\n"
   ]
  },
  {
   "cell_type": "markdown",
   "metadata": {},
   "source": [
    "## String Format\n",
    "\n",
    "![James Bond](../images/01_04_JamesBond.png)\n",
    "\n",
    "We saw before that concatenation between strings is possible by using the + operator.\n",
    "\n",
    "What would happened if we tried to concatenate strings and numeric types?"
   ]
  },
  {
   "cell_type": "code",
   "execution_count": 2,
   "metadata": {
    "pycharm": {
     "name": "#%%\n"
    }
   },
   "outputs": [],
   "source": [
    "import math\n",
    "first_name = 'James'\n",
    "last_name = 'Bond'\n",
    "year_birth = 1980\n",
    "favorite_number = math.pi"
   ]
  },
  {
   "cell_type": "code",
   "execution_count": null,
   "metadata": {
    "pycharm": {
     "name": "#%%\n"
    }
   },
   "outputs": [],
   "source": [
    "'My name is ' + last_name + ', ' + first_name + ' ' + last_name + '. I was born in ' + year_birth + ', my favorite number is ' + favorite_number"
   ]
  },
  {
   "cell_type": "markdown",
   "metadata": {},
   "source": [
    "### Formatting 1: C-style"
   ]
  },
  {
   "cell_type": "code",
   "execution_count": null,
   "metadata": {
    "pycharm": {
     "name": "#%%\n"
    }
   },
   "outputs": [],
   "source": [
    "# Parameters are inside a tuple structure. We will see this data type later\n",
    "'My name is %s, %s %s. I was born in %d, my favorite number is %f' % (last_name, first_name, last_name, year_birth, favorite_number)"
   ]
  },
  {
   "cell_type": "code",
   "execution_count": null,
   "outputs": [],
   "source": [
    "# Only one parameter\n",
    "'My favorite number is %05.1f' % favorite_number"
   ],
   "metadata": {
    "collapsed": false,
    "pycharm": {
     "name": "#%%\n"
    }
   }
  },
  {
   "cell_type": "code",
   "execution_count": 4,
   "metadata": {
    "pycharm": {
     "name": "#%%\n"
    }
   },
   "outputs": [
    {
     "data": {
      "text/plain": "'My favorite number is 003.1'"
     },
     "execution_count": 4,
     "metadata": {},
     "output_type": "execute_result"
    }
   ],
   "source": [
    "'My favorite number is %05.1f' % (favorite_number, )"
   ]
  },
  {
   "cell_type": "code",
   "execution_count": null,
   "metadata": {
    "pycharm": {
     "name": "#%%\n"
    }
   },
   "outputs": [],
   "source": [
    "'I was born in %6d' % year_birth"
   ]
  },
  {
   "cell_type": "markdown",
   "metadata": {},
   "source": [
    "### Formatting 2: Using the \"format\" method"
   ]
  },
  {
   "cell_type": "code",
   "execution_count": null,
   "metadata": {
    "pycharm": {
     "name": "#%%\n"
    }
   },
   "outputs": [],
   "source": [
    "quote = 'My name is {lname}, {fname} {lname}. I was born in {year}, my favorite number is {number}'\n",
    "\n",
    "quote.format(\n",
    "    lname=last_name,\n",
    "    fname=first_name,\n",
    "    year=year_birth,\n",
    "    number=favorite_number\n",
    ")"
   ]
  },
  {
   "cell_type": "code",
   "execution_count": null,
   "metadata": {
    "pycharm": {
     "name": "#%%\n"
    }
   },
   "outputs": [],
   "source": [
    "# Number formatting\n",
    "quote = 'My name is {lname}, {fname} {lname}. I was born in {year:6d}, my favorite number is {number:.6f}'\n",
    "\n",
    "quote.format(\n",
    "    lname=last_name,\n",
    "    fname=first_name,\n",
    "    year=year_birth,\n",
    "    number=favorite_number\n",
    ")"
   ]
  },
  {
   "cell_type": "code",
   "execution_count": null,
   "metadata": {
    "pycharm": {
     "name": "#%%\n"
    }
   },
   "outputs": [],
   "source": [
    "# Order from the variables matter\n",
    "quote = 'My name is {}, {} {}. I was born in {}, my favorite number is {}'\\\n",
    "\n",
    "quote.format(\n",
    "    last_name, # 0\n",
    "    first_name, # 1\n",
    "    last_name, # 2\n",
    "    year_birth, # 3\n",
    "    favorite_number # 4\n",
    ")\n",
    "\n"
   ]
  },
  {
   "cell_type": "code",
   "execution_count": null,
   "metadata": {
    "pycharm": {
     "name": "#%%\n"
    }
   },
   "outputs": [],
   "source": [
    "# Order from the variables matter, but you can change it inside the string\n",
    "quote = 'My name is {2}, {3} {2}. I was born in {1}, my favorite number is {0}'\n",
    "\n",
    "quote.format(\n",
    "    favorite_number, # 0\n",
    "    year_birth, # 1\n",
    "    last_name, # 2\n",
    "    first_name # 3\n",
    ")"
   ]
  },
  {
   "cell_type": "code",
   "execution_count": null,
   "metadata": {
    "pycharm": {
     "name": "#%%\n"
    }
   },
   "outputs": [],
   "source": [
    "quote.format(\n",
    "    first_name,\n",
    "    last_name,\n",
    "    year_birth,\n",
    "    favorite_number\n",
    ")"
   ]
  },
  {
   "cell_type": "markdown",
   "metadata": {},
   "source": [
    "### Formatting 3: using f-strings"
   ]
  },
  {
   "cell_type": "code",
   "execution_count": null,
   "metadata": {
    "pycharm": {
     "name": "#%%\n"
    }
   },
   "outputs": [],
   "source": [
    "f'My name is {last_name}, {first_name} {last_name}. I was born in {year_birth}, my favorite number is {favorite_number}'"
   ]
  },
  {
   "cell_type": "code",
   "execution_count": null,
   "metadata": {
    "pycharm": {
     "name": "#%%\n"
    }
   },
   "outputs": [],
   "source": [
    "# Formatting numbers\n",
    "f'My name is {last_name}, {first_name} {last_name}. I was born in {year_birth:6d}, my favorite number is {favorite_number:2f}'"
   ]
  },
  {
   "cell_type": "markdown",
   "metadata": {},
   "source": [
    "### Formatting: which method(s) to use?\n",
    "It depends!\n",
    "\n",
    "Can you mention some advantages / disadvantages?"
   ]
  },
  {
   "cell_type": "markdown",
   "metadata": {},
   "source": [
    "### Time for coding!\n",
    "\n",
    "Using the following variables:"
   ]
  },
  {
   "cell_type": "code",
   "execution_count": null,
   "metadata": {
    "pycharm": {
     "name": "#%%\n"
    }
   },
   "outputs": [],
   "source": [
    "integer = -12345\n",
    "integer_2 = -8888\n",
    "double = 3.141592653589793\n",
    "word = 'python'"
   ]
  },
  {
   "cell_type": "markdown",
   "metadata": {},
   "source": [
    "Get the following strings:\n",
    "\n",
    "```\n",
    "- \"Still missing: -12345 €\"\n",
    "- \"Still missing: -8888 €\"\n",
    "- \"the pigreco value is around: 3.14159\"\n",
    "- \"   python   \"\n",
    "```"
   ]
  },
  {
   "cell_type": "code",
   "execution_count": null,
   "metadata": {
    "pycharm": {
     "name": "#%%"
    }
   },
   "outputs": [],
   "source": [
    "\"\"\"\n",
    "Time for coding!\n",
    "Get the following strings:\n",
    "\n",
    "- \"Still missing: -12345 €\"\n",
    "- \"Still missing: -8888 €\"\n",
    "- \"the pigreco value is around: 3.14159\"\n",
    "- \"   python   \"\n",
    "\"\"\"\n",
    "integer = -12345\n",
    "integer_2 = -8888\n",
    "double = 3.141592653589793\n",
    "word = 'python'\n",
    "\n",
    "# You can write your solution after this line"
   ]
  }
 ],
 "metadata": {
  "kernelspec": {
   "display_name": "Python 3",
   "language": "python",
   "name": "python3"
  },
  "language_info": {
   "codemirror_mode": {
    "name": "ipython",
    "version": 3
   },
   "file_extension": ".py",
   "mimetype": "text/x-python",
   "name": "python",
   "nbconvert_exporter": "python",
   "pygments_lexer": "ipython3",
   "version": "3.8.2"
  }
 },
 "nbformat": 4,
 "nbformat_minor": 1
}
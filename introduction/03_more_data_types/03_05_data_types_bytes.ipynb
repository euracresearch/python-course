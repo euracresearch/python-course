{
 "cells": [
  {
   "cell_type": "markdown",
   "metadata": {},
   "source": [
    "# Bytes & bits\n",
    "\n",
    "Everything in the computer is translated into a long list of bits:\n",
    "`010011011010001000101010100010101...`\n",
    "\n",
    "Where a **bit** represents a logical state with two possible values. These values are generally represented as `0` and `1`.\n",
    "\n",
    "The **byte** is a unit of digital information that consists of eight bits:\n",
    "\n",
    "```\n",
    "    bits:    01000101  00111000  00111111  10001000 ...\n",
    "    bytes:   1st byte  2nd byte  3rd byte  ...\n",
    "```\n",
    "\n",
    "So, just to give an example, let's convert an integer to the raw bit sequence:"
   ]
  },
  {
   "cell_type": "code",
   "execution_count": null,
   "metadata": {},
   "outputs": [],
   "source": [
    "bin(int(\"0\", base=10))"
   ]
  },
  {
   "cell_type": "code",
   "execution_count": null,
   "metadata": {},
   "outputs": [],
   "source": [
    "bin(int(\"1\", base=10))"
   ]
  },
  {
   "cell_type": "code",
   "execution_count": null,
   "metadata": {},
   "outputs": [],
   "source": [
    "bin(int(\"2\", base=10))"
   ]
  },
  {
   "cell_type": "code",
   "execution_count": null,
   "metadata": {},
   "outputs": [],
   "source": [
    "bin(int(\"3\", base=10))"
   ]
  },
  {
   "cell_type": "markdown",
   "metadata": {},
   "source": [
    "We can transform a sequence of bits back to an integer with:"
   ]
  },
  {
   "cell_type": "code",
   "execution_count": null,
   "metadata": {},
   "outputs": [],
   "source": [
    "int(\"00100001\", base=2)"
   ]
  },
  {
   "cell_type": "markdown",
   "metadata": {},
   "source": [
    "Since in a computer everything is a sequence of bits, you can read a sequence of bits as an integer as we have seen in the previous examples, or we can interpret this sequence as a character.\n",
    "\n",
    "For example, we can convert an integer to a character:"
   ]
  },
  {
   "cell_type": "code",
   "execution_count": null,
   "metadata": {},
   "outputs": [],
   "source": [
    "chr(33)"
   ]
  },
  {
   "cell_type": "code",
   "execution_count": null,
   "metadata": {},
   "outputs": [],
   "source": [
    "chr(64)"
   ]
  },
  {
   "cell_type": "code",
   "execution_count": null,
   "metadata": {},
   "outputs": [],
   "source": [
    "bytes(\"!\", encoding=\"UTF-8\")"
   ]
  },
  {
   "cell_type": "markdown",
   "metadata": {},
   "source": [
    "The first 128 numbers are reserved for the **American Standard Code for Information Interchange** (ASCII)"
   ]
  },
  {
   "cell_type": "code",
   "execution_count": null,
   "metadata": {},
   "outputs": [],
   "source": [
    "[(i, chr(i)) for i in range(128)]"
   ]
  },
  {
   "cell_type": "markdown",
   "metadata": {},
   "source": [
    "Here a table with the first 31 values:\n",
    "\n",
    "\n",
    "| Binary   |   Oct |   Dec | Hex   | Abbreviation   | Abbreviation   | Abbreviation   | [b]   | [c]   | [d]   | Name (1967)                   |\n",
    "|:---------|------:|------:|:------|:---------------|:---------------|:---------------|:------|:------|:------|:------------------------------|\n",
    "| 000 0000 |     0 |     0 | 00    | nan            | NUL            | NUL            | ␀     | ^@    | \\0    | Null                          |\n",
    "| 000 0001 |     1 |     1 | 01    | SOM            | SOH            | SOH            | ␁     | ^A    | nan   | Start of Heading              |\n",
    "| 000 0010 |     2 |     2 | 02    | EOA            | STX            | STX            | ␂     | ^B    | nan   | Start of Text                 |\n",
    "| 000 0011 |     3 |     3 | 03    | EOM            | ETX            | ETX            | ␃     | ^C    | nan   | End of Text                   |\n",
    "| 000 0100 |     4 |     4 | 04    | EOT            | EOT            | EOT            | ␄     | ^D    | nan   | End of Transmission           |\n",
    "| 000 0101 |     5 |     5 | 05    | WRU            | ENQ            | ENQ            | ␅     | ^E    | nan   | Enquiry                       |\n",
    "| 000 0110 |     6 |     6 | 06    | RU             | ACK            | ACK            | ␆     | ^F    | nan   | Acknowledgement               |\n",
    "| 000 0111 |     7 |     7 | 07    | BELL           | BEL            | BEL            | ␇     | ^G    | \\a    | Bell                          |\n",
    "| 000 1000 |    10 |     8 | 08    | FE0            | BS             | BS             | ␈     | ^H    | \\b    | Backspace[e][f]               |\n",
    "| 000 1001 |    11 |     9 | 09    | HT/SK          | HT             | HT             | ␉     | ^I    | \\t    | Horizontal Tab[g]             |\n",
    "| 000 1010 |    12 |    10 | 0A    | LF             | LF             | LF             | ␊     | ^J    | \\n    | Line Feed                     |\n",
    "| 000 1011 |    13 |    11 | 0B    | VTAB           | VT             | VT             | ␋     | ^K    | \\v    | Vertical Tab                  |\n",
    "| 000 1100 |    14 |    12 | 0C    | FF             | FF             | FF             | ␌     | ^L    | \\f    | Form Feed                     |\n",
    "| 000 1101 |    15 |    13 | 0D    | CR             | CR             | CR             | ␍     | ^M    | \\r    | Carriage Return[h]            |\n",
    "| 000 1110 |    16 |    14 | 0E    | SO             | SO             | SO             | ␎     | ^N    | nan   | Shift Out                     |\n",
    "| 000 1111 |    17 |    15 | 0F    | SI             | SI             | SI             | ␏     | ^O    | nan   | Shift In                      |\n",
    "| 001 0000 |    20 |    16 | 10    | DC0            | DLE            | DLE            | ␐     | ^P    | nan   | Data Link Escape              |\n",
    "| 001 0001 |    21 |    17 | 11    | DC1            | DC1            | DC1            | ␑     | ^Q    | nan   | Device Control 1 (often XON)  |\n",
    "| 001 0010 |    22 |    18 | 12    | DC2            | DC2            | DC2            | ␒     | ^R    | nan   | Device Control 2              |\n",
    "| 001 0011 |    23 |    19 | 13    | DC3            | DC3            | DC3            | ␓     | ^S    | nan   | Device Control 3 (often XOFF) |\n",
    "| 001 0100 |    24 |    20 | 14    | DC4            | DC4            | DC4            | ␔     | ^T    | nan   | Device Control 4              |\n",
    "| 001 0101 |    25 |    21 | 15    | ERR            | NAK            | NAK            | ␕     | ^U    | nan   | Negative Acknowledgement      |\n",
    "| 001 0110 |    26 |    22 | 16    | SYNC           | SYN            | SYN            | ␖     | ^V    | nan   | Synchronous Idle              |\n",
    "| 001 0111 |    27 |    23 | 17    | LEM            | ETB            | ETB            | ␗     | ^W    | nan   | End of Transmission Block     |\n",
    "| 001 1000 |    30 |    24 | 18    | S0             | CAN            | CAN            | ␘     | ^X    | nan   | Cancel                        |\n",
    "| 001 1001 |    31 |    25 | 19    | S1             | EM             | EM             | ␙     | ^Y    | nan   | End of Medium                 |\n",
    "| 001 1010 |    32 |    26 | 1A    | S2             | SS             | SUB            | ␚     | ^Z    | nan   | Substitute                    |\n",
    "| 001 1011 |    33 |    27 | 1B    | S3             | ESC            | ESC            | ␛     | ^[    | \\e[i] | Escape[j]                     |\n",
    "| 001 1100 |    34 |    28 | 1C    | S4             | FS             | FS             | ␜     | ^\\    | nan   | File Separator                |\n",
    "| 001 1101 |    35 |    29 | 1D    | S5             | GS             | GS             | ␝     | ^]    | nan   | Group Separator               |\n",
    "| 001 1110 |    36 |    30 | 1E    | S6             | RS             | RS             | ␞     | ^^[k] | nan   | Record Separator              |\n",
    "| 001 1111 |    37 |    31 | 1F    | S7             | US             | US             | ␟     | ^_    | nan   | Unit Separator                |\n",
    "| 111 1111 |   177 |   127 | 7F    | DEL            | DEL            | DEL            | ␡     | ^?    | nan   | Delete[l][f]                  |\n"
   ]
  },
  {
   "cell_type": "markdown",
   "metadata": {},
   "source": [
    "And here the table with the remaining numbers:\n",
    "\n",
    "\n",
    "| Binary   |   Oct |   Dec | Hex   | 1963   | 1965   | 1967   |\n",
    "|:---------|------:|------:|:------|:-------|:-------|:-------|\n",
    "| 010 0000 |    40 |    32 | 20    | space  | space  | space  |\n",
    "| 010 0001 |    41 |    33 | 21    | !      | !      | !      |\n",
    "| 010 0010 |    42 |    34 | 22    | \"      | \"      | \"      |\n",
    "| 010 0011 |    43 |    35 | 23    | #      | #      | #      |\n",
    "| 010 0100 |    44 |    36 | 24    | $      | $      | $      |\n",
    "| 010 0101 |    45 |    37 | 25    | %      | %      | %      |\n",
    "| 010 0110 |    46 |    38 | 26    | &      | &      | &      |\n",
    "| 010 0111 |    47 |    39 | 27    | '      | '      | '      |\n",
    "| 010 1000 |    50 |    40 | 28    | (      | (      | (      |\n",
    "| 010 1001 |    51 |    41 | 29    | )      | )      | )      |\n",
    "| 010 1010 |    52 |    42 | 2A    | *      | *      | *      |\n",
    "| 010 1011 |    53 |    43 | 2B    | +      | +      | +      |\n",
    "| 010 1100 |    54 |    44 | 2C    | nan    | nan    | nan    |\n",
    "| 010 1101 |    55 |    45 | 2D    | -      | -      | -      |\n",
    "| 010 1110 |    56 |    46 | 2E    | .      | .      | .      |\n",
    "| 010 1111 |    57 |    47 | 2F    | /      | /      | /      |\n",
    "| 011 0000 |    60 |    48 | 30    | 0      | 0      | 0      |\n",
    "| 011 0001 |    61 |    49 | 31    | 1      | 1      | 1      |\n",
    "| 011 0010 |    62 |    50 | 32    | 2      | 2      | 2      |\n",
    "| 011 0011 |    63 |    51 | 33    | 3      | 3      | 3      |\n",
    "| 011 0100 |    64 |    52 | 34    | 4      | 4      | 4      |\n",
    "| 011 0101 |    65 |    53 | 35    | 5      | 5      | 5      |\n",
    "| 011 0110 |    66 |    54 | 36    | 6      | 6      | 6      |\n",
    "| 011 0111 |    67 |    55 | 37    | 7      | 7      | 7      |\n",
    "| 011 1000 |    70 |    56 | 38    | 8      | 8      | 8      |\n",
    "| 011 1001 |    71 |    57 | 39    | 9      | 9      | 9      |\n",
    "| 011 1010 |    72 |    58 | 3A    | :      | :      | :      |\n",
    "| 011 1011 |    73 |    59 | 3B    | ;      | ;      | ;      |\n",
    "| 011 1100 |    74 |    60 | 3C    | <      | <      | <      |\n",
    "| 011 1101 |    75 |    61 | 3D    | =      | =      | =      |\n",
    "| 011 1110 |    76 |    62 | 3E    | >      | >      | >      |\n",
    "| 011 1111 |    77 |    63 | 3F    | ?      | ?      | ?      |\n",
    "| 100 0000 |   100 |    64 | 40    | @      | `      | @      |\n",
    "| 100 0001 |   101 |    65 | 41    | A      | A      | A      |\n",
    "| 100 0010 |   102 |    66 | 42    | B      | B      | B      |\n",
    "| 100 0011 |   103 |    67 | 43    | C      | C      | C      |\n",
    "| 100 0100 |   104 |    68 | 44    | D      | D      | D      |\n",
    "| 100 0101 |   105 |    69 | 45    | E      | E      | E      |\n",
    "| 100 0110 |   106 |    70 | 46    | F      | F      | F      |\n",
    "| 100 0111 |   107 |    71 | 47    | G      | G      | G      |\n",
    "| 100 1000 |   110 |    72 | 48    | H      | H      | H      |\n",
    "| 100 1001 |   111 |    73 | 49    | I      | I      | I      |\n",
    "| 100 1010 |   112 |    74 | 4A    | J      | J      | J      |\n",
    "| 100 1011 |   113 |    75 | 4B    | K      | K      | K      |\n",
    "| 100 1100 |   114 |    76 | 4C    | L      | L      | L      |\n",
    "| 100 1101 |   115 |    77 | 4D    | M      | M      | M      |\n",
    "| 100 1110 |   116 |    78 | 4E    | N      | N      | N      |\n",
    "| 100 1111 |   117 |    79 | 4F    | O      | O      | O      |\n",
    "| 101 0000 |   120 |    80 | 50    | P      | P      | P      |\n",
    "| 101 0001 |   121 |    81 | 51    | Q      | Q      | Q      |\n",
    "| 101 0010 |   122 |    82 | 52    | R      | R      | R      |\n",
    "| 101 0011 |   123 |    83 | 53    | S      | S      | S      |\n",
    "| 101 0100 |   124 |    84 | 54    | T      | T      | T      |\n",
    "| 101 0101 |   125 |    85 | 55    | U      | U      | U      |\n",
    "| 101 0110 |   126 |    86 | 56    | V      | V      | V      |\n",
    "| 101 0111 |   127 |    87 | 57    | W      | W      | W      |\n",
    "| 101 1000 |   130 |    88 | 58    | X      | X      | X      |\n",
    "| 101 1001 |   131 |    89 | 59    | Y      | Y      | Y      |\n",
    "| 101 1010 |   132 |    90 | 5A    | Z      | Z      | Z      |\n",
    "| 101 1011 |   133 |    91 | 5B    | [      | [      | [      |\n",
    "| 101 1100 |   134 |    92 | 5C    | \\      | ~      | \\      |\n",
    "| 101 1101 |   135 |    93 | 5D    | ]      | ]      | ]      |\n",
    "| 101 1110 |   136 |    94 | 5E    | ↑      | ^      | ^      |\n",
    "| 101 1111 |   137 |    95 | 5F    | ←      | _      | _      |\n",
    "| 110 0000 |   140 |    96 | 60    | nan    | @      | `      |\n",
    "| 110 0001 |   141 |    97 | 61    | nan    | a      | a      |\n",
    "| 110 0010 |   142 |    98 | 62    | nan    | b      | b      |\n",
    "| 110 0011 |   143 |    99 | 63    | nan    | c      | c      |\n",
    "| 110 0100 |   144 |   100 | 64    | nan    | d      | d      |\n",
    "| 110 0101 |   145 |   101 | 65    | nan    | e      | e      |\n",
    "| 110 0110 |   146 |   102 | 66    | nan    | f      | f      |\n",
    "| 110 0111 |   147 |   103 | 67    | nan    | g      | g      |\n",
    "| 110 1000 |   150 |   104 | 68    | nan    | h      | h      |\n",
    "| 110 1001 |   151 |   105 | 69    | nan    | i      | i      |\n",
    "| 110 1010 |   152 |   106 | 6A    | nan    | j      | j      |\n",
    "| 110 1011 |   153 |   107 | 6B    | nan    | k      | k      |\n",
    "| 110 1100 |   154 |   108 | 6C    | nan    | l      | l      |\n",
    "| 110 1101 |   155 |   109 | 6D    | nan    | m      | m      |\n",
    "| 110 1110 |   156 |   110 | 6E    | nan    | n      | n      |\n",
    "| 110 1111 |   157 |   111 | 6F    | nan    | o      | o      |\n",
    "| 111 0000 |   160 |   112 | 70    | nan    | p      | p      |\n",
    "| 111 0001 |   161 |   113 | 71    | nan    | q      | q      |\n",
    "| 111 0010 |   162 |   114 | 72    | nan    | r      | r      |\n",
    "| 111 0011 |   163 |   115 | 73    | nan    | s      | s      |\n",
    "| 111 0100 |   164 |   116 | 74    | nan    | t      | t      |\n",
    "| 111 0101 |   165 |   117 | 75    | nan    | u      | u      |\n",
    "| 111 0110 |   166 |   118 | 76    | nan    | v      | v      |\n",
    "| 111 0111 |   167 |   119 | 77    | nan    | w      | w      |\n",
    "| 111 1000 |   170 |   120 | 78    | nan    | x      | x      |\n",
    "| 111 1001 |   171 |   121 | 79    | nan    | y      | y      |\n",
    "| 111 1010 |   172 |   122 | 7A    | nan    | z      | z      |\n",
    "| 111 1011 |   173 |   123 | 7B    | nan    | {      | {      |\n",
    "| 111 1100 |   174 |   124 | 7C    | ACK    | ¬      | |      |\n",
    "| 111 1101 |   175 |   125 | 7D    | nan    | }      | }      |\n",
    "| 111 1110 |   176 |   126 | 7E    | ESC    | |      | ~      |\n"
   ]
  },
  {
   "cell_type": "markdown",
   "metadata": {},
   "source": [
    "What happens if we go beyond the 128-limit?"
   ]
  },
  {
   "cell_type": "code",
   "execution_count": null,
   "metadata": {},
   "outputs": [],
   "source": [
    "[(i, chr(i)) for i in range(24000)]"
   ]
  },
  {
   "cell_type": "markdown",
   "metadata": {},
   "source": [
    "When we are going above 128, the `chr` function is using the encoding system used by your computer. In our case, the default encoding system is:"
   ]
  },
  {
   "cell_type": "code",
   "execution_count": null,
   "metadata": {},
   "outputs": [],
   "source": [
    "import locale\n",
    "\n",
    "print( locale.getpreferredencoding())"
   ]
  },
  {
   "cell_type": "code",
   "execution_count": null,
   "metadata": {},
   "outputs": [],
   "source": [
    "chr(928)  # bit to string"
   ]
  },
  {
   "cell_type": "code",
   "execution_count": null,
   "metadata": {},
   "outputs": [],
   "source": [
    "chr(928).encode()  # bits to bytes"
   ]
  },
  {
   "cell_type": "code",
   "execution_count": null,
   "metadata": {},
   "outputs": [],
   "source": [
    "b'\\xce\\xa0'.decode() # bytes to string"
   ]
  },
  {
   "cell_type": "code",
   "execution_count": null,
   "metadata": {},
   "outputs": [],
   "source": [
    "bytes(\"Π\", encoding=\"UTF-8\") # string to bytes"
   ]
  },
  {
   "cell_type": "code",
   "execution_count": null,
   "metadata": {},
   "outputs": [],
   "source": [
    "bytes(\"🍉\", encoding=\"UTF-8\")"
   ]
  },
  {
   "cell_type": "code",
   "execution_count": null,
   "metadata": {},
   "outputs": [],
   "source": [
    "# string => bytes\n",
    "\"🥑\".encode()"
   ]
  },
  {
   "cell_type": "code",
   "execution_count": null,
   "metadata": {},
   "outputs": [],
   "source": [
    "# string => bytes => hex\n",
    "'🥑'.encode().hex()"
   ]
  },
  {
   "cell_type": "code",
   "execution_count": null,
   "metadata": {},
   "outputs": [],
   "source": [
    "# string => bytes => hex => int\n",
    "int('🥑'.encode().hex(), 16)"
   ]
  },
  {
   "cell_type": "code",
   "execution_count": null,
   "metadata": {},
   "outputs": [],
   "source": [
    "# string => bytes => hex => int => bits\n",
    "print(f\"{int('🥑'.encode().hex(), 16):08b}\")"
   ]
  },
  {
   "cell_type": "code",
   "execution_count": null,
   "metadata": {},
   "outputs": [],
   "source": [
    "bin(int.from_bytes(\"🥑\".encode(), \"big\"))"
   ]
  },
  {
   "cell_type": "code",
   "execution_count": null,
   "metadata": {},
   "outputs": [],
   "source": [
    "int('0b11110000100111111010010110010001', base=2)"
   ]
  },
  {
   "cell_type": "markdown",
   "metadata": {},
   "source": [
    "# Convert some symbols from unicode to bytes and from bytes to bits\n",
    "\n",
    "😀 😁 😂 😃 😄 😅 😆 😇 😈 😉 😊 😋 😌 😍 😎 😏\n",
    "😐 😑 😒 😓 😔 😕 😖 😗 😘 😙 😚 😛 😜 😝 😞 😟\n",
    "😠 😡 😢 😣 😤 😥 😦 😧 😨 😩 😪 😫 😬 😭 😮 😯\n",
    "😰 😱 😲 😳 😴 😵 😶 😷 😸 😹 😺 😻 😼 😽 😾 😿\n",
    "🙀 🙁 🙂 🙃 🙄 🙅 🙆 🙇 🙈 🙉 🙊 🙋 🙌 🙍 🙎 🙏\n",
    "☕⛾🍅🍊🍏🥑🍔🍕🍙🍞🍣🍨🍭🍲🍷🍼🍓\n",
    "☐ ☑ ☒ ✓ ⍻ ✅ ✔ 🗸 🗹\n",
    "˟ ⨯ ❌ ✝ ❎ 🕇 🞡 ✚ ✞ 🞤 ⛌ ✠ ♱✟ 🕈☨\n",
    "❦ ♡ ❧ ☙ ❥ ღ ❤ 💚 💛 🧡 ❤️ 🤎 💞 💕\n",
    "★ ☆ ✪ ✵ ✯ ٭ ✭ ✰ 🌟 ✡ ⚝ ⚹ ✹ ✷ ⍟ ❃ ✫ ✧ ✦\n",
    "👍 👎 ☝ 🖒 🖓Δ 𝚫 𝝙 𝛥 ⍙ ⍍ ⍋\n"
   ]
  },
  {
   "cell_type": "code",
   "execution_count": null,
   "metadata": {},
   "outputs": [],
   "source": []
  }
 ],
 "metadata": {
  "kernelspec": {
   "display_name": "Python 3",
   "language": "python",
   "name": "python3"
  },
  "language_info": {
   "codemirror_mode": {
    "name": "ipython",
    "version": 3
   },
   "file_extension": ".py",
   "mimetype": "text/x-python",
   "name": "python",
   "nbconvert_exporter": "python",
   "pygments_lexer": "ipython3",
   "version": "3.8.6"
  }
 },
 "nbformat": 4,
 "nbformat_minor": 4
}
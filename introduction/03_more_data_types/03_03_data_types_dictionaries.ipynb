{
 "cells": [
  {
   "cell_type": "markdown",
   "metadata": {},
   "source": [
    "# Mapping Types: dict\n",
    "\n",
    "A dictionary is an **unordered** collection of elements, that are **mutable** and **indexed**.\n",
    "\n",
    "- Indexes on a dictionary do not repeat (a set is a dictionary without indexed elements)\n",
    "- Access to an element of a dictionary is through the key (index like in lists)\n",
    "\n",
    "![Dictionary: James Bond](../images/03_02_JamesBond.png)\n",
    "\n",
    "```python\n",
    "# Use {} (curly brackets) to create a dictionary\n",
    "dict_variable = {\n",
    "    'element_1': 'value_1',\n",
    "    'element_2': 'value_2',\n",
    "    '...': '...'\n",
    "}\n",
    "```"
   ]
  },
  {
   "cell_type": "code",
   "execution_count": null,
   "metadata": {
    "pycharm": {
     "name": "#%%\n"
    }
   },
   "outputs": [],
   "source": [
    "agent_007 = {\n",
    "    'first_name': 'James',\n",
    "    'last_name': 'Bond',\n",
    "    'married': False,\n",
    "    'age': 40,\n",
    "    'favorite_number': 3.1416,\n",
    "    'phone': '1-800-007007',\n",
    "    'weekly_fruits': []\n",
    "}\n",
    "\n",
    "agent_007"
   ]
  },
  {
   "cell_type": "code",
   "execution_count": null,
   "metadata": {
    "pycharm": {
     "name": "#%%\n"
    }
   },
   "outputs": [],
   "source": [
    "agent_007 = dict(\n",
    "    first_name='James',\n",
    "    last_name='Bond',\n",
    "    married=False,\n",
    "    age=40,\n",
    "    favorite_number=3.1416,\n",
    "    phone='1-800-007007',\n",
    "    weekly_fruits=[]\n",
    ")\n",
    "agent_007\n"
   ]
  },
  {
   "cell_type": "markdown",
   "metadata": {},
   "source": [
    "## Functions"
   ]
  },
  {
   "cell_type": "markdown",
   "metadata": {},
   "source": [
    "### Modifying a dictionary"
   ]
  },
  {
   "cell_type": "code",
   "execution_count": null,
   "metadata": {
    "pycharm": {
     "name": "#%%\n"
    }
   },
   "outputs": [],
   "source": [
    "# New item\n",
    "agent_007['favorite_car'] = 'Aston Martin DB7'"
   ]
  },
  {
   "cell_type": "code",
   "execution_count": null,
   "metadata": {
    "pycharm": {
     "name": "#%%\n"
    }
   },
   "outputs": [],
   "source": [
    "# He finally got married!\n",
    "agent_007['married'] = True\n"
   ]
  },
  {
   "cell_type": "code",
   "execution_count": null,
   "metadata": {
    "pycharm": {
     "name": "#%%\n"
    }
   },
   "outputs": [],
   "source": [
    "agent_007['weekly_fruits'].append('avocado')\n"
   ]
  },
  {
   "cell_type": "markdown",
   "metadata": {},
   "source": [
    "### Accessing dictionary"
   ]
  },
  {
   "cell_type": "code",
   "execution_count": null,
   "metadata": {
    "pycharm": {
     "name": "#%%\n"
    }
   },
   "outputs": [],
   "source": [
    "agent_007['favorite_number']"
   ]
  },
  {
   "cell_type": "code",
   "execution_count": null,
   "metadata": {
    "pycharm": {
     "name": "#%%\n"
    }
   },
   "outputs": [],
   "source": [
    "agent_007['weekly_fruits'][0]"
   ]
  },
  {
   "cell_type": "code",
   "execution_count": null,
   "metadata": {
    "pycharm": {
     "name": "#%%\n"
    }
   },
   "outputs": [],
   "source": [
    "# Returns a default value in case the key is not present\n",
    "agent_007.get('pet', 'not found!')"
   ]
  },
  {
   "cell_type": "code",
   "execution_count": null,
   "metadata": {
    "pycharm": {
     "name": "#%%\n"
    }
   },
   "outputs": [],
   "source": [
    "# Length of the list\n",
    "len(agent_007)"
   ]
  },
  {
   "cell_type": "markdown",
   "metadata": {},
   "source": [
    "#### Membership operators\n",
    "These operators are useful to test if an element is present in an object."
   ]
  },
  {
   "cell_type": "code",
   "execution_count": null,
   "metadata": {
    "pycharm": {
     "name": "#%%\n"
    }
   },
   "outputs": [],
   "source": [
    "# Check if an key is in a dictionary\n",
    "'phone' in agent_007"
   ]
  },
  {
   "cell_type": "code",
   "execution_count": null,
   "metadata": {
    "pycharm": {
     "name": "#%%\n"
    }
   },
   "outputs": [],
   "source": [
    "# Check if a key is not in a dictionary\n",
    "'married' not in agent_007\n"
   ]
  },
  {
   "cell_type": "markdown",
   "metadata": {},
   "source": [
    "#### Handling missing keys"
   ]
  },
  {
   "cell_type": "code",
   "execution_count": null,
   "metadata": {
    "pycharm": {
     "name": "#%%\n"
    }
   },
   "outputs": [],
   "source": [
    "# Default value\n",
    "vegetables = agent_007.get('weekly_vegetables', [])\n",
    "len(vegetables)"
   ]
  },
  {
   "cell_type": "code",
   "execution_count": null,
   "metadata": {
    "pycharm": {
     "name": "#%%\n"
    }
   },
   "outputs": [],
   "source": [
    "# Membership operator\n",
    "vegetables = agent_007['weekly_vegetables'] if 'weekly_vegetables' in agent_007\n",
    "len(vegetables)"
   ]
  },
  {
   "cell_type": "code",
   "execution_count": null,
   "metadata": {
    "pycharm": {
     "name": "#%%\n"
    }
   },
   "outputs": [],
   "source": [
    "# Try/Except\n",
    "try:\n",
    "    vegetables = agent_007['weekly_vegetables']\n",
    "except KeyError:\n",
    "    vegetables = []\n",
    "\n",
    "len(vegetables)"
   ]
  },
  {
   "cell_type": "markdown",
   "metadata": {},
   "source": [
    "### Deleting items"
   ]
  },
  {
   "cell_type": "code",
   "execution_count": null,
   "metadata": {
    "pycharm": {
     "name": "#%%\n"
    }
   },
   "outputs": [],
   "source": [
    "del agent_007['weekly_fruits']\n",
    "print(agent_007)"
   ]
  },
  {
   "cell_type": "code",
   "execution_count": null,
   "metadata": {
    "pycharm": {
     "name": "#%%\n"
    }
   },
   "outputs": [],
   "source": [
    "fruits = agent_007.pop('last_name')\n",
    "\n",
    "print(fruits)\n",
    "print(agent_007)"
   ]
  },
  {
   "cell_type": "markdown",
   "metadata": {},
   "source": [
    "### Copying a dictionary\n",
    "Same as lists, it is not possible to assign the content of a set into another variable using the = operator, otherwise you will be assigning a *reference* of the set to the new variable."
   ]
  },
  {
   "cell_type": "code",
   "execution_count": null,
   "metadata": {
    "pycharm": {
     "name": "#%%\n"
    }
   },
   "outputs": [],
   "source": [
    "agent_008 = agent_007.copy()\n"
   ]
  },
  {
   "cell_type": "markdown",
   "metadata": {},
   "source": [
    "### Loop through a dictionary"
   ]
  },
  {
   "cell_type": "code",
   "execution_count": null,
   "metadata": {
    "pycharm": {
     "name": "#%%\n"
    }
   },
   "outputs": [],
   "source": [
    "for key, value in agent_007.items():\n",
    "    print(f\"Agent 007's {key} is: {value}\")"
   ]
  },
  {
   "cell_type": "markdown",
   "metadata": {},
   "source": [
    "### Time for coding!\n",
    "\n",
    "Now it is your turn. Create a dictionary with two lists. One list contains the indices, the other one contains the values.\n",
    "\n",
    "Then, use the dictionary to print the following line:\n",
    "The book 'Resto qui' was written by Marco Balzano in 2018, it has 168 pages."
   ]
  },
  {
   "cell_type": "code",
   "execution_count": null,
   "metadata": {
    "pycharm": {
     "name": "#%%\n"
    }
   },
   "outputs": [],
   "source": [
    "# Time for coding!\n",
    "# Create a dictionary with two lists. One list contains the indices,\n",
    "# the other one contains the values.\n",
    "\n",
    "# Then, use the dictionary to print the following line:\n",
    "# The book 'Resto qui' was written by Marco Balzano in 2018, it has 168 pages.\n",
    "\n",
    "keys = ['title', 'author', 'year', 'pages']\n",
    "values = ['Resto qui', 'Marco Balzano', 2018, 168]\n",
    "\n",
    "# You can write your solution after this line"
   ]
  },
  {
   "cell_type": "markdown",
   "metadata": {},
   "source": [
    "### Zip lists"
   ]
  },
  {
   "cell_type": "code",
   "execution_count": null,
   "metadata": {
    "pycharm": {
     "name": "#%%\n"
    }
   },
   "outputs": [],
   "source": [
    "keys = ['title', 'author', 'year', 'pages']\n",
    "values = ['Resto qui', 'Marco Balzano', 2018, 168]\n",
    "\n",
    "book = dict(zip(keys, values))\n",
    "book"
   ]
  },
  {
   "cell_type": "markdown",
   "metadata": {},
   "source": [
    "### Nested dictionaries"
   ]
  },
  {
   "cell_type": "code",
   "execution_count": null,
   "metadata": {
    "pycharm": {
     "name": "#%%\n"
    }
   },
   "outputs": [],
   "source": [
    "agents = {\n",
    "    'agent_007': {\n",
    "        'first_name': 'James',\n",
    "        'last_name': 'Bond',\n",
    "        'married': False,\n",
    "        'age': 40,\n",
    "        'favorite_number': 3.1416,\n",
    "        'phone': '1-800-007007',\n",
    "        'weekly_fruits': ['avocado']\n",
    "    },\n",
    "    'agent_004':{\n",
    "        'first_name': 'Frederick',\n",
    "        'last_name': 'Warder',\n",
    "        'married': True,\n",
    "        'age': 25,\n",
    "        'favorite_number': 4,\n",
    "        'phone': '1-800-004004',\n",
    "        'weekly_fruits': ['mango', 'mango']\n",
    "    },\n",
    "    'agent_006':{\n",
    "        'first_name': 'Alec',\n",
    "        'last_name': 'Trevelyan',\n",
    "        'married': False,\n",
    "        'age': 35,\n",
    "        'favorite_number': 0,\n",
    "        'phone': '1-800-006006',\n",
    "        'weekly_fruits': ['watermelon']\n",
    "    }\n",
    "}\n"
   ]
  },
  {
   "cell_type": "code",
   "execution_count": null,
   "metadata": {
    "pycharm": {
     "name": "#%%\n"
    }
   },
   "outputs": [],
   "source": [
    "agents['agent_004']['weekly_fruits'][1]"
   ]
  },
  {
   "cell_type": "code",
   "execution_count": null,
   "metadata": {
    "pycharm": {
     "name": "#%%\n"
    }
   },
   "outputs": [],
   "source": [
    "# Iterating nested dictionaries\n",
    "for agent_name, agent_info in agents.items():\n",
    "    print(agent_name)\n",
    "    print(agent_info)"
   ]
  },
  {
   "cell_type": "markdown",
   "metadata": {},
   "source": [
    "#### Time for coding!\n",
    "Now it is your turn! Using the information from agents, create a dictionary that stores different fruits and how many times each of them appears."
   ]
  },
  {
   "cell_type": "code",
   "execution_count": null,
   "metadata": {
    "pycharm": {
     "name": "#%%\n"
    }
   },
   "outputs": [],
   "source": [
    "# Time for coding!\n",
    "# Using the information from agents, create a dictionary\n",
    "# that stores different fruits and how many times each\n",
    "# of them appears.\n",
    "\n",
    "agents = {\n",
    "    'agent_007': {\n",
    "        'first_name': 'James',\n",
    "        'last_name': 'Bond',\n",
    "        'married': False,\n",
    "        'age': 40,\n",
    "        'favorite_number': 3.1416,\n",
    "        'phone': '1-800-007007',\n",
    "        'weekly_fruits': ['avocado', 'apple', 'pear', 'tomato', 'avocado', 'tomato', 'watermelon']\n",
    "    },\n",
    "    'agent_004':{\n",
    "        'first_name': 'Frederick',\n",
    "        'last_name': 'Warder',\n",
    "        'married': True,\n",
    "        'age': 25,\n",
    "        'favorite_number': 4,\n",
    "        'phone': '1-800-004004',\n",
    "        'weekly_fruits': ['mango', 'mango', 'peach', 'grape']\n",
    "    },\n",
    "    'agent_006':{\n",
    "        'first_name': 'Alec',\n",
    "        'last_name': 'Trevelyan',\n",
    "        'married': False,\n",
    "        'age': 35,\n",
    "        'favorite_number': 0,\n",
    "        'phone': '1-800-006006',\n",
    "        'weekly_fruits': ['watermelon', 'grape', 'avocado']\n",
    "    }\n",
    "}\n",
    "\n",
    "# You can write your solution after this line"
   ]
  }
 ],
 "metadata": {
  "kernelspec": {
   "display_name": "Python 3",
   "language": "python",
   "name": "python3"
  },
  "language_info": {
   "codemirror_mode": {
    "name": "ipython",
    "version": 3
   },
   "file_extension": ".py",
   "mimetype": "text/x-python",
   "name": "python",
   "nbconvert_exporter": "python",
   "pygments_lexer": "ipython3",
   "version": "3.8.5"
  }
 },
 "nbformat": 4,
 "nbformat_minor": 1
}

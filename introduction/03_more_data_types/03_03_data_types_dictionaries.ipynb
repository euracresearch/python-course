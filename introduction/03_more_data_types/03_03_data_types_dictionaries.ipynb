{
 "cells": [
  {
   "cell_type": "markdown",
   "metadata": {},
   "source": [
    "# Mapping Types: dict\n",
    "\n",
    "A dictionary is an **unordered** collection of elements, that are **mutable** and **indexed**.\n",
    "\n",
    "- Indexes on a dictionary do not repeat (a set is a dictionary without indexed elements)\n",
    "- Access to an element of a dictionary is through the key (index like in lists)\n",
    "\n",
    "![Dictionary: James Bond](../images/03_02_JamesBond.png)\n",
    "\n",
    "```python\n",
    "# Use {} (curly brackets) to create a dictionary\n",
    "dict_variable = {\n",
    "    'element_1': 'value_1',\n",
    "    'element_2': 'value_2',\n",
    "    '...': '...'\n",
    "}\n",
    "```"
   ]
  },
  {
   "cell_type": "code",
   "execution_count": 14,
   "metadata": {
    "pycharm": {
     "name": "#%%\n"
    }
   },
   "outputs": [
    {
     "data": {
      "text/plain": "{'first_name': 'James',\n 'last_name': 'Bond',\n 'married': False,\n 'age': 40,\n 'favorite_number': 3.1416,\n 'phone': '1-800-007007',\n 'weekly_fruits': []}"
     },
     "execution_count": 14,
     "metadata": {},
     "output_type": "execute_result"
    }
   ],
   "source": [
    "agent_007 = {\n",
    "    'first_name': 'James',\n",
    "    'last_name': 'Bond',\n",
    "    'married': False,\n",
    "    'age': 40,\n",
    "    'favorite_number': 3.1416,\n",
    "    'phone': '1-800-007007',\n",
    "    'weekly_fruits': []\n",
    "}\n",
    "\n",
    "agent_007"
   ]
  },
  {
   "cell_type": "code",
   "execution_count": 21,
   "outputs": [
    {
     "data": {
      "text/plain": "{'first_name': 'James',\n 'last_name': 'Bond',\n 'married': False,\n 'age': 40,\n 'favorite_number': 3.1416,\n 'phone': '1-800-007007',\n 'weekly_fruits': []}"
     },
     "execution_count": 21,
     "metadata": {},
     "output_type": "execute_result"
    }
   ],
   "source": [
    "agent_007 = dict(\n",
    "    first_name='James',\n",
    "    last_name='Bond',\n",
    "    married=False,\n",
    "    age=40,\n",
    "    favorite_number=3.1416,\n",
    "    phone='1-800-007007',\n",
    "    weekly_fruits=[]\n",
    ")\n",
    "agent_007\n"
   ],
   "metadata": {
    "collapsed": false,
    "pycharm": {
     "name": "#%%\n"
    }
   }
  },
  {
   "cell_type": "markdown",
   "metadata": {},
   "source": [
    "## Functions"
   ]
  },
  {
   "cell_type": "markdown",
   "metadata": {},
   "source": [
    "### Modifying a dictionary"
   ]
  },
  {
   "cell_type": "code",
   "execution_count": null,
   "metadata": {
    "pycharm": {
     "name": "#%%\n"
    }
   },
   "outputs": [],
   "source": [
    "# New item\n",
    "agent_007['favorite_car'] = 'Aston Martin DB7'"
   ]
  },
  {
   "cell_type": "code",
   "execution_count": null,
   "metadata": {
    "pycharm": {
     "name": "#%%\n"
    }
   },
   "outputs": [],
   "source": [
    "# He finally got married!\n",
    "agent_007['married'] = True\n"
   ]
  },
  {
   "cell_type": "code",
   "execution_count": 8,
   "metadata": {
    "pycharm": {
     "name": "#%%\n"
    }
   },
   "outputs": [],
   "source": [
    "agent_007['weekly_fruits'].append('avocado')\n"
   ]
  },
  {
   "cell_type": "markdown",
   "metadata": {},
   "source": [
    "### Accessing dictionary"
   ]
  },
  {
   "cell_type": "code",
   "execution_count": null,
   "metadata": {
    "pycharm": {
     "name": "#%%\n"
    }
   },
   "outputs": [],
   "source": [
    "agent_007['favorite_number']"
   ]
  },
  {
   "cell_type": "code",
   "execution_count": 9,
   "metadata": {
    "pycharm": {
     "name": "#%%\n"
    }
   },
   "outputs": [
    {
     "data": {
      "text/plain": [
       "'avocado'"
      ]
     },
     "execution_count": 9,
     "metadata": {},
     "output_type": "execute_result"
    }
   ],
   "source": [
    "agent_007['weekly_fruits'][0]"
   ]
  },
  {
   "cell_type": "code",
   "execution_count": null,
   "metadata": {
    "pycharm": {
     "name": "#%%\n"
    }
   },
   "outputs": [],
   "source": [
    "# Returns a default value in case the key is not present\n",
    "agent_007.get('pet', 'not found!')"
   ]
  },
  {
   "cell_type": "code",
   "execution_count": null,
   "metadata": {
    "pycharm": {
     "name": "#%%\n"
    }
   },
   "outputs": [],
   "source": [
    "# Length of the list\n",
    "len(agent_007)"
   ]
  },
  {
   "cell_type": "markdown",
   "metadata": {},
   "source": [
    "#### Membership operators\n",
    "These operators are useful to test if an element is present in an object."
   ]
  },
  {
   "cell_type": "code",
   "execution_count": null,
   "metadata": {
    "pycharm": {
     "name": "#%%\n"
    }
   },
   "outputs": [],
   "source": [
    "# Check if an key is in a dictionary\n",
    "'phone' in agent_007"
   ]
  },
  {
   "cell_type": "code",
   "execution_count": null,
   "metadata": {
    "pycharm": {
     "name": "#%%\n"
    }
   },
   "outputs": [],
   "source": [
    "# Check if a key is not in a dictionary\n",
    "'married' not in agent_007\n"
   ]
  },
  {
   "cell_type": "markdown",
   "source": [
    "#### Handling missing keys"
   ],
   "metadata": {
    "collapsed": false
   }
  },
  {
   "cell_type": "code",
   "execution_count": null,
   "outputs": [],
   "source": [
    "# Default value\n",
    "vegetables = agent_007.get('weekly_vegetables', [])\n",
    "len(vegetables)"
   ],
   "metadata": {
    "collapsed": false,
    "pycharm": {
     "name": "#%%\n"
    }
   }
  },
  {
   "cell_type": "code",
   "execution_count": null,
   "outputs": [],
   "source": [
    "# Membership operator\n",
    "vegetables = agent_007['weekly_vegetables'] if 'weekly_vegetables' in agent_007\n",
    "len(vegetables)"
   ],
   "metadata": {
    "collapsed": false,
    "pycharm": {
     "name": "#%%\n"
    }
   }
  },
  {
   "cell_type": "code",
   "execution_count": null,
   "outputs": [],
   "source": [
    "# Try/Except\n",
    "try:\n",
    "    vegetables = agent_007['weekly_vegetables']\n",
    "except KeyError:\n",
    "    vegetables = []\n",
    "\n",
    "len(vegetables)"
   ],
   "metadata": {
    "collapsed": false,
    "pycharm": {
     "name": "#%%\n"
    }
   }
  },
  {
   "cell_type": "markdown",
   "metadata": {},
   "source": [
    "### Deleting items"
   ]
  },
  {
   "cell_type": "code",
   "execution_count": 11,
   "metadata": {
    "pycharm": {
     "name": "#%%\n"
    }
   },
   "outputs": [
    {
     "ename": "KeyError",
     "evalue": "'weekly_fruits'",
     "output_type": "error",
     "traceback": [
      "\u001B[0;31m---------------------------------------------------------------------------\u001B[0m",
      "\u001B[0;31mKeyError\u001B[0m                                  Traceback (most recent call last)",
      "\u001B[0;32m<ipython-input-11-9d50cef86d55>\u001B[0m in \u001B[0;36m<module>\u001B[0;34m\u001B[0m\n\u001B[0;32m----> 1\u001B[0;31m \u001B[0;32mdel\u001B[0m \u001B[0magent_007\u001B[0m\u001B[0;34m[\u001B[0m\u001B[0;34m'weekly_fruits'\u001B[0m\u001B[0;34m]\u001B[0m\u001B[0;34m\u001B[0m\u001B[0;34m\u001B[0m\u001B[0m\n\u001B[0m\u001B[1;32m      2\u001B[0m \u001B[0;34m\u001B[0m\u001B[0m\n",
      "\u001B[0;31mKeyError\u001B[0m: 'weekly_fruits'"
     ]
    }
   ],
   "source": [
    "del agent_007['weekly_fruits']\n",
    "print(agent_007)"
   ]
  },
  {
   "cell_type": "code",
   "execution_count": 12,
   "metadata": {
    "pycharm": {
     "name": "#%%\n"
    }
   },
   "outputs": [
    {
     "ename": "KeyError",
     "evalue": "'weekly_fruits'",
     "output_type": "error",
     "traceback": [
      "\u001B[0;31m---------------------------------------------------------------------------\u001B[0m",
      "\u001B[0;31mKeyError\u001B[0m                                  Traceback (most recent call last)",
      "\u001B[0;32m<ipython-input-12-78d503a8f7e2>\u001B[0m in \u001B[0;36m<module>\u001B[0;34m\u001B[0m\n\u001B[0;32m----> 1\u001B[0;31m \u001B[0mr\u001B[0m \u001B[0;34m=\u001B[0m \u001B[0magent_007\u001B[0m\u001B[0;34m.\u001B[0m\u001B[0mpop\u001B[0m\u001B[0;34m(\u001B[0m\u001B[0;34m'weekly_fruits'\u001B[0m\u001B[0;34m)\u001B[0m\u001B[0;34m\u001B[0m\u001B[0;34m\u001B[0m\u001B[0m\n\u001B[0m\u001B[1;32m      2\u001B[0m \u001B[0mr\u001B[0m\u001B[0;34m\u001B[0m\u001B[0;34m\u001B[0m\u001B[0m\n\u001B[1;32m      3\u001B[0m \u001B[0;34m\u001B[0m\u001B[0m\n",
      "\u001B[0;31mKeyError\u001B[0m: 'weekly_fruits'"
     ]
    }
   ],
   "source": [
    "fruits = agent_007.pop('last_name')\n",
    "\n",
    "print(fruits)\n",
    "print(agent_007)"
   ]
  },
  {
   "cell_type": "markdown",
   "metadata": {},
   "source": [
    "### Copying a dictionary\n",
    "Same as lists, it is not possible to assign the content of a set into another variable using the = operator, otherwise you will be assigning a *reference* of the set to the new variable."
   ]
  },
  {
   "cell_type": "code",
   "execution_count": null,
   "metadata": {
    "pycharm": {
     "name": "#%%\n"
    }
   },
   "outputs": [],
   "source": [
    "agent_008 = agent_007.copy()\n"
   ]
  },
  {
   "cell_type": "markdown",
   "metadata": {},
   "source": [
    "### Loop through a dictionary"
   ]
  },
  {
   "cell_type": "code",
   "execution_count": 13,
   "metadata": {
    "pycharm": {
     "name": "#%%\n"
    }
   },
   "outputs": [
    {
     "name": "stdout",
     "output_type": "stream",
     "text": [
      "Agent 007's first_name is: James\n",
      "Agent 007's last_name is: Bond\n",
      "Agent 007's married is: False\n",
      "Agent 007's age is: 40\n",
      "Agent 007's favorite_number is: 3.1416\n",
      "Agent 007's phone is: 1-800-007007\n"
     ]
    }
   ],
   "source": [
    "for key, value in agent_007.items():\n",
    "    print(f\"Agent 007's {key} is: {value}\")"
   ]
  },
  {
   "cell_type": "markdown",
   "source": [
    "### Time for coding!\n",
    "\n",
    "Now it is your turn. Create a dictionary with two lists. One list contains the indices, the other one contains the values.\n",
    "\n",
    "Then, use the dictionary to print the following line:\n",
    "The book 'Resto qui' was written by Marco Balzano in 2018, it has 168 pages."
   ],
   "metadata": {
    "collapsed": false
   }
  },
  {
   "cell_type": "code",
   "execution_count": 10,
   "outputs": [
    {
     "data": {
      "text/plain": "\"The book 'Resto qui' was written by Marco Balzano in 2018, it has 168 pages.\""
     },
     "execution_count": 10,
     "metadata": {},
     "output_type": "execute_result"
    }
   ],
   "source": [
    "# Time for coding!\n",
    "# Create a dictionary with two lists. One list contains the indices,\n",
    "# the other one contains the values.\n",
    "\n",
    "# Then, use the dictionary to print the following line:\n",
    "# The book 'Resto qui' was written by Marco Balzano in 2018, it has 168 pages.\n",
    "\n",
    "keys = ['title', 'author', 'year', 'pages']\n",
    "values = ['Resto qui', 'Marco Balzano', 2018, 168]\n",
    "\n",
    "# You can write your solution after this line"
   ],
   "metadata": {
    "collapsed": false,
    "pycharm": {
     "name": "#%%\n"
    }
   }
  },
  {
   "cell_type": "markdown",
   "source": [
    "### Zip lists"
   ],
   "metadata": {
    "collapsed": false
   }
  },
  {
   "cell_type": "code",
   "execution_count": 9,
   "outputs": [
    {
     "ename": "ValueError",
     "evalue": "dictionary update sequence element #0 has length 3; 2 is required",
     "output_type": "error",
     "traceback": [
      "\u001B[0;31m---------------------------------------------------------------------------\u001B[0m",
      "\u001B[0;31mValueError\u001B[0m                                Traceback (most recent call last)",
      "\u001B[0;32m<ipython-input-9-206584800ef8>\u001B[0m in \u001B[0;36m<module>\u001B[0;34m\u001B[0m\n\u001B[1;32m      2\u001B[0m \u001B[0mvalues\u001B[0m \u001B[0;34m=\u001B[0m \u001B[0;34m[\u001B[0m\u001B[0;34m'john'\u001B[0m\u001B[0;34m,\u001B[0m \u001B[0;34m'doe'\u001B[0m\u001B[0;34m,\u001B[0m \u001B[0;34m'x'\u001B[0m\u001B[0;34m]\u001B[0m\u001B[0;34m\u001B[0m\u001B[0;34m\u001B[0m\u001B[0m\n\u001B[1;32m      3\u001B[0m \u001B[0;34m\u001B[0m\u001B[0m\n\u001B[0;32m----> 4\u001B[0;31m \u001B[0mdict\u001B[0m\u001B[0;34m(\u001B[0m\u001B[0mzip\u001B[0m\u001B[0;34m(\u001B[0m\u001B[0mkeys\u001B[0m\u001B[0;34m,\u001B[0m \u001B[0mvalues\u001B[0m\u001B[0;34m,\u001B[0m \u001B[0mvalues\u001B[0m\u001B[0;34m)\u001B[0m\u001B[0;34m)\u001B[0m\u001B[0;34m\u001B[0m\u001B[0;34m\u001B[0m\u001B[0m\n\u001B[0m\u001B[1;32m      5\u001B[0m \u001B[0;34m\u001B[0m\u001B[0m\n\u001B[1;32m      6\u001B[0m \u001B[0;34m\u001B[0m\u001B[0m\n",
      "\u001B[0;31mValueError\u001B[0m: dictionary update sequence element #0 has length 3; 2 is required"
     ]
    }
   ],
   "source": [
    "keys = ['title', 'author', 'year', 'pages']\n",
    "values = ['Resto qui', 'Marco Balzano', 2018, 168]\n",
    "\n",
    "book = dict(zip(keys, values))\n",
    "book"
   ],
   "metadata": {
    "collapsed": false,
    "pycharm": {
     "name": "#%%\n"
    }
   }
  },
  {
   "cell_type": "markdown",
   "source": [
    "### Nested dictionaries"
   ],
   "metadata": {
    "collapsed": false
   }
  },
  {
   "cell_type": "code",
   "execution_count": 7,
   "outputs": [],
   "source": [
    "agents = {\n",
    "    'agent_007': {\n",
    "        'first_name': 'James',\n",
    "        'last_name': 'Bond',\n",
    "        'married': False,\n",
    "        'age': 40,\n",
    "        'favorite_number': 3.1416,\n",
    "        'phone': '1-800-007007',\n",
    "        'weekly_fruits': ['avocado']\n",
    "    },\n",
    "    'agent_004':{\n",
    "        'first_name': 'Frederick',\n",
    "        'last_name': 'Warder',\n",
    "        'married': True,\n",
    "        'age': 25,\n",
    "        'favorite_number': 4,\n",
    "        'phone': '1-800-004004',\n",
    "        'weekly_fruits': ['mango', 'mango']\n",
    "    },\n",
    "    'agent_006':{\n",
    "        'first_name': 'Alec',\n",
    "        'last_name': 'Trevelyan',\n",
    "        'married': False,\n",
    "        'age': 35,\n",
    "        'favorite_number': 0,\n",
    "        'phone': '1-800-006006',\n",
    "        'weekly_fruits': ['watermelon']\n",
    "    }\n",
    "}\n"
   ],
   "metadata": {
    "collapsed": false,
    "pycharm": {
     "name": "#%%\n"
    }
   }
  },
  {
   "cell_type": "code",
   "execution_count": 8,
   "outputs": [
    {
     "data": {
      "text/plain": "'mango'"
     },
     "execution_count": 8,
     "metadata": {},
     "output_type": "execute_result"
    }
   ],
   "source": [
    "agents['agent_004']['weekly_fruits'][1]"
   ],
   "metadata": {
    "collapsed": false,
    "pycharm": {
     "name": "#%%\n"
    }
   }
  },
  {
   "cell_type": "markdown",
   "source": [
    "#### Time for coding!\n",
    "Now it is your turn! Using the information from agents, create a dictionary that stores different fruits and how many times each of them appears."
   ],
   "metadata": {
    "collapsed": false
   }
  },
  {
   "cell_type": "code",
   "source": [
    "# Time for coding!\n",
    "# Using the information from agents, create a dictionary\n",
    "# that stores different fruits and how many times each\n",
    "# of them appears.\n",
    "\n",
    "agents = {\n",
    "    'agent_007': {\n",
    "        'first_name': 'James',\n",
    "        'last_name': 'Bond',\n",
    "        'married': False,\n",
    "        'age': 40,\n",
    "        'favorite_number': 3.1416,\n",
    "        'phone': '1-800-007007',\n",
    "        'weekly_fruits': ['avocado', 'apple', 'pear', 'tomato', 'avocado', 'tomato', 'watermelon']\n",
    "    },\n",
    "    'agent_004':{\n",
    "        'first_name': 'Frederick',\n",
    "        'last_name': 'Warder',\n",
    "        'married': True,\n",
    "        'age': 25,\n",
    "        'favorite_number': 4,\n",
    "        'phone': '1-800-004004',\n",
    "        'weekly_fruits': ['mango', 'mango', 'peach', 'grape']\n",
    "    },\n",
    "    'agent_006':{\n",
    "        'first_name': 'Alec',\n",
    "        'last_name': 'Trevelyan',\n",
    "        'married': False,\n",
    "        'age': 35,\n",
    "        'favorite_number': 0,\n",
    "        'phone': '1-800-006006',\n",
    "        'weekly_fruits': ['watermelon', 'grape', 'avocado']\n",
    "    }\n",
    "}\n",
    "\n",
    "# You can write your solution after this line"
   ],
   "metadata": {
    "collapsed": false,
    "pycharm": {
     "name": "#%%\n"
    }
   },
   "execution_count": null,
   "outputs": []
  }
 ],
 "metadata": {
  "kernelspec": {
   "display_name": "Python 3",
   "language": "python",
   "name": "python3"
  },
  "language_info": {
   "codemirror_mode": {
    "name": "ipython",
    "version": 3
   },
   "file_extension": ".py",
   "mimetype": "text/x-python",
   "name": "python",
   "nbconvert_exporter": "python",
   "pygments_lexer": "ipython3",
   "version": "3.8.2"
  }
 },
 "nbformat": 4,
 "nbformat_minor": 1
}
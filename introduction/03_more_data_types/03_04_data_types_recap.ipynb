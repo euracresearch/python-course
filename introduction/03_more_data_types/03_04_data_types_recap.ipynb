{
 "cells": [
  {
   "cell_type": "markdown",
   "metadata": {},
   "source": [
    "# Sequence, Set and Mapping Types: recap\n",
    "\n",
    "|Data Type|Syntax|ordered|indexed|mutable|Description|\n",
    "|---|---|---|---|---|---|\n",
    "|list|```[ ]``` or ```list```|Yes|Yes|Yes|Ordered elements, elements can repeat, content can change|\n",
    "|tuple|```( )``` or ```tuple```|Yes|Yes|No|Ordered elements, elements can repeat, content cannot change|\n",
    "|set|```{ }``` or ```set```|No|No|Yes|Unordered elements,  elements are not repeated, content can change|\n",
    "|dictionary|```{ }``` or ```dict```|No|Yes|Yes|Unordered elements with specific indexes, indexes are not repeated, content can change|\n",
    "\n",
    "## Lists\n",
    "```python\n",
    "# Use [] (squared brackets) to create a list\n",
    "list_variable = [\n",
    "    'element_1',\n",
    "    'element_2',\n",
    "    '...'\n",
    "]\n",
    "```\n",
    "\n",
    "## Tuples\n",
    "```python\n",
    "# Use () (rounded brackets) to create a tuple\n",
    "tuple_variable = (\n",
    "    'element_1',\n",
    "    'element_2',\n",
    "    '...'\n",
    ")\n",
    "```\n",
    "\n",
    "## Sets\n",
    "```python\n",
    "# Use {} (curly brackets) to create a set\n",
    "set_variable = {\n",
    "    'element_1',\n",
    "    'element_2',\n",
    "    '...'\n",
    "}\n",
    "```\n",
    "\n",
    "## Dictionary\n",
    "```python\n",
    "# Use {} (curly brackets) to create a dictionary\n",
    "dict_variable = {\n",
    "    'element_1': 'value_1',\n",
    "    'element_2': 'value_2',\n",
    "    '...': '...'\n",
    "}\n",
    "```"
   ]
  }
 ],
 "metadata": {
  "kernelspec": {
   "display_name": "Python 3",
   "language": "python",
   "name": "python3"
  },
  "language_info": {
   "codemirror_mode": {
    "name": "ipython",
    "version": 3
   },
   "file_extension": ".py",
   "mimetype": "text/x-python",
   "name": "python",
   "nbconvert_exporter": "python",
   "pygments_lexer": "ipython3",
   "version": "3.8.5"
  }
 },
 "nbformat": 4,
 "nbformat_minor": 1
}

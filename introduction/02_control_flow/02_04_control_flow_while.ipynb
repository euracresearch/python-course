{
 "cells": [
  {
   "cell_type": "markdown",
   "metadata": {},
   "source": [
    "# Control flow: while\n",
    "A special type of `for` loop that is often use when programming is the `while`. The pseudo-syntax is:\n",
    "\n",
    "```python\n",
    "while {condition}:\n",
    "    {do something}\n",
    "```"
   ]
  },
  {
   "cell_type": "code",
   "execution_count": null,
   "metadata": {
    "pycharm": {
     "name": "#%%\n"
    }
   },
   "outputs": [],
   "source": [
    "# initialize a variable\n",
    "x = 0\n",
    "# condition, break the cycle when False\n",
    "while x < 4:\n",
    "    print('a' * x)\n",
    "    x += 1"
   ]
  },
  {
   "cell_type": "markdown",
   "metadata": {},
   "source": [
    "## Time for coding"
   ]
  },
  {
   "cell_type": "markdown",
   "metadata": {},
   "source": [
    "Find the position of an element in the list using a while."
   ]
  },
  {
   "cell_type": "code",
   "execution_count": null,
   "metadata": {
    "pycharm": {
     "name": "#%%\n"
    }
   },
   "outputs": [],
   "source": [
    "# Time for coding!\n",
    "# Find the position of an element \n",
    "# in the list using a while.\n",
    "\n",
    "# You can write your solution after this line\n"
   ]
  },
  {
   "cell_type": "markdown",
   "metadata": {},
   "source": [
    "## continue and break"
   ]
  },
  {
   "cell_type": "markdown",
   "metadata": {},
   "source": [
    "Sometimes is useful interrupt the cycle (press the button ■ to interrupt the execution of the cell):"
   ]
  },
  {
   "cell_type": "code",
   "execution_count": null,
   "metadata": {
    "pycharm": {
     "name": "#%%\n"
    }
   },
   "outputs": [],
   "source": [
    "from random import randint\n",
    "\n",
    "while True:  # infinite loop\n",
    "    number = randint(0, 9)\n",
    "    print(f\"{number} is {'odd' if number % 2 else 'even'}!\")"
   ]
  },
  {
   "cell_type": "code",
   "execution_count": null,
   "metadata": {
    "pycharm": {
     "name": "#%%\n"
    }
   },
   "outputs": [],
   "source": [
    "counter = 0\n",
    "\n",
    "while True:  # infinite loop\n",
    "    number = randint(0, 9)\n",
    "    print(f\"{number} is {'odd' if number % 2 else 'even'}!\")\n",
    "    counter += 1\n",
    "    if counter > 10:\n",
    "        break"
   ]
  },
  {
   "cell_type": "code",
   "execution_count": null,
   "metadata": {
    "pycharm": {
     "name": "#%%\n"
    }
   },
   "outputs": [],
   "source": [
    "counter = 0\n",
    "\n",
    "while True:  # infinite loop\n",
    "    number = randint(0, 9)\n",
    "    if number % 2:\n",
    "        continue\n",
    "    print(f\"{number} is {'odd' if number % 2 else 'even'}!\")\n",
    "    counter += 1\n",
    "    if counter > 10:\n",
    "        break"
   ]
  },
  {
   "cell_type": "markdown",
   "metadata": {},
   "source": [
    "## Time for coding!\n",
    "\n",
    "- Use the `break` command to exit from the while loop when the element is found."
   ]
  },
  {
   "cell_type": "code",
   "execution_count": null,
   "metadata": {
    "pycharm": {
     "name": "#%%\n"
    }
   },
   "outputs": [],
   "source": [
    "# Time for coding!\n",
    "# Use the `break` command to exit from the \n",
    "# while loop when the element is found\n",
    "\n",
    "# You can write your solution after this line\n",
    "\n"
   ]
  },
  {
   "cell_type": "markdown",
   "metadata": {},
   "source": [
    "- Change the `for` loop cycle to find the element using the `enumerate` function, avoiding to use directly the counter variable."
   ]
  },
  {
   "cell_type": "code",
   "execution_count": null,
   "metadata": {
    "pycharm": {
     "name": "#%%\n"
    }
   },
   "outputs": [],
   "source": [
    "# Time for coding!\n",
    "# Change the `for` loop cycle to find the \n",
    "# element using the `enumerate` function, avoiding to use directly the counter variable.\n",
    "\n",
    "# You can write your solution after this line\n"
   ]
  },
  {
   "cell_type": "markdown",
   "metadata": {},
   "source": [
    "- Write the code to sort a list of elements. So starting from something like: `[3, 5, 2, 1]` we want to obtain: `[1, 2, 3, 5]`"
   ]
  },
  {
   "cell_type": "code",
   "execution_count": null,
   "metadata": {
    "pycharm": {
     "name": "#%%\n"
    }
   },
   "outputs": [],
   "source": [
    "# Time for coding!\n",
    "# Write the code to sort a list of elements. \n",
    "# So starting from something like [3, 5, 2, 1],\n",
    "# we want to obtain: `[1, 2, 3, 5]`\n",
    "\n",
    "# You can write your solution after this line\n"
   ]
  }
 ],
 "metadata": {
  "kernelspec": {
   "display_name": "Python 3",
   "language": "python",
   "name": "python3"
  },
  "language_info": {
   "codemirror_mode": {
    "name": "ipython",
    "version": 3
   },
   "file_extension": ".py",
   "mimetype": "text/x-python",
   "name": "python",
   "nbconvert_exporter": "python",
   "pygments_lexer": "ipython3",
   "version": "3.8.5"
  }
 },
 "nbformat": 4,
 "nbformat_minor": 1
}

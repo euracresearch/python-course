{
 "cells": [
  {
   "cell_type": "markdown",
   "metadata": {},
   "source": [
    "# Control flow: Try and Except"
   ]
  },
  {
   "cell_type": "markdown",
   "metadata": {},
   "source": [
    "Python allows managing errors during the execution of the commands:"
   ]
  },
  {
   "cell_type": "code",
   "execution_count": null,
   "metadata": {
    "pycharm": {
     "name": "#%%\n"
    }
   },
   "outputs": [],
   "source": [
    "numerator = 1\n",
    "denominator = 0. # change to 0\n",
    "try:\n",
    "    print(numerator/denominator)\n",
    "except ZeroDivisionError:\n",
    "    print(\"Divide a number with 0 is not a valid operation!\")\n",
    "else:\n",
    "    print(\"Here we are...\")\n",
    "finally:\n",
    "    print(\"Do something at the end\")"
   ]
  },
  {
   "cell_type": "code",
   "execution_count": null,
   "metadata": {
    "pycharm": {
     "name": "#%%\n"
    }
   },
   "outputs": [],
   "source": [
    "numerator = 1\n",
    "denominator = 0.5 # change to 0\n",
    "try:\n",
    "    print(numerator/denominator)\n",
    "except ZeroDivisionError:\n",
    "    print(\"Divide a number with 0 is not a valid operation!\")\n",
    "else:\n",
    "    print(\"Here we are...\")\n",
    "finally:\n",
    "    print(\"Do something at the end\")"
   ]
  }
 ],
 "metadata": {
  "kernelspec": {
   "display_name": "Python 3",
   "language": "python",
   "name": "python3"
  },
  "language_info": {
   "codemirror_mode": {
    "name": "ipython",
    "version": 3
   },
   "file_extension": ".py",
   "mimetype": "text/x-python",
   "name": "python",
   "nbconvert_exporter": "python",
   "pygments_lexer": "ipython3",
   "version": "3.8.2"
  }
 },
 "nbformat": 4,
 "nbformat_minor": 1
}
{
 "cells": [
  {
   "cell_type": "markdown",
   "metadata": {},
   "source": [
    "# Control flow: for\n",
    "\n",
    "![Control flow FOR](../images/02_03_control_flow_for.png)\n",
    "\n",
    "Computers are pretty good in doing repetitive tasks, therefore with every language you will be able to define a `for` loop.\n",
    "The `for` loop are used to repeat several times something. \n",
    "\n",
    "Here the general syntax of a for loop:\n",
    "\n",
    "```python\n",
    "for {variable} in {something that is iterable}:  # <= note the `:`\n",
    "    {do something}\n",
    "```\n",
    "As an example, we can apply the code defined in the previous section to check if a list of numbers are odd or even:"
   ]
  },
  {
   "cell_type": "code",
   "execution_count": null,
   "metadata": {
    "pycharm": {
     "name": "#%%\n"
    }
   },
   "outputs": [],
   "source": [
    "numbers = [1, 2, 3, 4, 5, 6.5, 7.0, ]\n",
    "\n",
    "for number in numbers:\n",
    "    print(f\"{number} is {'odd' if number % 2 else 'even'}!\")"
   ]
  },
  {
   "cell_type": "markdown",
   "metadata": {},
   "source": [
    "It is possible to nest more for cycles together."
   ]
  },
  {
   "cell_type": "code",
   "execution_count": null,
   "metadata": {
    "pycharm": {
     "name": "#%%\n"
    }
   },
   "outputs": [],
   "source": [
    "for odd in [1, 3, 5, 7]:\n",
    "    for even in [1, 2]:\n",
    "        number = odd * even\n",
    "        print(f\"{number} is {'odd' if number % 2 else 'even'}!\")"
   ]
  },
  {
   "cell_type": "markdown",
   "metadata": {},
   "source": [
    "Another example for a for loop is to add a percentage that updates to give a feedback to the potential user regarding a predefine task."
   ]
  },
  {
   "cell_type": "code",
   "execution_count": null,
   "metadata": {
    "pycharm": {
     "name": "#%%\n"
    }
   },
   "outputs": [],
   "source": [
    "import time\n",
    "\n",
    "for i in range(101):\n",
    "    print(f\"\\r{i:3d}%\",                      # to overwrite the row we need add '\\r'\n",
    "          end='', flush=True)                # we avoid to print to a new line and we flush the line\n",
    "    time.sleep(0.05)                         # wait 0.05 seconds before continue"
   ]
  },
  {
   "cell_type": "markdown",
   "metadata": {},
   "source": [
    "## Time for coding!"
   ]
  },
  {
   "cell_type": "markdown",
   "metadata": {},
   "source": [
    "For each element in a list, check if the item is odd or even."
   ]
  },
  {
   "cell_type": "code",
   "execution_count": null,
   "metadata": {
    "pycharm": {
     "name": "#%%\n"
    }
   },
   "outputs": [],
   "source": [
    "numbers = [1, 2, 3, 4, 5, 6, float(\"nan\"), float(\"-inf\")]\n",
    "\n",
    "for number in numbers:\n",
    "    # add your code here:\n",
    "    # ..."
   ]
  },
  {
   "cell_type": "markdown",
   "metadata": {},
   "source": [
    "Find the position of the last element in the list using a for loop."
   ]
  },
  {
   "cell_type": "code",
   "execution_count": null,
   "metadata": {
    "pycharm": {
     "name": "#%%\n"
    }
   },
   "outputs": [],
   "source": [
    "# 0) define a list\n",
    "\n",
    "# 1) define a variable with the element in the list that we want to find\n",
    "\n",
    "# 2) initialize a position variable\n",
    "\n",
    "# 3) initialize a counter\n",
    "\n",
    "# 4) cycle over the elements in the list\n",
    "\n",
    "    # 5) check if the element in the list is equal to the elemnt that you are looking for\n",
    "\n",
    "        # 6) if is equal save the position\n",
    "\n",
    "    # 7) increase the counter\n",
    "\n",
    "# 8) print the element and the position\n"
   ]
  },
  {
   "cell_type": "markdown",
   "metadata": {},
   "source": [
    "Write a code that print and animate a progress bar like:\n",
    "\n",
    "`[#######################--------] 80%`"
   ]
  },
  {
   "cell_type": "code",
   "execution_count": null,
   "metadata": {
    "pycharm": {
     "name": "#%%\n"
    }
   },
   "outputs": [],
   "source": [
    "# set some variables\n",
    "total = 100\n",
    "step = 1\n",
    "fill = '#'\n",
    "empty = '-'\n",
    "barsize = 30\n",
    "\n",
    "# start a for loop\n",
    "for i in range(total+1):\n",
    "    # ...\n",
    "    print(f\"\\r{i} ... change here...\", end='', flush=True)\n",
    "    time.sleep(0.1)\n"
   ]
  },
  {
   "cell_type": "markdown",
   "metadata": {},
   "source": [
    "## List comprehension"
   ]
  },
  {
   "cell_type": "code",
   "execution_count": null,
   "metadata": {
    "pycharm": {
     "name": "#%%\n"
    }
   },
   "outputs": [],
   "source": [
    "colors = [\"red\", \"green\", \"blue\"]"
   ]
  },
  {
   "cell_type": "code",
   "execution_count": null,
   "metadata": {
    "pycharm": {
     "name": "#%%\n"
    }
   },
   "outputs": [],
   "source": [
    "myvar = [[color, len(color)] for color in colors]\n",
    "print(myvar)"
   ]
  },
  {
   "cell_type": "code",
   "execution_count": null,
   "metadata": {
    "pycharm": {
     "name": "#%%\n"
    }
   },
   "outputs": [],
   "source": [
    "myvar = []\n",
    "for color in colors:\n",
    "    myvar.append([color, len(color)])\n",
    "print(myvar)"
   ]
  },
  {
   "cell_type": "markdown",
   "metadata": {},
   "source": [
    "List comprehension with a if condition"
   ]
  },
  {
   "cell_type": "code",
   "execution_count": null,
   "metadata": {
    "pycharm": {
     "name": "#%%\n"
    }
   },
   "outputs": [],
   "source": [
    "[[color, len(color)] for color in colors if len(color) > 3]"
   ]
  },
  {
   "cell_type": "code",
   "execution_count": null,
   "metadata": {
    "pycharm": {
     "name": "#%%\n"
    }
   },
   "outputs": [],
   "source": [
    "myvar = []\n",
    "for color in colors:\n",
    "    if len(color) > 3:\n",
    "        myvar.append([color, len(color)])\n",
    "print(myvar)"
   ]
  },
  {
   "cell_type": "markdown",
   "metadata": {},
   "source": [
    "We can define also nested cycles:"
   ]
  },
  {
   "cell_type": "code",
   "execution_count": null,
   "metadata": {
    "pycharm": {
     "name": "#%%\n"
    }
   },
   "outputs": [],
   "source": [
    "myvar = [[i, j] for i in [1, 3, 5] for j in [2, 4, 6]]"
   ]
  },
  {
   "cell_type": "code",
   "execution_count": null,
   "metadata": {
    "pycharm": {
     "name": "#%%\n"
    }
   },
   "outputs": [],
   "source": [
    "myvar = []\n",
    "for i in [1, 3, 5]:\n",
    "    for j in [2, 4, 6]:\n",
    "        myvar.append([i, j])\n",
    "print(myvar)"
   ]
  },
  {
   "cell_type": "code",
   "execution_count": null,
   "metadata": {
    "pycharm": {
     "name": "#%%\n"
    }
   },
   "outputs": [],
   "source": [
    "myvar = [[[i, j] for i in [1, 3, 5]] for j in [2, 4, 6]]"
   ]
  },
  {
   "cell_type": "code",
   "execution_count": null,
   "metadata": {
    "pycharm": {
     "name": "#%%\n"
    }
   },
   "outputs": [],
   "source": [
    "myvar = []\n",
    "for i in [1, 3, 5]:\n",
    "    innerlist = []\n",
    "    for j in [2, 4, 6]:\n",
    "        innerlist.append([i, j])\n",
    "    myvar.append(innerlist)\n",
    "print(myvar)"
   ]
  },
  {
   "cell_type": "markdown",
   "metadata": {},
   "source": [
    "## Functions often used on cycles\n",
    "* range\n",
    "* enumerate\n",
    "* zip\n"
   ]
  },
  {
   "cell_type": "code",
   "execution_count": null,
   "metadata": {
    "pycharm": {
     "name": "#%%\n"
    }
   },
   "outputs": [],
   "source": [
    "range(5, 10)  # return an iterator"
   ]
  },
  {
   "cell_type": "code",
   "execution_count": null,
   "metadata": {
    "pycharm": {
     "name": "#%%\n"
    }
   },
   "outputs": [],
   "source": [
    "list(range(5, 10))  # convert an iterator to list"
   ]
  },
  {
   "cell_type": "code",
   "execution_count": null,
   "metadata": {
    "pycharm": {
     "name": "#%%\n"
    }
   },
   "outputs": [],
   "source": [
    "list(range(5, 20, 3))"
   ]
  },
  {
   "cell_type": "code",
   "execution_count": null,
   "metadata": {
    "pycharm": {
     "name": "#%%\n"
    }
   },
   "outputs": [],
   "source": [
    "[[i, char] for i, char in enumerate('mytext')]"
   ]
  },
  {
   "cell_type": "code",
   "execution_count": null,
   "metadata": {
    "pycharm": {
     "name": "#%%\n"
    }
   },
   "outputs": [],
   "source": [
    "[[i, char] for i, char in zip('abcd', range(4))]"
   ]
  }
 ],
 "metadata": {
  "kernelspec": {
   "display_name": "Python 3",
   "language": "python",
   "name": "python3"
  },
  "language_info": {
   "codemirror_mode": {
    "name": "ipython",
    "version": 3
   },
   "file_extension": ".py",
   "mimetype": "text/x-python",
   "name": "python",
   "nbconvert_exporter": "python",
   "pygments_lexer": "ipython3",
   "version": "3.8.2"
  }
 },
 "nbformat": 4,
 "nbformat_minor": 1
}
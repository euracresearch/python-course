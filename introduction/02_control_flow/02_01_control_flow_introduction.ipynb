{
 "cells": [
  {
   "cell_type": "markdown",
   "metadata": {
    "pycharm": {
     "name": "#%% md\n"
    }
   },
   "source": [
    "# Control flow\n",
    "\n",
    "In computer science, control flow is the order in which individual:\n",
    "* statements, \n",
    "* instructions, or\n",
    "* function calls \n",
    "\n",
    "of an imperative program are executed or evaluated.\n",
    "\n",
    "![Control flow](../images/02_01_control_flow.png)\n",
    "\n",
    "The control flow in Python is done using 4 spaces (indentation) to define the block of code that have to be considered. So the space in Python is part of the language and is used to define and change the meaning of the code.\n",
    "\n",
    "The **indentation** (4 spaces) in Python it's important!\n",
    "\n",
    "The main control flows that we will see in this notebook are:\n",
    "* if, elif, else;\n",
    "* for and list-comprehension;\n",
    "* while, break and continue;"
   ]
  }
 ],
 "metadata": {
  "kernelspec": {
   "display_name": "Python 3",
   "language": "python",
   "name": "python3"
  },
  "language_info": {
   "codemirror_mode": {
    "name": "ipython",
    "version": 3
   },
   "file_extension": ".py",
   "mimetype": "text/x-python",
   "name": "python",
   "nbconvert_exporter": "python",
   "pygments_lexer": "ipython3",
   "version": "3.8.2"
  }
 },
 "nbformat": 4,
 "nbformat_minor": 1
}
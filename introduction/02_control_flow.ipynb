{
 "cells": [
  {
   "cell_type": "markdown",
   "metadata": {
    "slideshow": {
     "slide_type": "slide"
    }
   },
   "source": [
    "# Control flow"
   ]
  },
  {
   "cell_type": "markdown",
   "metadata": {
    "slideshow": {
     "slide_type": "fragment"
    }
   },
   "source": [
    "In computer science, control flow is the order in which individual:\n",
    "* statements, \n",
    "* instructions or \n",
    "* function calls \n",
    "of an imperative program are executed or evaluated. \n",
    "\n",
    "The confrol flow in python is done using 4 spaces (indentation) to define the block of code that have to be considered. So the space in python is part of the language and is used to define and change the code meaning.\n",
    "\n",
    "The **indentation** (4 spaces) in python it's important!"
   ]
  },
  {
   "cell_type": "markdown",
   "metadata": {
    "slideshow": {
     "slide_type": "fragment"
    }
   },
   "source": [
    "The main Syntax that we will see in this notebook are:\n",
    "* if, elif, else;\n",
    "* for and list-comprehension;\n",
    "* while, break and continue;"
   ]
  },
  {
   "cell_type": "markdown",
   "metadata": {
    "slideshow": {
     "slide_type": "slide"
    }
   },
   "source": [
    "## if, elif, else"
   ]
  },
  {
   "cell_type": "markdown",
   "metadata": {},
   "source": [
    "The words: `if`, `elif` and `else` are you used to decide what to do when a certain condition is verified / true.\n",
    "The syntax in pseudo code is (ignore the content in the {}):\n",
    "\n",
    "```python\n",
    "if {condition}:           # <= note the `:`\n",
    "    {do something}\n",
    "elif {other condition}:   # <= note the `:`\n",
    "    {manage this case}\n",
    "else:                     # <= note the `:`\n",
    "    {do other things}\n",
    "```\n"
   ]
  },
  {
   "cell_type": "markdown",
   "metadata": {
    "slideshow": {
     "slide_type": "subslide"
    }
   },
   "source": [
    "Use a if condition to assign a variable:\n",
    "\n",
    "```python\n",
    "{variable} = {value if true} if {condition} else {value if false}\n",
    "```"
   ]
  },
  {
   "cell_type": "markdown",
   "metadata": {},
   "source": [
    "As an example we want to define a code to recognise if a number is odd or even, to do so we need to use the `%` operator, and undertand what to do under which condition. Just a small recap from the previous lesson:"
   ]
  },
  {
   "cell_type": "code",
   "execution_count": null,
   "metadata": {},
   "outputs": [],
   "source": [
    "1 % 2"
   ]
  },
  {
   "cell_type": "code",
   "execution_count": null,
   "metadata": {},
   "outputs": [],
   "source": [
    "2 % 2"
   ]
  },
  {
   "cell_type": "code",
   "execution_count": null,
   "metadata": {},
   "outputs": [],
   "source": [
    "3 % 3"
   ]
  },
  {
   "cell_type": "code",
   "execution_count": null,
   "metadata": {},
   "outputs": [],
   "source": [
    "5 % 3"
   ]
  },
  {
   "cell_type": "markdown",
   "metadata": {},
   "source": [
    "Please notice that in python:"
   ]
  },
  {
   "cell_type": "code",
   "execution_count": null,
   "metadata": {},
   "outputs": [],
   "source": [
    "bool(0)"
   ]
  },
  {
   "cell_type": "code",
   "execution_count": null,
   "metadata": {},
   "outputs": [],
   "source": [
    "bool(1)"
   ]
  },
  {
   "cell_type": "code",
   "execution_count": null,
   "metadata": {},
   "outputs": [],
   "source": [
    "bool(5)"
   ]
  },
  {
   "cell_type": "markdown",
   "metadata": {},
   "source": [
    "Now is time for coding:"
   ]
  },
  {
   "cell_type": "code",
   "execution_count": null,
   "metadata": {},
   "outputs": [],
   "source": [
    "# define a numerica variable\n",
    "number = 2\n",
    "\n",
    "# check if the module of the number is \n",
    "if number % 2:\n",
    "    print(f\"{number} is odd!\")\n",
    "else:\n",
    "    print(f\"{number} is even!\")\n"
   ]
  },
  {
   "cell_type": "markdown",
   "metadata": {},
   "source": [
    "We can also write the code in the following line:"
   ]
  },
  {
   "cell_type": "code",
   "execution_count": null,
   "metadata": {},
   "outputs": [],
   "source": [
    "number = 2\n",
    "\n",
    "print(f\"{number} is {'odd' if number % 2 else 'even'}!\")"
   ]
  },
  {
   "cell_type": "markdown",
   "metadata": {},
   "source": [
    "The code is simple and nice, however it works only for number that are integer, the float number that are not finite are not handeled."
   ]
  },
  {
   "cell_type": "code",
   "execution_count": null,
   "metadata": {
    "slideshow": {
     "slide_type": "subslide"
    }
   },
   "outputs": [],
   "source": [
    "number = float(\"inf\")\n",
    "\n",
    "modulo = number % 2\n",
    "# check if the module of the number is \n",
    "if modulo:\n",
    "    print(f\"{number} is odd!\")\n",
    "else:\n",
    "    print(f\"{number} is even!\")"
   ]
  },
  {
   "cell_type": "markdown",
   "metadata": {},
   "source": [
    "### Time for coding!"
   ]
  },
  {
   "cell_type": "markdown",
   "metadata": {},
   "source": [
    "Change the above code to properly classified the number in:\n",
    "* nan\n",
    "* inf\n",
    "* odd\n",
    "* even\n",
    "\n",
    "But before start let's have a look on how to properly compare `inf` and `nan` values."
   ]
  },
  {
   "cell_type": "code",
   "execution_count": null,
   "metadata": {},
   "outputs": [],
   "source": [
    "float(\"inf\") == float(\"inf\")"
   ]
  },
  {
   "cell_type": "code",
   "execution_count": null,
   "metadata": {},
   "outputs": [],
   "source": [
    "float(\"nan\") == float(\"nan\")"
   ]
  },
  {
   "cell_type": "markdown",
   "metadata": {},
   "source": [
    "The NaN - NaN comparison is set to false by the [IEEE754](www.cs.berkeley.edu/~wkahan/ieee754status/IEEE754.PDF).\n",
    "\n",
    "NaN is designed to propagate through all calculations, therefore they decide to make this comparison equal to: `False`.\n",
    "Therefore to compare this special floating number we need to use a function.\n",
    "This function is defined in the `math` module of the python standard library."
   ]
  },
  {
   "cell_type": "code",
   "execution_count": null,
   "metadata": {},
   "outputs": [],
   "source": [
    "import math  # import a library\n",
    "\n",
    "math.isnan(float(\"nan\"))  # get access to the library variables / functions and classes using the `.`"
   ]
  },
  {
   "cell_type": "code",
   "execution_count": null,
   "metadata": {},
   "outputs": [],
   "source": [
    "# or in alternative specify what must be imported\n",
    "from math import isfinite, isnan"
   ]
  },
  {
   "cell_type": "code",
   "execution_count": null,
   "metadata": {},
   "outputs": [],
   "source": [
    "isfinite(float(\"inf\"))"
   ]
  },
  {
   "cell_type": "code",
   "execution_count": null,
   "metadata": {},
   "outputs": [],
   "source": [
    "isnan(float(\"nan\"))"
   ]
  },
  {
   "cell_type": "markdown",
   "metadata": {},
   "source": [
    "Write your code here:"
   ]
  },
  {
   "cell_type": "code",
   "execution_count": null,
   "metadata": {},
   "outputs": [],
   "source": [
    "number = float(\"inf\")\n",
    "\n",
    "modulo = number % 2\n",
    "\n",
    "# add your check here:\n",
    "# ...\n"
   ]
  },
  {
   "cell_type": "markdown",
   "metadata": {
    "slideshow": {
     "slide_type": "slide"
    }
   },
   "source": [
    "## cycle for"
   ]
  },
  {
   "cell_type": "markdown",
   "metadata": {},
   "source": [
    "Computer are pretty good in doing repetitive tasks, therefore with every language you will be able to define a for loop.\n",
    "The for loop are use to repeat several time something, here the general syntax in pseudo-code is:\n",
    "\n",
    "```python\n",
    "for {variable} in {something that is iterable}:  # <= note the `:`\n",
    "    {do something}\n",
    "```\n",
    "As an example we can apply the code define in the previous code to check if a list of numbers are odd or even:"
   ]
  },
  {
   "cell_type": "code",
   "execution_count": null,
   "metadata": {},
   "outputs": [],
   "source": [
    "numbers = [1, 2, 3, 4, 5, 6.5, 7.0, ]\n",
    "\n",
    "for number in numbers:\n",
    "    print(f\"{number} is {'odd' if number % 2 else 'even'}!\")"
   ]
  },
  {
   "cell_type": "code",
   "execution_count": null,
   "metadata": {},
   "outputs": [],
   "source": [
    "numbers = [1, 2, 3, 4, 5, 6, float(\"nan\"), float(\"-inf\")]\n",
    "\n",
    "for number in numbers:\n",
    "    # add your code here:\n",
    "    # ..."
   ]
  },
  {
   "cell_type": "markdown",
   "metadata": {},
   "source": [
    "It is possible to nest more cycle together."
   ]
  },
  {
   "cell_type": "code",
   "execution_count": null,
   "metadata": {},
   "outputs": [],
   "source": [
    "for odd in [1, 3, 5, 7]:\n",
    "    for even in [1, 2]:\n",
    "        number = odd * even\n",
    "        print(f\"{number} is {'odd' if number % 2 else 'even'}!\")"
   ]
  },
  {
   "cell_type": "markdown",
   "metadata": {
    "slideshow": {
     "slide_type": "slide"
    }
   },
   "source": [
    "## List comprehension"
   ]
  },
  {
   "cell_type": "code",
   "execution_count": null,
   "metadata": {},
   "outputs": [],
   "source": [
    "colors = \"red\", \"green\", \"blue\""
   ]
  },
  {
   "cell_type": "code",
   "execution_count": null,
   "metadata": {},
   "outputs": [],
   "source": [
    "[(color, len(color)) for color in colors]"
   ]
  },
  {
   "cell_type": "markdown",
   "metadata": {
    "slideshow": {
     "slide_type": "subslide"
    }
   },
   "source": [
    "List comprehension with a if condition"
   ]
  },
  {
   "cell_type": "code",
   "execution_count": null,
   "metadata": {},
   "outputs": [],
   "source": [
    "[(color, len(color)) for color in colors if len(color) > 3]"
   ]
  },
  {
   "cell_type": "code",
   "execution_count": null,
   "metadata": {},
   "outputs": [],
   "source": []
  },
  {
   "cell_type": "markdown",
   "metadata": {
    "slideshow": {
     "slide_type": "subslide"
    }
   },
   "source": [
    "We can defie also nested cycles"
   ]
  },
  {
   "cell_type": "code",
   "execution_count": null,
   "metadata": {},
   "outputs": [],
   "source": []
  },
  {
   "cell_type": "code",
   "execution_count": null,
   "metadata": {
    "slideshow": {
     "slide_type": "fragment"
    }
   },
   "outputs": [],
   "source": [
    "[(i, j) for i in [1, 3, 5] for j in [2, 4, 6]]"
   ]
  },
  {
   "cell_type": "code",
   "execution_count": null,
   "metadata": {
    "slideshow": {
     "slide_type": "fragment"
    }
   },
   "outputs": [],
   "source": [
    "[[(i, j) for i in [1, 3, 5]] for j in [2, 4, 6]]"
   ]
  },
  {
   "cell_type": "markdown",
   "metadata": {},
   "source": [
    "Functions often used on python cycle\n",
    "===============\n",
    "\n",
    "* range\n",
    "* enumerate\n",
    "* zip\n"
   ]
  },
  {
   "cell_type": "code",
   "execution_count": null,
   "metadata": {},
   "outputs": [],
   "source": [
    "range(5, 10)  # return an iterator"
   ]
  },
  {
   "cell_type": "code",
   "execution_count": null,
   "metadata": {},
   "outputs": [],
   "source": [
    "list(range(5, 10))  # convert an iterator to list"
   ]
  },
  {
   "cell_type": "code",
   "execution_count": null,
   "metadata": {},
   "outputs": [],
   "source": [
    "list(range(5, 20, 3))"
   ]
  },
  {
   "cell_type": "code",
   "execution_count": null,
   "metadata": {},
   "outputs": [],
   "source": [
    "[(i, char) for i, char in enumerate('mytext')]"
   ]
  },
  {
   "cell_type": "code",
   "execution_count": null,
   "metadata": {},
   "outputs": [],
   "source": [
    "[(i, char) for i, char in zip('abcd', range(4))]"
   ]
  },
  {
   "cell_type": "markdown",
   "metadata": {
    "slideshow": {
     "slide_type": "slide"
    }
   },
   "source": [
    "### Hands on!"
   ]
  },
  {
   "cell_type": "markdown",
   "metadata": {},
   "source": [
    "Using the list comprehension return a list of tuple with the pairs key and value, of contact. [2 minutes], like:\n",
    "\n",
    "    [('pietro', 333123808), ('jonh', 123123123)]\n",
    "\n"
   ]
  },
  {
   "cell_type": "code",
   "execution_count": null,
   "metadata": {
    "slideshow": {
     "slide_type": "fragment"
    }
   },
   "outputs": [],
   "source": []
  },
  {
   "cell_type": "markdown",
   "metadata": {
    "slideshow": {
     "slide_type": "slide"
    }
   },
   "source": [
    "## while"
   ]
  },
  {
   "cell_type": "markdown",
   "metadata": {},
   "source": [
    "A special type of for loop that is often use when programming is the `while`. The pseudo-syntax is:\n",
    "\n",
    "```python\n",
    "while {confition}:\n",
    "    {do something}\n",
    "```"
   ]
  },
  {
   "cell_type": "code",
   "execution_count": null,
   "metadata": {},
   "outputs": [],
   "source": [
    "# initialize a variable\n",
    "x = 0\n",
    "# condition, brak the cycle when False\n",
    "while x < 4:\n",
    "    print('a' * x)\n",
    "    x += 1"
   ]
  },
  {
   "cell_type": "markdown",
   "metadata": {
    "slideshow": {
     "slide_type": "slide"
    }
   },
   "source": [
    "## continue and break"
   ]
  },
  {
   "cell_type": "markdown",
   "metadata": {},
   "source": [
    "Sometimes is useful interupt the cycle:"
   ]
  },
  {
   "cell_type": "code",
   "execution_count": null,
   "metadata": {},
   "outputs": [],
   "source": [
    "from random import randint\n",
    "\n",
    "while True:  # infinite loop\n",
    "    number = randint(0, 9)\n",
    "    print(f\"{number} is {'odd' if number % 2 else 'even'}!\")"
   ]
  },
  {
   "cell_type": "code",
   "execution_count": null,
   "metadata": {},
   "outputs": [],
   "source": [
    "counter = 0\n",
    "\n",
    "while True:  # infinite loop\n",
    "    number = randint(0, 9)\n",
    "    print(f\"{number} is {'odd' if number % 2 else 'even'}!\")\n",
    "    counter += 1\n",
    "    if counter > 10:\n",
    "        break"
   ]
  },
  {
   "cell_type": "code",
   "execution_count": null,
   "metadata": {},
   "outputs": [],
   "source": [
    "counter = 0\n",
    "\n",
    "while True:  # infinite loop\n",
    "    number = randint(0, 9)\n",
    "    if number % 2:\n",
    "        continue\n",
    "    print(f\"{number} is {'odd' if number % 2 else 'even'}!\")\n",
    "    counter += 1\n",
    "    if counter > 10:\n",
    "        break"
   ]
  },
  {
   "cell_type": "markdown",
   "metadata": {
    "slideshow": {
     "slide_type": "slide"
    }
   },
   "source": [
    "## Try and except"
   ]
  },
  {
   "cell_type": "markdown",
   "metadata": {},
   "source": [
    "Python allow to manage the errors:"
   ]
  },
  {
   "cell_type": "code",
   "execution_count": null,
   "metadata": {
    "slideshow": {
     "slide_type": "subslide"
    }
   },
   "outputs": [],
   "source": [
    "numerator = 1\n",
    "denominator = 0. # change to 0\n",
    "try:\n",
    "    print(numerator/denominator)\n",
    "except ZeroDivisionError:\n",
    "    print(\"Divide a number with 0 is not a valid operation!\")\n",
    "else:\n",
    "    print(\"Here we are...\")\n",
    "finally:\n",
    "    print(\"Do something at the end\")"
   ]
  },
  {
   "cell_type": "code",
   "execution_count": null,
   "metadata": {
    "slideshow": {
     "slide_type": "subslide"
    }
   },
   "outputs": [],
   "source": [
    "numerator = 1\n",
    "denominator = 0.5 # change to 0\n",
    "try:\n",
    "    print(numerator/denominator)\n",
    "except ZeroDivisionError:\n",
    "    print(\"Divide a number with 0 is not a valid operation!\")\n",
    "else:\n",
    "    print(\"Here we are...\")\n",
    "finally:\n",
    "    print(\"Do something at the end\")"
   ]
  },
  {
   "cell_type": "markdown",
   "metadata": {},
   "source": [
    "# Open a file"
   ]
  },
  {
   "cell_type": "code",
   "execution_count": null,
   "metadata": {},
   "outputs": [],
   "source": [
    "with open('latlon.py', mode='r') as llfile:\n",
    "    print(llfile.readline(), end='')\n",
    "    print(llfile.readline(), end='')\n",
    "    print(llfile.readline(), end='')\n",
    "    print('\\n------ cycling over the remaining rows -------\\n')\n",
    "    for row in llfile:\n",
    "        print(row, end='')\n"
   ]
  },
  {
   "cell_type": "code",
   "execution_count": null,
   "metadata": {},
   "outputs": [],
   "source": [
    "llfile = open('latlon.py', mode='r')\n",
    "print(llfile.readline(), end='')\n",
    "print(llfile.readline(), end='')\n",
    "llfile.close()"
   ]
  },
  {
   "cell_type": "markdown",
   "metadata": {},
   "source": [
    "# Some useful libraries"
   ]
  },
  {
   "cell_type": "code",
   "execution_count": null,
   "metadata": {},
   "outputs": [],
   "source": [
    "import os"
   ]
  },
  {
   "cell_type": "code",
   "execution_count": null,
   "metadata": {},
   "outputs": [],
   "source": [
    "os.listdir()"
   ]
  },
  {
   "cell_type": "code",
   "execution_count": null,
   "metadata": {},
   "outputs": [],
   "source": [
    "os.mkdir('test_dir')"
   ]
  },
  {
   "cell_type": "code",
   "execution_count": null,
   "metadata": {},
   "outputs": [],
   "source": [
    "'test_dir' in os.listdir()"
   ]
  },
  {
   "cell_type": "code",
   "execution_count": null,
   "metadata": {},
   "outputs": [],
   "source": [
    "os.path.isdir('test_dir')"
   ]
  },
  {
   "cell_type": "code",
   "execution_count": null,
   "metadata": {},
   "outputs": [],
   "source": [
    "os.path.isfile('test_dir')"
   ]
  },
  {
   "cell_type": "code",
   "execution_count": null,
   "metadata": {},
   "outputs": [],
   "source": [
    "os.path.join('pippo', 'pluto', 'minni')"
   ]
  },
  {
   "cell_type": "code",
   "execution_count": null,
   "metadata": {},
   "outputs": [],
   "source": [
    "import fnmatch"
   ]
  },
  {
   "cell_type": "code",
   "execution_count": null,
   "metadata": {},
   "outputs": [],
   "source": [
    "fnmatch.filter(os.listdir(), '*.ipynb')"
   ]
  },
  {
   "cell_type": "markdown",
   "metadata": {},
   "source": [
    "# Object references are passed by value"
   ]
  },
  {
   "cell_type": "code",
   "execution_count": null,
   "metadata": {},
   "outputs": [],
   "source": [
    "intA = 0\n",
    "intB = intA\n",
    "intB = 1\n",
    "print(intA, intB)"
   ]
  },
  {
   "cell_type": "code",
   "execution_count": null,
   "metadata": {},
   "outputs": [],
   "source": [
    "listA = [0, ]\n",
    "listB = listA\n",
    "listB.append(1)\n",
    "print(listA)"
   ]
  },
  {
   "cell_type": "code",
   "execution_count": null,
   "metadata": {},
   "outputs": [],
   "source": [
    "def append2list(l):\n",
    "    l.append('something')\n",
    "    \n",
    "l = []\n",
    "append2list(l)\n",
    "print(l)"
   ]
  },
  {
   "cell_type": "code",
   "execution_count": null,
   "metadata": {},
   "outputs": [],
   "source": [
    "def append2string(s):\n",
    "    s += ' and some more'\n",
    "    print('inside the function:', s)\n",
    "    \n",
    "s = 'some characters'\n",
    "append2string(s)\n",
    "print(s)"
   ]
  },
  {
   "cell_type": "markdown",
   "metadata": {},
   "source": [
    "# Hands on"
   ]
  },
  {
   "cell_type": "markdown",
   "metadata": {},
   "source": [
    "Go to: https://www.openstreetmap.org/traces\n",
    "Dowload a GPSX track.\n",
    "\n",
    "Convert the GPSX file to CSV with:\n",
    "    \n",
    "    ! python latlon.py your.gpx your.csv\n",
    "    \n",
    "Start reading and analysing the file to classify if the track has been taken: by car, by bike or on foot.\n",
    "    \n",
    "The file contains the first column with the time [s], latitude, longitude, and the elevation.\n",
    "\n",
    "    # time [s];lat;lon;ele\n",
    "    1431280446.0;0.12427333333333333;-78.62955333333333;1375.4\n",
    "    1431280459.0;0.12427333333333333;-78.62955333333333;1375.4\n",
    "    1431280466.0;0.12433000000000001;-78.62949;1379.0\n",
    "    1431280473.0;0.12429333333333334;-78.62947;1378.6\n",
    "    1431280480.0;0.124255;-78.629465;1375.1\n",
    "    1431280487.0;0.12424166666666667;-78.629455;1373.1\n",
    "    1431280489.0;0.12424166666666667;-78.62945;1373.3\n",
    "    1431280499.0;0.12423833333333333;-78.629375;1372.5\n",
    "    1431280506.0;0.12423000000000001;-78.629335;1375.6\n",
    "\n",
    "\n",
    "To compute the distance between two points import the function haversine from the latlon file:   "
   ]
  },
  {
   "cell_type": "code",
   "execution_count": null,
   "metadata": {},
   "outputs": [],
   "source": [
    "from latlon import haversine\n",
    "\n",
    "print(haversine(0.124273, -78.629553, 0.12423, -78.629335))"
   ]
  },
  {
   "cell_type": "code",
   "execution_count": null,
   "metadata": {},
   "outputs": [],
   "source": []
  }
 ],
 "metadata": {
  "kernelspec": {
   "display_name": "Python 3",
   "language": "python",
   "name": "python3"
  },
  "language_info": {
   "codemirror_mode": {
    "name": "ipython",
    "version": 3
   },
   "file_extension": ".py",
   "mimetype": "text/x-python",
   "name": "python",
   "nbconvert_exporter": "python",
   "pygments_lexer": "ipython3",
   "version": "3.8.5"
  }
 },
 "nbformat": 4,
 "nbformat_minor": 1
}
